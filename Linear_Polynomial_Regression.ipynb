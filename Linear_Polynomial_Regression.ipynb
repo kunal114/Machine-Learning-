{
  "nbformat": 4,
  "nbformat_minor": 0,
  "metadata": {
    "colab": {
      "name": "Linear_Polynomial_Regression.ipynb",
      "provenance": [],
      "collapsed_sections": [],
      "mount_file_id": "1UQwQ00Ko9nVyMNLFBeY9mt45MAEyTBRa",
      "authorship_tag": "ABX9TyNIRvrzs6TCvlg1hFXZkjzH",
      "include_colab_link": true
    },
    "kernelspec": {
      "name": "python3",
      "display_name": "Python 3"
    },
    "language_info": {
      "name": "python"
    }
  },
  "cells": [
    {
      "cell_type": "markdown",
      "metadata": {
        "id": "view-in-github",
        "colab_type": "text"
      },
      "source": [
        "<a href=\"https://colab.research.google.com/github/kunal114/Machine-Learning-/blob/master/Linear_Polynomial_Regression.ipynb\" target=\"_parent\"><img src=\"https://colab.research.google.com/assets/colab-badge.svg\" alt=\"Open In Colab\"/></a>"
      ]
    },
    {
      "cell_type": "code",
      "source": [
        "from google.colab import drive\n",
        "drive.mount('/content/drive')"
      ],
      "metadata": {
        "colab": {
          "base_uri": "https://localhost:8080/"
        },
        "id": "K7zbbTcfLmR5",
        "outputId": "f8ffa681-442e-4d87-9a5b-296b7cf7fe24"
      },
      "execution_count": null,
      "outputs": [
        {
          "output_type": "stream",
          "name": "stdout",
          "text": [
            "Mounted at /content/drive\n"
          ]
        }
      ]
    },
    {
      "cell_type": "code",
      "source": [
        "#import libraries\n",
        "import numpy as np\n",
        "import pandas as pd\n",
        "import matplotlib.pyplot as plt"
      ],
      "metadata": {
        "id": "sKrbuXYaLnEb"
      },
      "execution_count": null,
      "outputs": []
    },
    {
      "cell_type": "code",
      "source": [
        "#import dataset\n",
        "df= pd.read_csv('/content/drive/MyDrive/Machine Learning A-Z (Codes and Datasets)/Part 2 - Regression/Section 6 - Polynomial Regression/Python/Position_Salaries.csv')\n",
        "print(df.head(5))\n"
      ],
      "metadata": {
        "colab": {
          "base_uri": "https://localhost:8080/"
        },
        "id": "74bIwHygL9Zs",
        "outputId": "7975ea81-032b-41ef-d25b-0ce231c8264d"
      },
      "execution_count": null,
      "outputs": [
        {
          "output_type": "stream",
          "name": "stdout",
          "text": [
            "            Position  Level  Salary\n",
            "0   Business Analyst      1   45000\n",
            "1  Junior Consultant      2   50000\n",
            "2  Senior Consultant      3   60000\n",
            "3            Manager      4   80000\n",
            "4    Country Manager      5  110000\n"
          ]
        }
      ]
    },
    {
      "cell_type": "code",
      "source": [
        "x= df.iloc[:,1:-1].values #level as job position is a redundant column\n",
        "y= df.iloc[:,-1].values\n",
        "print(x,y)"
      ],
      "metadata": {
        "colab": {
          "base_uri": "https://localhost:8080/"
        },
        "id": "WbcM4k5QMGzn",
        "outputId": "cfa3fcee-80b5-4db7-972c-853c72ab1135"
      },
      "execution_count": null,
      "outputs": [
        {
          "output_type": "stream",
          "name": "stdout",
          "text": [
            "[[ 1]\n",
            " [ 2]\n",
            " [ 3]\n",
            " [ 4]\n",
            " [ 5]\n",
            " [ 6]\n",
            " [ 7]\n",
            " [ 8]\n",
            " [ 9]\n",
            " [10]] [  45000   50000   60000   80000  110000  150000  200000  300000  500000\n",
            " 1000000]\n"
          ]
        }
      ]
    },
    {
      "cell_type": "code",
      "source": [
        "# #We dont use this in poly regression \n",
        "# #handling missing values\n",
        "# from sklearn.impute import SimpleImputer\n",
        "# imp = SimpleImputer(missing_values=np.nan, strategy=\"mean\")\n",
        "# imp.fit(x[:,1:])\n",
        "# x[:,1:]=imp.transform(x[:,1:])\n",
        "# print(x)"
      ],
      "metadata": {
        "id": "NGIPYmjbMQYs"
      },
      "execution_count": null,
      "outputs": []
    },
    {
      "cell_type": "code",
      "source": [
        "# # Categorical data\n",
        "# # There is no categorical data \n",
        "# from sklearn.compose import ColumnTransformer\n",
        "# from sklearn.preprocessing import OneHotEncoder\n",
        "# ct = ColumnTransformer(transformers=[('encoder', OneHotEncoder(),[0])],remainder='passthrough')\n",
        "# x= np.array(ct.fit_transform(x))\n",
        "# print(x)"
      ],
      "metadata": {
        "id": "Cl5vAXBYMk-B"
      },
      "execution_count": null,
      "outputs": []
    },
    {
      "cell_type": "code",
      "source": [
        "#Splitting of training and test data\n"
      ],
      "metadata": {
        "id": "frFGJ46yNuwg"
      },
      "execution_count": null,
      "outputs": []
    },
    {
      "cell_type": "code",
      "source": [
        "#Training the linear regression model on the whole dataset\n",
        "from sklearn.linear_model import LinearRegression\n",
        "lin_reg= LinearRegression()\n",
        "lin_reg.fit(x,y)"
      ],
      "metadata": {
        "colab": {
          "base_uri": "https://localhost:8080/"
        },
        "id": "qLyLatLtvIAr",
        "outputId": "d9a7b899-e83d-4013-d21b-2e97784457ed"
      },
      "execution_count": null,
      "outputs": [
        {
          "output_type": "execute_result",
          "data": {
            "text/plain": [
              "LinearRegression()"
            ]
          },
          "metadata": {},
          "execution_count": 21
        }
      ]
    },
    {
      "cell_type": "code",
      "source": [
        "#Training the polynomial reg model on the whole dataset\n",
        "from sklearn.preprocessing import PolynomialFeatures\n",
        "poly_reg= PolynomialFeatures(degree=2)\n",
        "x_poly= poly_reg.fit_transform(x)\n",
        "lin_reg1= LinearRegression()\n",
        "lin_reg1.fit(x_poly,y)"
      ],
      "metadata": {
        "colab": {
          "base_uri": "https://localhost:8080/"
        },
        "id": "aPhx7cIevixI",
        "outputId": "571e2bc0-03a6-45f5-8dd9-393022b0f9a4"
      },
      "execution_count": null,
      "outputs": [
        {
          "output_type": "execute_result",
          "data": {
            "text/plain": [
              "LinearRegression()"
            ]
          },
          "metadata": {},
          "execution_count": 23
        }
      ]
    },
    {
      "cell_type": "code",
      "source": [
        "#Visualizing the linear model\n",
        "plt.scatter(x,y,color='red')\n",
        "plt.plot(x,lin_reg.predict(x),color='blue')\n",
        "plt.title('Job Level v/s Salary(Linear Regression)')\n",
        "plt.xlabel('Job Level')\n",
        "plt.ylabel('Salary')\n",
        "plt.show()"
      ],
      "metadata": {
        "colab": {
          "base_uri": "https://localhost:8080/",
          "height": 295
        },
        "id": "VA1ECeeCxAcb",
        "outputId": "ef81020d-6b51-4291-a91a-eb00cd4d86c1"
      },
      "execution_count": null,
      "outputs": [
        {
          "output_type": "display_data",
          "data": {
            "image/png": "[encoded data removed]",
            "text/plain": [
              "<Figure size 432x288 with 1 Axes>"
            ]
          },
          "metadata": {
            "needs_background": "light"
          }
        }
      ]
    },
    {
      "cell_type": "code",
      "source": [
        "#Visualizing the poly reg model\n",
        "plt.scatter(x,y,color='red')\n",
        "plt.plot(x,lin_reg1.predict(x_poly),color='blue')\n",
        "plt.title('Job Level v/s Salary(Poly Linear Regression)')\n",
        "plt.xlabel('Job Level')\n",
        "plt.ylabel('Salary')\n",
        "plt.show()"
      ],
      "metadata": {
        "colab": {
          "base_uri": "https://localhost:8080/",
          "height": 295
        },
        "id": "BwdQLIefyX7B",
        "outputId": "c2596d63-3281-46b6-c50b-64e09e8f7d48"
      },
      "execution_count": null,
      "outputs": [
        {
          "output_type": "display_data",
          "data": {
            "image/png": "[encoded data removed]",
            "text/plain": [
              "<Figure size 432x288 with 1 Axes>"
            ]
          },
          "metadata": {
            "needs_background": "light"
          }
        }
      ]
    },
    {
      "cell_type": "code",
      "source": [
        "#predicting the results with linear and poly models\n",
        "print(lin_reg.predict([[5.5],[6.5]]))"
      ],
      "metadata": {
        "colab": {
          "base_uri": "https://localhost:8080/"
        },
        "id": "ehCA7UbCyz8i",
        "outputId": "f3811b55-7ae9-4aff-a6e3-f02110eba494"
      },
      "execution_count": null,
      "outputs": [
        {
          "output_type": "stream",
          "name": "stdout",
          "text": [
            "[249500.         330378.78787879]\n"
          ]
        }
      ]
    },
    {
      "cell_type": "code",
      "source": [
        "print(lin_reg1.predict(poly_reg.fit_transform([[5.5],[6.5]])))"
      ],
      "metadata": {
        "colab": {
          "base_uri": "https://localhost:8080/"
        },
        "id": "cTSEANdC0SD9",
        "outputId": "4b565f73-22c3-43c7-d059-98e5a0b54076"
      },
      "execution_count": null,
      "outputs": [
        {
          "output_type": "stream",
          "name": "stdout",
          "text": [
            "[ 89187.5        189498.10606061]\n"
          ]
        }
      ]
    }
  ]
}