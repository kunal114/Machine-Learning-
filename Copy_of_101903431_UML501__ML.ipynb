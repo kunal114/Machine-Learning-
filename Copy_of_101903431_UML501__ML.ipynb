{
  "nbformat": 4,
  "nbformat_minor": 0,
  "metadata": {
    "colab": {
      "name": "Copy of 101903431_UML501_ ML.ipynb",
      "provenance": [],
      "collapsed_sections": [
        "thHV4fs2ds3b",
        "xWaSr2G0yB6h",
        "qVYvkoat4qpO",
        "h9Et32yx6HOl",
        "M99IWC4MS7AQ",
        "USjyITD_SEkP",
        "B7Rlfvg1G3-q",
        "WZlVN0c3L25o",
        "tdhnEsJnlzky",
        "PMS2MBKw3dfz",
        "Bmf5lTXFMuIc"
      ],
      "include_colab_link": true
    },
    "kernelspec": {
      "display_name": "Python 3",
      "name": "python3"
    },
    "language_info": {
      "name": "python"
    }
  },
  "cells": [
    {
      "cell_type": "markdown",
      "metadata": {
        "id": "view-in-github",
        "colab_type": "text"
      },
      "source": [
        "<a href=\"https://colab.research.google.com/github/kunal114/Machine-Learning-/blob/master/Copy_of_101903431_UML501__ML.ipynb\" target=\"_parent\"><img src=\"https://colab.research.google.com/assets/colab-badge.svg\" alt=\"Open In Colab\"/></a>"
      ]
    },
    {
      "cell_type": "markdown",
      "metadata": {
        "id": "-xoJOHp4fWNK"
      },
      "source": [
        "\n",
        "# **Name:Jatin Goyal**\n",
        "\n",
        "\n",
        "# **Roll No:101903431**\n",
        "\n",
        "\n",
        "\n",
        "# **Batch:CO17**\n"
      ]
    },
    {
      "cell_type": "markdown",
      "metadata": {
        "id": "thHV4fs2ds3b"
      },
      "source": [
        "# Assignment 1"
      ]
    },
    {
      "cell_type": "markdown",
      "metadata": {
        "id": "UKus9CSmtLGp"
      },
      "source": [
        "Q1. Split this string s = \"Hi there Class!\" into a list."
      ]
    },
    {
      "cell_type": "code",
      "metadata": {
        "colab": {
          "base_uri": "https://localhost:8080/"
        },
        "id": "21QK98Y4tI2E",
        "outputId": "2fda7609-3956-4243-b7d9-d175bf28a42f"
      },
      "source": [
        "#ques1\n",
        "s=\"Hi there class!\"\n",
        "L=s.split(\" \")\n",
        "print(L)"
      ],
      "execution_count": null,
      "outputs": [
        {
          "output_type": "stream",
          "name": "stdout",
          "text": [
            "['Hi', 'there', 'class!']\n"
          ]
        }
      ]
    },
    {
      "cell_type": "markdown",
      "metadata": {
        "id": "mjt57arrtcep"
      },
      "source": [
        "Q2. Given the variables planet = \"Earth\" diameter = 12742 Use .format() to print the following string: \n",
        "The diameter of Earth is 12742 kilometers"
      ]
    },
    {
      "cell_type": "code",
      "metadata": {
        "colab": {
          "base_uri": "https://localhost:8080/"
        },
        "id": "zJY0U0FrtNPx",
        "outputId": "7ee75a44-739b-49be-c452-d499450241a0"
      },
      "source": [
        "#ques2\n",
        "planet = \"Earth\"\n",
        "diameter = 12742\n",
        "\n",
        "#M1\n",
        "print(\"The Diameter of the {} is {} kilometres\".format(planet,diameter))\n",
        "#M2\n",
        "print(\"The Diameter of the {1} is {0} kilometres\".format(diameter,planet))\n",
        "print(f\"The Diameter of the {planet} is {diameter} kilometres\",)"
      ],
      "execution_count": null,
      "outputs": [
        {
          "output_type": "stream",
          "name": "stdout",
          "text": [
            "The Diameter of the Earth is 12742 kilometres\n",
            "The Diameter of the Earth is 12742 kilometres\n",
            "The Diameter of the Earth is 12742 kilometres\n"
          ]
        }
      ]
    },
    {
      "cell_type": "markdown",
      "metadata": {
        "id": "oobZuA1ntNV0"
      },
      "source": [
        "Q3. Given this nested list, use indexing to grab the word \"hello\" lst = [1,2,[3,4],[5,[100,200,['hello']],23,11],1,7]"
      ]
    },
    {
      "cell_type": "code",
      "metadata": {
        "colab": {
          "base_uri": "https://localhost:8080/"
        },
        "id": "afkN3qmztNe2",
        "outputId": "c416afdc-d5e2-4983-8135-96f910599ab5"
      },
      "source": [
        "#ques3\n",
        "lst=[1,2,[3,4],[5,[100,200,['hello']],23,11],1,7]\n",
        "#method1\n",
        "print(lst[3][1][2][0])\n",
        "#method2\n",
        "print(lst[3][1][-1][0])"
      ],
      "execution_count": null,
      "outputs": [
        {
          "name": "stdout",
          "output_type": "stream",
          "text": [
            "hello\n",
            "hello\n"
          ]
        }
      ]
    },
    {
      "cell_type": "markdown",
      "metadata": {
        "id": "_CcqBM0BtNzF"
      },
      "source": [
        "Q4. Given this nested dictionary grab the word \"hello\". d = {'k1':[1,2,3,{'tricky':['oh','man','inception',{'target':[1,2,3,'hello']}]}]}\n",
        "\n"
      ]
    },
    {
      "cell_type": "code",
      "metadata": {
        "colab": {
          "base_uri": "https://localhost:8080/"
        },
        "id": "AUiE92UKtN6U",
        "outputId": "260eae53-b10f-4a46-8d46-d0530a5f9b40"
      },
      "source": [
        "#ques4\n",
        "d={'k1':[1,2,3,{'tricky':\n",
        "                ['oh','man','inception',{'target':\n",
        "                                         [1,2,3,'hello']}]}]}\n",
        "print(d['k1'][3]['tricky'][3]['target'][3])"
      ],
      "execution_count": null,
      "outputs": [
        {
          "name": "stdout",
          "output_type": "stream",
          "text": [
            "hello\n"
          ]
        }
      ]
    },
    {
      "cell_type": "markdown",
      "metadata": {
        "id": "dy1lOnxntODI"
      },
      "source": [
        "Q5. Create a function that grabs the email website domain from a string in the form: user@domain.com"
      ]
    },
    {
      "cell_type": "code",
      "metadata": {
        "colab": {
          "base_uri": "https://localhost:8080/"
        },
        "id": "TPHd1LkdtOJ6",
        "outputId": "a94e30dd-919d-4668-9827-3ea94751839b"
      },
      "source": [
        "#ques5\n",
        "def myfun(s):\n",
        "  l=s.split('@')\n",
        "  print(l[1])\n",
        "myfun('user@domain.com')"
      ],
      "execution_count": null,
      "outputs": [
        {
          "output_type": "stream",
          "name": "stdout",
          "text": [
            "domain.com\n"
          ]
        }
      ]
    },
    {
      "cell_type": "markdown",
      "metadata": {
        "id": "IbyT4a7otOQI"
      },
      "source": [
        "Q6. Create a basic function that returns True if the word 'dog' is contained in the input string. "
      ]
    },
    {
      "cell_type": "code",
      "metadata": {
        "colab": {
          "base_uri": "https://localhost:8080/"
        },
        "id": "KiojPJq4tOW4",
        "outputId": "a29509e5-6144-4890-dfdf-631bb7045d93"
      },
      "source": [
        "#ques6 \n",
        "\n",
        "def checkString (s):\n",
        "  L = s.split(\" \")\n",
        "  i=0\n",
        "  while i < len(L):\n",
        "    if L[i]=='dog':\n",
        "      return True\n",
        "    i+=1\n",
        "  return False\n",
        "\n",
        "\n",
        "str1 = \"Tom is my dog\"\n",
        "print(checkString(str1))\n",
        "\n",
        "str2 = \"Tom is my doggy\"\n",
        "print(checkString(str2))"
      ],
      "execution_count": null,
      "outputs": [
        {
          "output_type": "stream",
          "name": "stdout",
          "text": [
            "True\n",
            "False\n"
          ]
        }
      ]
    },
    {
      "cell_type": "markdown",
      "metadata": {
        "id": "tAuxzIiMtOgo"
      },
      "source": [
        "Q7. Create a function that counts the number of times the word \"dog\" occurs in a string"
      ]
    },
    {
      "cell_type": "code",
      "metadata": {
        "colab": {
          "base_uri": "https://localhost:8080/"
        },
        "id": "BXoNeqFDtOno",
        "outputId": "f5e67400-76ca-487b-c9ca-587170ce59d7"
      },
      "source": [
        "#ques7\n",
        "def fun(s):\n",
        "  count=0\n",
        "  L=s.split(\" \")\n",
        "  l=len(L)\n",
        "  # print(l)\n",
        "  for i in range(0,l):\n",
        "    if L[i]==\"dog\":\n",
        "      count=count+1\n",
        "  return count\n",
        "fun(\"dog dog hello dog\")"
      ],
      "execution_count": null,
      "outputs": [
        {
          "data": {
            "text/plain": [
              "3"
            ]
          },
          "execution_count": 18,
          "metadata": {
            "tags": []
          },
          "output_type": "execute_result"
        }
      ]
    },
    {
      "cell_type": "markdown",
      "metadata": {
        "id": "qy0FQtRjdbbM"
      },
      "source": [
        "Q8. Use lambda expressions and the filter() function to filter out words from a list that don't start with the\n",
        "letter 's'.\n",
        "For example: seq = ['soup','dog','salad','cat','great']"
      ]
    },
    {
      "cell_type": "code",
      "metadata": {
        "colab": {
          "base_uri": "https://localhost:8080/"
        },
        "id": "6PeCUMiSdgZ2",
        "outputId": "770c6468-6a66-45e0-81b2-d90a3756b1e2"
      },
      "source": [
        "#ques8\n",
        "seq = ['soup','dog','salad','cat','great']\n",
        "list(filter(lambda x:x[0]!='s',seq))"
      ],
      "execution_count": null,
      "outputs": [
        {
          "data": {
            "text/plain": [
              "['dog', 'cat', 'great']"
            ]
          },
          "execution_count": 5,
          "metadata": {
            "tags": []
          },
          "output_type": "execute_result"
        }
      ]
    },
    {
      "cell_type": "markdown",
      "metadata": {
        "id": "E05hH8VcdhPa"
      },
      "source": [
        "Q9. You are driving a little too fast, and a police officer stops you. Write a function to return one of 3 possible results: \"No Challan\", \"Small Challan\", or \"Heavy Challan\". If your speed is 60 or less, the result is\n",
        "\"No Challan\". If speed is between 61 and 80 inclusive, the result is \"Small Challan\". If speed is 81 or mor\n",
        "e, the result is \"Heavy Challan\". Unless it is your birthday (encoded as a Boolean value in the parameters\n",
        "of the function) -- on your birthday, your speed can be 5 higher in all cases.\n",
        "caught_speeding(81,True)\n",
        "caught_speeding(81,False)"
      ]
    },
    {
      "cell_type": "code",
      "metadata": {
        "colab": {
          "base_uri": "https://localhost:8080/"
        },
        "id": "-qoPAgBJdhkL",
        "outputId": "a3c544a6-82b3-4514-d96f-4227c1ed2655"
      },
      "source": [
        "#ques9\n",
        "def caught_speeding(s,val):\n",
        "  if (s<=60 and val==False) or (s<=65 and val==True):\n",
        "    print(\"No Challan\")\n",
        "  elif (s>=61 and s<81) or (s<=66 and s<86 and val==True):\n",
        "    print(\"Small Challan\")\n",
        "  elif (s>=81 and val==False) or (s>=86 and val==True):\n",
        "    print(\"Heavy Challan\")\n",
        "caught_speeding(81,False)\n"
      ],
      "execution_count": null,
      "outputs": [
        {
          "name": "stdout",
          "output_type": "stream",
          "text": [
            "Heavy Challan\n"
          ]
        }
      ]
    },
    {
      "cell_type": "markdown",
      "metadata": {
        "id": "KniP9bHUdh_K"
      },
      "source": [
        "Q10. Concatenate two lists index-wise\n",
        "list1 = [\"M\", \"na\", \"i\", \"She\"]\n",
        "list2 = [\"y\", \"me\", \"s\", \"lly\"]\n",
        "Expected Outcome: ['My', 'name', 'is', 'Shelly']"
      ]
    },
    {
      "cell_type": "code",
      "metadata": {
        "colab": {
          "base_uri": "https://localhost:8080/"
        },
        "id": "t1r31_todiOL",
        "outputId": "099bd910-d0fc-4776-9694-0e0935763b51"
      },
      "source": [
        "#ques10\n",
        "\n",
        "L1 = [\"M\", \"na\", \"i\", \"She\"] \n",
        "L2 = [\"y\", \"me\", \"s\", \"lly\"]\n",
        "\n",
        "L=[]\n",
        "\n",
        "for i in range(0,len(L1)):\n",
        "  L.append(L1[i]+L2[i])\n",
        "\n",
        "print(L)"
      ],
      "execution_count": null,
      "outputs": [
        {
          "output_type": "stream",
          "name": "stdout",
          "text": [
            "['My', 'name', 'is', 'Shelly']\n"
          ]
        }
      ]
    },
    {
      "cell_type": "markdown",
      "metadata": {
        "id": "uEVQemwGds25"
      },
      "source": [
        "Q11. Concatenate two lists in the following order\n",
        "list1 = [\"Hello \", \"take \"]\n",
        "list2 = [\"Dear\", \"Sir\"]\n",
        "Expected Output: ['Hello Dear', 'Hello Sir', 'take Dear', 'take Sir']"
      ]
    },
    {
      "cell_type": "code",
      "metadata": {
        "colab": {
          "base_uri": "https://localhost:8080/"
        },
        "id": "ocyd8jPhdtA_",
        "outputId": "daf0fa83-84e1-433b-d000-e046f473517b"
      },
      "source": [
        "#ques11\n",
        "list1 = [\"Hello \", \"take \"]\n",
        "list2 = [\"Dear\", \"Sir\"]\n",
        "l=[]\n",
        "for i in range(0,len(list1)):\n",
        "  for j in range(0,len(list2)):\n",
        "    l.append(list1[i]+list2[j])\n",
        "print(l)"
      ],
      "execution_count": null,
      "outputs": [
        {
          "name": "stdout",
          "output_type": "stream",
          "text": [
            "['Hello Dear', 'Hello Sir', 'take Dear', 'take Sir']\n"
          ]
        }
      ]
    },
    {
      "cell_type": "markdown",
      "metadata": {
        "id": "puNZevepz45Q"
      },
      "source": [
        "Q12. Add item 7000 after 6000 in the following Python List\n",
        "list1 = [10, 20, [300, 400, [5000, 6000], 500], 30, 40]"
      ]
    },
    {
      "cell_type": "code",
      "metadata": {
        "colab": {
          "base_uri": "https://localhost:8080/"
        },
        "id": "g-G81omStO0g",
        "outputId": "eeab8744-27af-4d5e-df2c-2ba67f6c2482"
      },
      "source": [
        "#ques12\n",
        "list1 = [10, 20, [300, 400, [5000, 6000], 500], 30, 40]\n",
        "list1[2][2].insert(2,7000)\n",
        "print(list1)"
      ],
      "execution_count": null,
      "outputs": [
        {
          "output_type": "stream",
          "name": "stdout",
          "text": [
            "[10, 20, [300, 400, [5000, 6000, 7000], 500], 30, 40]\n"
          ]
        }
      ]
    },
    {
      "cell_type": "markdown",
      "metadata": {
        "id": "0Z5caliH2FWM"
      },
      "source": [
        "Q13. Given a Python list, remove all occurrence of 20 from the list\n",
        "list1 = [5, 20, 15, 20, 25, 50, 20]"
      ]
    },
    {
      "cell_type": "code",
      "metadata": {
        "colab": {
          "base_uri": "https://localhost:8080/"
        },
        "id": "OZ92K_QU2HOn",
        "outputId": "67e341ba-1938-4f1f-e676-a5560c335829"
      },
      "source": [
        "#ques13\n",
        "list1 = [5, 20, 15, 20, 25, 50, 20]\n",
        "while (20 in list1):\n",
        "  list1.remove(20)\n",
        "print(list1)\n",
        "#Another Method\n",
        "L=[i for i in list1 if i!=20]\n",
        "print(L)"
      ],
      "execution_count": null,
      "outputs": [
        {
          "output_type": "stream",
          "name": "stdout",
          "text": [
            "[5, 15, 25, 50]\n"
          ]
        }
      ]
    },
    {
      "cell_type": "markdown",
      "metadata": {
        "id": "SUrYUoXN2pyU"
      },
      "source": [
        "Q14. Check if a value 200 exists in a dictionary\n",
        "d1 = {'a': 100, 'b': 200, 'c': 300}\n"
      ]
    },
    {
      "cell_type": "code",
      "metadata": {
        "colab": {
          "base_uri": "https://localhost:8080/"
        },
        "id": "5PH-KD2l2qif",
        "outputId": "9b9baf7a-51b0-4393-8fac-68db54aae1fb"
      },
      "source": [
        "#ques14\n",
        "def fun(L):\n",
        "  if 200 in L:\n",
        "    return True\n",
        "  return False    \n",
        "d1 = {'a': 100, 'b': 200, 'c': 300}\n",
        "L=d1.values()\n",
        "fun(L)"
      ],
      "execution_count": null,
      "outputs": [
        {
          "output_type": "execute_result",
          "data": {
            "text/plain": [
              "False"
            ]
          },
          "metadata": {},
          "execution_count": 18
        }
      ]
    },
    {
      "cell_type": "markdown",
      "metadata": {
        "id": "O8K-FtW03kHg"
      },
      "source": [
        "Q15. Find the sum of the series 2 +22 + 222 + 2222 + .. n terms"
      ]
    },
    {
      "cell_type": "code",
      "metadata": {
        "colab": {
          "base_uri": "https://localhost:8080/"
        },
        "id": "kfgep2Q74ynQ",
        "outputId": "dfc20037-a1b0-4c8e-f359-44310152eb50"
      },
      "source": [
        "#ques15\n",
        "#series -> 2 + 22 + 222 + 2222 + .. n terms\n",
        "\n",
        "def series(n):\n",
        "  return (2/9) *( 10/9 *(pow(10,n)-1) - n )\n",
        "\n",
        "print(series(2))\n",
        "print(series(3))\n",
        "print(series(4))"
      ],
      "execution_count": null,
      "outputs": [
        {
          "name": "stdout",
          "output_type": "stream",
          "text": [
            "24.0\n",
            "246.0\n",
            "2468.0\n"
          ]
        }
      ]
    },
    {
      "cell_type": "markdown",
      "metadata": {
        "id": "xWaSr2G0yB6h"
      },
      "source": [
        "# Assignment 2 (Numpy)"
      ]
    },
    {
      "cell_type": "markdown",
      "metadata": {
        "id": "Y5GKWfMCyKUy"
      },
      "source": [
        "Q1. Create an array of 10 fives"
      ]
    },
    {
      "cell_type": "code",
      "metadata": {
        "colab": {
          "base_uri": "https://localhost:8080/"
        },
        "id": "x9Inlz7qyKdw",
        "outputId": "f574c053-c81a-41cd-cd65-5b06d77f7e8c"
      },
      "source": [
        "import numpy as  np\n",
        "a1=np.ones(10,dtype=int)*5\n",
        "print(a1)"
      ],
      "execution_count": null,
      "outputs": [
        {
          "output_type": "stream",
          "name": "stdout",
          "text": [
            "[5 5 5 5 5 5 5 5 5 5]\n"
          ]
        }
      ]
    },
    {
      "cell_type": "markdown",
      "metadata": {
        "id": "0Q7bupT7ygHI"
      },
      "source": [
        "Q2. Create an array of the integers from 10 to 50"
      ]
    },
    {
      "cell_type": "code",
      "metadata": {
        "colab": {
          "base_uri": "https://localhost:8080/"
        },
        "id": "dk5RxaiYygTo",
        "outputId": "c8e41e0d-b1de-4505-b904-2d08ffef6391"
      },
      "source": [
        "a2=np.arange(10,51)\n",
        "print(a2)"
      ],
      "execution_count": null,
      "outputs": [
        {
          "output_type": "stream",
          "name": "stdout",
          "text": [
            "[10 11 12 13 14 15 16 17 18 19 20 21 22 23 24 25 26 27 28 29 30 31 32 33\n",
            " 34 35 36 37 38 39 40 41 42 43 44 45 46 47 48 49 50]\n"
          ]
        }
      ]
    },
    {
      "cell_type": "markdown",
      "metadata": {
        "id": "7ZFzPIVxzmgX"
      },
      "source": [
        "Q3. Create an array of all the even integers from 10 to 50"
      ]
    },
    {
      "cell_type": "code",
      "metadata": {
        "colab": {
          "base_uri": "https://localhost:8080/"
        },
        "id": "oDWmkYL_zozq",
        "outputId": "7c93f0ed-e9cc-487d-8cca-86248a321041"
      },
      "source": [
        "a3=np.arange(10,51,2)\n",
        "print(a3)"
      ],
      "execution_count": null,
      "outputs": [
        {
          "output_type": "stream",
          "name": "stdout",
          "text": [
            "[10 12 14 16 18 20 22 24 26 28 30 32 34 36 38 40 42 44 46 48 50]\n"
          ]
        }
      ]
    },
    {
      "cell_type": "markdown",
      "metadata": {
        "id": "AHJe-qNw0DMA"
      },
      "source": [
        "Q4. Create a 3x3 matrix with values ranging from 0 to 8"
      ]
    },
    {
      "cell_type": "code",
      "metadata": {
        "colab": {
          "base_uri": "https://localhost:8080/"
        },
        "id": "Hiqq7hDu0dEo",
        "outputId": "a582b401-ca7e-4dd0-e4cf-0da0acc88cc8"
      },
      "source": [
        "a4=np.arange(0,9).reshape(3,3)\n",
        "print(a4)"
      ],
      "execution_count": null,
      "outputs": [
        {
          "output_type": "stream",
          "name": "stdout",
          "text": [
            "[[0 1 2]\n",
            " [3 4 5]\n",
            " [6 7 8]]\n"
          ]
        }
      ]
    },
    {
      "cell_type": "markdown",
      "metadata": {
        "id": "O-jyniw903ai"
      },
      "source": [
        "Q5. Use NumPy to generate an array of 25 random numbers sampled from a standard normal\n",
        "distribution"
      ]
    },
    {
      "cell_type": "code",
      "metadata": {
        "colab": {
          "base_uri": "https://localhost:8080/"
        },
        "id": "2QB4qAC-03pI",
        "outputId": "207aa79e-e135-4fa8-cce3-5c773cd48cc2"
      },
      "source": [
        "a5=np.random.normal(size=25)\n",
        "print(a5)"
      ],
      "execution_count": null,
      "outputs": [
        {
          "name": "stdout",
          "output_type": "stream",
          "text": [
            "[-1.35923941  0.30411769 -0.90697575 -1.35017327 -0.53963943  0.82928673\n",
            "  0.53589734  1.47831541 -0.51499812 -1.63956122 -1.08483494 -0.84913931\n",
            " -0.91687727 -0.91720146 -0.76634648  0.87025355  0.22249831  0.70307605\n",
            "  0.32283558  1.00216722 -0.11070268  1.06383849  0.24648713 -1.84538894\n",
            " -0.55727366]\n"
          ]
        }
      ]
    },
    {
      "cell_type": "markdown",
      "metadata": {
        "id": "g-LnO6sr03xA"
      },
      "source": [
        "Q6. Create the following array:\n",
        "array([0. , 0.01, 0.02, 0.03, 0.04, 0.05, 0.06, 0.07, 0.08, 0.09, 0.1 ,\n",
        " 0.11, 0.12, 0.13, 0.14, 0.15, 0.16, 0.17, 0.18, 0.19, 0.2 , 0.21,\n",
        " 0.22, 0.23, 0.24, 0.25, 0.26, 0.27, 0.28, 0.29, 0.3 , 0.31, 0.32,\n",
        " 0.33, 0.34, 0.35, 0.36, 0.37, 0.38, 0.39, 0.4 , 0.41, 0.42, 0.43,\n",
        " 0.44, 0.45, 0.46, 0.47, 0.48, 0.49, 0.5 , 0.51, 0.52, 0.53, 0.54,\n",
        " 0.55, 0.56, 0.57, 0.58, 0.59, 0.6 , 0.61, 0.62, 0.63, 0.64, 0.65,\n",
        " 0.66, 0.67, 0.68, 0.69, 0.7 , 0.71, 0.72, 0.73, 0.74, 0.75, 0.76,\n",
        " 0.77, 0.78, 0.79, 0.8 , 0.81, 0.82, 0.83, 0.84, 0.85, 0.86, 0.87,\n",
        " 0.88, 0.89, 0.9 , 0.91, 0.92, 0.93, 0.94, 0.95, 0.96, 0.97, 0.98,\n",
        " 0.99, 1. ])\n"
      ]
    },
    {
      "cell_type": "code",
      "metadata": {
        "colab": {
          "base_uri": "https://localhost:8080/"
        },
        "id": "NYuw2y0b034K",
        "outputId": "fe667daf-2432-4911-f6e0-e64f13837c5e"
      },
      "source": [
        "a6=np.arange(0,1.01,0.01)\n",
        "print(a6)"
      ],
      "execution_count": null,
      "outputs": [
        {
          "output_type": "stream",
          "name": "stdout",
          "text": [
            "[0.   0.01 0.02 0.03 0.04 0.05 0.06 0.07 0.08 0.09 0.1  0.11 0.12 0.13\n",
            " 0.14 0.15 0.16 0.17 0.18 0.19 0.2  0.21 0.22 0.23 0.24 0.25 0.26 0.27\n",
            " 0.28 0.29 0.3  0.31 0.32 0.33 0.34 0.35 0.36 0.37 0.38 0.39 0.4  0.41\n",
            " 0.42 0.43 0.44 0.45 0.46 0.47 0.48 0.49 0.5  0.51 0.52 0.53 0.54 0.55\n",
            " 0.56 0.57 0.58 0.59 0.6  0.61 0.62 0.63 0.64 0.65 0.66 0.67 0.68 0.69\n",
            " 0.7  0.71 0.72 0.73 0.74 0.75 0.76 0.77 0.78 0.79 0.8  0.81 0.82 0.83\n",
            " 0.84 0.85 0.86 0.87 0.88 0.89 0.9  0.91 0.92 0.93 0.94 0.95 0.96 0.97\n",
            " 0.98 0.99 1.  ]\n"
          ]
        }
      ]
    },
    {
      "cell_type": "markdown",
      "metadata": {
        "id": "R7UhrNsr1SNx"
      },
      "source": [
        "Q7. Create an array of 20 linearly spaced points between 0 and 1"
      ]
    },
    {
      "cell_type": "code",
      "metadata": {
        "colab": {
          "base_uri": "https://localhost:8080/"
        },
        "id": "nR2kdP4e1VVY",
        "outputId": "c1d481d7-5f4a-40ad-f7b1-84b5e7a47647"
      },
      "source": [
        "a7=np.linspace(0,1,20)\n",
        "print(a7)"
      ],
      "execution_count": null,
      "outputs": [
        {
          "output_type": "stream",
          "name": "stdout",
          "text": [
            "[0.         0.05263158 0.10526316 0.15789474 0.21052632 0.26315789\n",
            " 0.31578947 0.36842105 0.42105263 0.47368421 0.52631579 0.57894737\n",
            " 0.63157895 0.68421053 0.73684211 0.78947368 0.84210526 0.89473684\n",
            " 0.94736842 1.        ]\n"
          ]
        }
      ]
    },
    {
      "cell_type": "markdown",
      "metadata": {
        "id": "9Izgw1uf1Ve_"
      },
      "source": [
        "Q8. Generate the following matrix, mat,\n",
        "array([[ 1, 2, 3, 4, 5],\n",
        " [ 6, 7, 8, 9, 10],\n",
        " [11, 12, 13, 14, 15],\n",
        " [16, 17, 18, 19, 20],\n",
        " [21, 22, 23, 24, 25]])\n",
        "and extract the following using the indexing and slicing:\n",
        "array([[12, 13, 14, 15],\n",
        " [17, 18, 19, 20],\n",
        " [22, 23, 24, 25]])\n",
        "array([[ 2],\n",
        " [ 7],\n",
        " [12]])\n",
        "Get the sum of all the values in mat"
      ]
    },
    {
      "cell_type": "code",
      "metadata": {
        "colab": {
          "base_uri": "https://localhost:8080/"
        },
        "id": "OykNMTVZ1VqA",
        "outputId": "13b2e040-2e8a-47ba-b572-7d3f68e64543"
      },
      "source": [
        "a8=np.arange(1,26).reshape(5,5)\n",
        "print(a8)\n",
        "print(\"\\n\\n\")\n",
        "\n",
        "print(a8[2:,1:])\n",
        "print(\"\\n\\n\")\n",
        "print(a8[0:3,1:2])\n",
        "print(\"\\n\\n\")\n",
        "print(\"Sum of all elements :- \",np.sum(a8))\n",
        "for i in range(len(a8)):\n",
        "  print(\"Sum of all elements of \", i,  \"Row:- \",np.sum(a8[i,:]))\n",
        "print(\"\\n\")\n",
        "for i in range(len(a8)):\n",
        "  print(f\"Sum of all elements of {i} Column :- {np.sum(a8[:,i])}\")"
      ],
      "execution_count": null,
      "outputs": [
        {
          "output_type": "stream",
          "name": "stdout",
          "text": [
            "[[ 1  2  3  4  5]\n",
            " [ 6  7  8  9 10]\n",
            " [11 12 13 14 15]\n",
            " [16 17 18 19 20]\n",
            " [21 22 23 24 25]]\n",
            "\n",
            "\n",
            "\n",
            "[[12 13 14 15]\n",
            " [17 18 19 20]\n",
            " [22 23 24 25]]\n",
            "\n",
            "\n",
            "\n",
            "[[ 2]\n",
            " [ 7]\n",
            " [12]]\n",
            "\n",
            "\n",
            "\n",
            "Sum of all elements :-  325\n",
            "Sum of all elements of  0 Row:-  15\n",
            "Sum of all elements of  1 Row:-  40\n",
            "Sum of all elements of  2 Row:-  65\n",
            "Sum of all elements of  3 Row:-  90\n",
            "Sum of all elements of  4 Row:-  115\n",
            "\n",
            "\n",
            "Sum of all elements of 0 Column :- 55\n",
            "Sum of all elements of 1 Column :- 60\n",
            "Sum of all elements of 2 Column :- 65\n",
            "Sum of all elements of 3 Column :- 70\n",
            "Sum of all elements of 4 Column :- 75\n"
          ]
        }
      ]
    },
    {
      "cell_type": "markdown",
      "metadata": {
        "id": "qVYvkoat4qpO"
      },
      "source": [
        "# Assignment 3\n"
      ]
    },
    {
      "cell_type": "code",
      "metadata": {
        "colab": {
          "base_uri": "https://localhost:8080/"
        },
        "id": "9BcEepxO5b5M",
        "outputId": "71751ed9-62d3-4fbb-ebd0-4399f3ebf2dd"
      },
      "source": [
        "from google.colab import drive\n",
        "drive.mount('/content/drive')"
      ],
      "execution_count": null,
      "outputs": [
        {
          "output_type": "stream",
          "name": "stdout",
          "text": [
            "Drive already mounted at /content/drive; to attempt to forcibly remount, call drive.mount(\"/content/drive\", force_remount=True).\n"
          ]
        }
      ]
    },
    {
      "cell_type": "code",
      "metadata": {
        "colab": {
          "base_uri": "https://localhost:8080/"
        },
        "id": "k94DK99w5w05",
        "outputId": "71f6580a-65ae-4120-b1dc-5b6112efbc74"
      },
      "source": [
        "import pandas as pd\n",
        "df=pd.read_csv(\"/content/drive/MyDrive/Colab Notebooks/AWCustomers.csv\")\n",
        "print(df.head(5))\n",
        "df.columns            \n"
      ],
      "execution_count": null,
      "outputs": [
        {
          "output_type": "stream",
          "name": "stdout",
          "text": [
            "   CustomerID Title FirstName  ... TotalChildren YearlyIncome LastUpdated\n",
            "0       21173   NaN      Chad  ...             1        81916  2017-03-06\n",
            "1       13249   NaN      Ryan  ...             2        81076  2017-03-06\n",
            "2       29350   NaN     Julia  ...             0        86387  2017-03-06\n",
            "3       13503   NaN  Theodore  ...             2        61481  2017-03-06\n",
            "4       22803   NaN  Marshall  ...             0        51804  2017-03-06\n",
            "\n",
            "[5 rows x 24 columns]\n"
          ]
        },
        {
          "output_type": "execute_result",
          "data": {
            "text/plain": [
              "Index(['CustomerID', 'Title', 'FirstName', 'MiddleName', 'LastName', 'Suffix',\n",
              "       'AddressLine1', 'AddressLine2', 'City', 'StateProvinceName',\n",
              "       'CountryRegionName', 'PostalCode', 'PhoneNumber', 'BirthDate',\n",
              "       'Education', 'Occupation', 'Gender', 'MaritalStatus', 'HomeOwnerFlag',\n",
              "       'NumberCarsOwned', 'NumberChildrenAtHome', 'TotalChildren',\n",
              "       'YearlyIncome', 'LastUpdated'],\n",
              "      dtype='object')"
            ]
          },
          "metadata": {},
          "execution_count": 15
        }
      ]
    },
    {
      "cell_type": "code",
      "metadata": {
        "colab": {
          "base_uri": "https://localhost:8080/",
          "height": 484
        },
        "id": "ov1RZgOf7UUq",
        "outputId": "55c01ba0-98c2-4754-8c5b-22daa5bdeb19"
      },
      "source": [
        "df = df.drop(['CountryRegionName','CustomerID','Title','FirstName','MiddleName','LastName','Suffix','PostalCode','PhoneNumber','LastUpdated','AddressLine1', 'AddressLine2','City','StateProvinceName','TotalChildren'],axis=1)\n",
        "print(df.columns)\n",
        "df\n",
        "# file1=df.to_csv(\"pk.csv\")"
      ],
      "execution_count": null,
      "outputs": [
        {
          "output_type": "stream",
          "name": "stdout",
          "text": [
            "Index(['BirthDate', 'Education', 'Occupation', 'Gender', 'MaritalStatus',\n",
            "       'HomeOwnerFlag', 'NumberCarsOwned', 'NumberChildrenAtHome',\n",
            "       'YearlyIncome'],\n",
            "      dtype='object')\n"
          ]
        },
        {
          "output_type": "execute_result",
          "data": {
            "text/html": [
              "<div>\n",
              "<style scoped>\n",
              "    .dataframe tbody tr th:only-of-type {\n",
              "        vertical-align: middle;\n",
              "    }\n",
              "\n",
              "    .dataframe tbody tr th {\n",
              "        vertical-align: top;\n",
              "    }\n",
              "\n",
              "    .dataframe thead th {\n",
              "        text-align: right;\n",
              "    }\n",
              "</style>\n",
              "<table border=\"1\" class=\"dataframe\">\n",
              "  <thead>\n",
              "    <tr style=\"text-align: right;\">\n",
              "      <th></th>\n",
              "      <th>BirthDate</th>\n",
              "      <th>Education</th>\n",
              "      <th>Occupation</th>\n",
              "      <th>Gender</th>\n",
              "      <th>MaritalStatus</th>\n",
              "      <th>HomeOwnerFlag</th>\n",
              "      <th>NumberCarsOwned</th>\n",
              "      <th>NumberChildrenAtHome</th>\n",
              "      <th>YearlyIncome</th>\n",
              "    </tr>\n",
              "  </thead>\n",
              "  <tbody>\n",
              "    <tr>\n",
              "      <th>0</th>\n",
              "      <td>1987-11-13</td>\n",
              "      <td>Bachelors</td>\n",
              "      <td>Clerical</td>\n",
              "      <td>M</td>\n",
              "      <td>M</td>\n",
              "      <td>1</td>\n",
              "      <td>3</td>\n",
              "      <td>0</td>\n",
              "      <td>81916</td>\n",
              "    </tr>\n",
              "    <tr>\n",
              "      <th>1</th>\n",
              "      <td>1972-07-21</td>\n",
              "      <td>Partial College</td>\n",
              "      <td>Clerical</td>\n",
              "      <td>M</td>\n",
              "      <td>M</td>\n",
              "      <td>1</td>\n",
              "      <td>2</td>\n",
              "      <td>1</td>\n",
              "      <td>81076</td>\n",
              "    </tr>\n",
              "    <tr>\n",
              "      <th>2</th>\n",
              "      <td>1985-11-09</td>\n",
              "      <td>Bachelors</td>\n",
              "      <td>Clerical</td>\n",
              "      <td>F</td>\n",
              "      <td>S</td>\n",
              "      <td>0</td>\n",
              "      <td>3</td>\n",
              "      <td>0</td>\n",
              "      <td>86387</td>\n",
              "    </tr>\n",
              "    <tr>\n",
              "      <th>3</th>\n",
              "      <td>1977-10-18</td>\n",
              "      <td>Partial College</td>\n",
              "      <td>Skilled Manual</td>\n",
              "      <td>M</td>\n",
              "      <td>M</td>\n",
              "      <td>1</td>\n",
              "      <td>2</td>\n",
              "      <td>1</td>\n",
              "      <td>61481</td>\n",
              "    </tr>\n",
              "    <tr>\n",
              "      <th>4</th>\n",
              "      <td>1975-02-05</td>\n",
              "      <td>Partial College</td>\n",
              "      <td>Skilled Manual</td>\n",
              "      <td>M</td>\n",
              "      <td>S</td>\n",
              "      <td>1</td>\n",
              "      <td>1</td>\n",
              "      <td>0</td>\n",
              "      <td>51804</td>\n",
              "    </tr>\n",
              "    <tr>\n",
              "      <th>...</th>\n",
              "      <td>...</td>\n",
              "      <td>...</td>\n",
              "      <td>...</td>\n",
              "      <td>...</td>\n",
              "      <td>...</td>\n",
              "      <td>...</td>\n",
              "      <td>...</td>\n",
              "      <td>...</td>\n",
              "      <td>...</td>\n",
              "    </tr>\n",
              "    <tr>\n",
              "      <th>18356</th>\n",
              "      <td>1990-11-11</td>\n",
              "      <td>Graduate Degree</td>\n",
              "      <td>Skilled Manual</td>\n",
              "      <td>F</td>\n",
              "      <td>M</td>\n",
              "      <td>0</td>\n",
              "      <td>1</td>\n",
              "      <td>0</td>\n",
              "      <td>52953</td>\n",
              "    </tr>\n",
              "    <tr>\n",
              "      <th>18357</th>\n",
              "      <td>1992-10-13</td>\n",
              "      <td>Bachelors</td>\n",
              "      <td>Skilled Manual</td>\n",
              "      <td>F</td>\n",
              "      <td>S</td>\n",
              "      <td>0</td>\n",
              "      <td>2</td>\n",
              "      <td>0</td>\n",
              "      <td>60992</td>\n",
              "    </tr>\n",
              "    <tr>\n",
              "      <th>18358</th>\n",
              "      <td>1983-11-24</td>\n",
              "      <td>Partial College</td>\n",
              "      <td>Skilled Manual</td>\n",
              "      <td>F</td>\n",
              "      <td>S</td>\n",
              "      <td>0</td>\n",
              "      <td>2</td>\n",
              "      <td>0</td>\n",
              "      <td>51859</td>\n",
              "    </tr>\n",
              "    <tr>\n",
              "      <th>18359</th>\n",
              "      <td>1995-06-15</td>\n",
              "      <td>High School</td>\n",
              "      <td>Clerical</td>\n",
              "      <td>F</td>\n",
              "      <td>S</td>\n",
              "      <td>0</td>\n",
              "      <td>0</td>\n",
              "      <td>0</td>\n",
              "      <td>87177</td>\n",
              "    </tr>\n",
              "    <tr>\n",
              "      <th>18360</th>\n",
              "      <td>1986-03-26</td>\n",
              "      <td>Graduate Degree</td>\n",
              "      <td>Professional</td>\n",
              "      <td>F</td>\n",
              "      <td>M</td>\n",
              "      <td>1</td>\n",
              "      <td>2</td>\n",
              "      <td>0</td>\n",
              "      <td>136856</td>\n",
              "    </tr>\n",
              "  </tbody>\n",
              "</table>\n",
              "<p>18361 rows × 9 columns</p>\n",
              "</div>"
            ],
            "text/plain": [
              "        BirthDate        Education  ... NumberChildrenAtHome YearlyIncome\n",
              "0      1987-11-13        Bachelors  ...                    0        81916\n",
              "1      1972-07-21  Partial College  ...                    1        81076\n",
              "2      1985-11-09        Bachelors  ...                    0        86387\n",
              "3      1977-10-18  Partial College  ...                    1        61481\n",
              "4      1975-02-05  Partial College  ...                    0        51804\n",
              "...           ...              ...  ...                  ...          ...\n",
              "18356  1990-11-11  Graduate Degree  ...                    0        52953\n",
              "18357  1992-10-13        Bachelors  ...                    0        60992\n",
              "18358  1983-11-24  Partial College  ...                    0        51859\n",
              "18359  1995-06-15      High School  ...                    0        87177\n",
              "18360  1986-03-26  Graduate Degree  ...                    0       136856\n",
              "\n",
              "[18361 rows x 9 columns]"
            ]
          },
          "metadata": {},
          "execution_count": 19
        }
      ]
    },
    {
      "cell_type": "code",
      "metadata": {
        "id": "lnLukcDpGlZe"
      },
      "source": [
        "df.sort_values(by='YearlyIncome', inplace=True)"
      ],
      "execution_count": null,
      "outputs": []
    },
    {
      "cell_type": "code",
      "metadata": {
        "colab": {
          "base_uri": "https://localhost:8080/"
        },
        "id": "q2fbjqqaG8r5",
        "outputId": "705ac315-a8a8-4fb9-8600-9300382a33e1"
      },
      "source": [
        "col=['BirthDate','Occupation','Gender','MaritalStatus','HomeOwnerFlag','NumberCarsOwned','NumberChildrenAtHome','YearlyIncome']\n",
        "dc = {col[i]:'N' for i in range(0,len(col))}\n",
        "dc['BirthDate']='R'\n",
        "dc['HomeOwnerFlag']='D'\n",
        "dc['NumberCarsOwned']='D'\n",
        "dc['NumberChildrenAtHome']='D'\n",
        "dc['YearlyIncome']='C'\n",
        "print(dc)\n",
        "\n",
        "#Education field was Ordinal.\n",
        "#Gender was Nominal."
      ],
      "execution_count": null,
      "outputs": [
        {
          "output_type": "stream",
          "name": "stdout",
          "text": [
            "{'BirthDate': 'R', 'Occupation': 'N', 'Gender': 'N', 'MaritalStatus': 'N', 'HomeOwnerFlag': 'D', 'NumberCarsOwned': 'D', 'NumberChildrenAtHome': 'D', 'YearlyIncome': 'C'}\n"
          ]
        }
      ]
    },
    {
      "cell_type": "code",
      "metadata": {
        "id": "fskPoJPwHCcY"
      },
      "source": [
        "df.drop(['BirthDate'], axis=1, inplace=True)"
      ],
      "execution_count": null,
      "outputs": []
    },
    {
      "cell_type": "code",
      "metadata": {
        "colab": {
          "base_uri": "https://localhost:8080/"
        },
        "id": "KM2UzBqbHLBQ",
        "outputId": "f2af1cae-76f8-4d4f-979e-4c74684d445b"
      },
      "source": [
        "df.isnull().sum()"
      ],
      "execution_count": null,
      "outputs": [
        {
          "output_type": "execute_result",
          "data": {
            "text/plain": [
              "BirthDate               0\n",
              "Education               0\n",
              "Occupation              0\n",
              "Gender                  0\n",
              "MaritalStatus           0\n",
              "HomeOwnerFlag           0\n",
              "NumberCarsOwned         0\n",
              "NumberChildrenAtHome    0\n",
              "YearlyIncome            0\n",
              "dtype: int64"
            ]
          },
          "metadata": {},
          "execution_count": 20
        }
      ]
    },
    {
      "cell_type": "code",
      "metadata": {
        "colab": {
          "base_uri": "https://localhost:8080/",
          "height": 417
        },
        "id": "YCbV1pW694GX",
        "outputId": "1af46a21-3b0a-4570-c931-ba122442b2e9"
      },
      "source": [
        "df=df.dropna()\n",
        "df"
      ],
      "execution_count": null,
      "outputs": [
        {
          "output_type": "execute_result",
          "data": {
            "text/html": [
              "<div>\n",
              "<style scoped>\n",
              "    .dataframe tbody tr th:only-of-type {\n",
              "        vertical-align: middle;\n",
              "    }\n",
              "\n",
              "    .dataframe tbody tr th {\n",
              "        vertical-align: top;\n",
              "    }\n",
              "\n",
              "    .dataframe thead th {\n",
              "        text-align: right;\n",
              "    }\n",
              "</style>\n",
              "<table border=\"1\" class=\"dataframe\">\n",
              "  <thead>\n",
              "    <tr style=\"text-align: right;\">\n",
              "      <th></th>\n",
              "      <th>Education</th>\n",
              "      <th>Occupation</th>\n",
              "      <th>Gender</th>\n",
              "      <th>MaritalStatus</th>\n",
              "      <th>HomeOwnerFlag</th>\n",
              "      <th>NumberCarsOwned</th>\n",
              "      <th>NumberChildrenAtHome</th>\n",
              "      <th>YearlyIncome</th>\n",
              "    </tr>\n",
              "  </thead>\n",
              "  <tbody>\n",
              "    <tr>\n",
              "      <th>7539</th>\n",
              "      <td>Partial College</td>\n",
              "      <td>Manual</td>\n",
              "      <td>F</td>\n",
              "      <td>M</td>\n",
              "      <td>1</td>\n",
              "      <td>1</td>\n",
              "      <td>2</td>\n",
              "      <td>25435</td>\n",
              "    </tr>\n",
              "    <tr>\n",
              "      <th>2088</th>\n",
              "      <td>Partial High School</td>\n",
              "      <td>Manual</td>\n",
              "      <td>F</td>\n",
              "      <td>M</td>\n",
              "      <td>0</td>\n",
              "      <td>0</td>\n",
              "      <td>0</td>\n",
              "      <td>25445</td>\n",
              "    </tr>\n",
              "    <tr>\n",
              "      <th>4355</th>\n",
              "      <td>Bachelors</td>\n",
              "      <td>Manual</td>\n",
              "      <td>F</td>\n",
              "      <td>S</td>\n",
              "      <td>0</td>\n",
              "      <td>1</td>\n",
              "      <td>0</td>\n",
              "      <td>25449</td>\n",
              "    </tr>\n",
              "    <tr>\n",
              "      <th>6963</th>\n",
              "      <td>Partial High School</td>\n",
              "      <td>Manual</td>\n",
              "      <td>F</td>\n",
              "      <td>M</td>\n",
              "      <td>0</td>\n",
              "      <td>0</td>\n",
              "      <td>0</td>\n",
              "      <td>25467</td>\n",
              "    </tr>\n",
              "    <tr>\n",
              "      <th>17743</th>\n",
              "      <td>Partial High School</td>\n",
              "      <td>Manual</td>\n",
              "      <td>F</td>\n",
              "      <td>M</td>\n",
              "      <td>1</td>\n",
              "      <td>1</td>\n",
              "      <td>1</td>\n",
              "      <td>25469</td>\n",
              "    </tr>\n",
              "    <tr>\n",
              "      <th>...</th>\n",
              "      <td>...</td>\n",
              "      <td>...</td>\n",
              "      <td>...</td>\n",
              "      <td>...</td>\n",
              "      <td>...</td>\n",
              "      <td>...</td>\n",
              "      <td>...</td>\n",
              "      <td>...</td>\n",
              "    </tr>\n",
              "    <tr>\n",
              "      <th>10185</th>\n",
              "      <td>Graduate Degree</td>\n",
              "      <td>Professional</td>\n",
              "      <td>M</td>\n",
              "      <td>M</td>\n",
              "      <td>1</td>\n",
              "      <td>3</td>\n",
              "      <td>0</td>\n",
              "      <td>139071</td>\n",
              "    </tr>\n",
              "    <tr>\n",
              "      <th>10577</th>\n",
              "      <td>Graduate Degree</td>\n",
              "      <td>Professional</td>\n",
              "      <td>M</td>\n",
              "      <td>M</td>\n",
              "      <td>1</td>\n",
              "      <td>2</td>\n",
              "      <td>1</td>\n",
              "      <td>139082</td>\n",
              "    </tr>\n",
              "    <tr>\n",
              "      <th>9525</th>\n",
              "      <td>Graduate Degree</td>\n",
              "      <td>Professional</td>\n",
              "      <td>M</td>\n",
              "      <td>M</td>\n",
              "      <td>1</td>\n",
              "      <td>3</td>\n",
              "      <td>0</td>\n",
              "      <td>139099</td>\n",
              "    </tr>\n",
              "    <tr>\n",
              "      <th>16892</th>\n",
              "      <td>Graduate Degree</td>\n",
              "      <td>Professional</td>\n",
              "      <td>M</td>\n",
              "      <td>M</td>\n",
              "      <td>1</td>\n",
              "      <td>2</td>\n",
              "      <td>0</td>\n",
              "      <td>139109</td>\n",
              "    </tr>\n",
              "    <tr>\n",
              "      <th>10950</th>\n",
              "      <td>Graduate Degree</td>\n",
              "      <td>Professional</td>\n",
              "      <td>M</td>\n",
              "      <td>S</td>\n",
              "      <td>1</td>\n",
              "      <td>3</td>\n",
              "      <td>0</td>\n",
              "      <td>139115</td>\n",
              "    </tr>\n",
              "  </tbody>\n",
              "</table>\n",
              "<p>18361 rows × 8 columns</p>\n",
              "</div>"
            ],
            "text/plain": [
              "                 Education    Occupation  ... NumberChildrenAtHome YearlyIncome\n",
              "7539       Partial College        Manual  ...                    2        25435\n",
              "2088   Partial High School        Manual  ...                    0        25445\n",
              "4355             Bachelors        Manual  ...                    0        25449\n",
              "6963   Partial High School        Manual  ...                    0        25467\n",
              "17743  Partial High School        Manual  ...                    1        25469\n",
              "...                    ...           ...  ...                  ...          ...\n",
              "10185      Graduate Degree  Professional  ...                    0       139071\n",
              "10577      Graduate Degree  Professional  ...                    1       139082\n",
              "9525       Graduate Degree  Professional  ...                    0       139099\n",
              "16892      Graduate Degree  Professional  ...                    0       139109\n",
              "10950      Graduate Degree  Professional  ...                    0       139115\n",
              "\n",
              "[18361 rows x 8 columns]"
            ]
          },
          "metadata": {},
          "execution_count": 67
        }
      ]
    },
    {
      "cell_type": "code",
      "metadata": {
        "id": "Rm35V-aBHPKz"
      },
      "source": [
        "df['normalizedIncome'] = (df['YearlyIncome'] - df['YearlyIncome'].min()) \\\n",
        "/ (df['YearlyIncome'].max() - df['YearlyIncome'].min())\n",
        "\n",
        "#Normalized_value = (Yi - Ymin)/(Yi-Ymax)"
      ],
      "execution_count": null,
      "outputs": []
    },
    {
      "cell_type": "code",
      "metadata": {
        "colab": {
          "base_uri": "https://localhost:8080/",
          "height": 417
        },
        "id": "rsEip6vY4-oH",
        "outputId": "ff9d10ce-a842-46cd-ea1c-f7d9e192b7f6"
      },
      "source": [
        "df"
      ],
      "execution_count": null,
      "outputs": [
        {
          "output_type": "execute_result",
          "data": {
            "text/html": [
              "<div>\n",
              "<style scoped>\n",
              "    .dataframe tbody tr th:only-of-type {\n",
              "        vertical-align: middle;\n",
              "    }\n",
              "\n",
              "    .dataframe tbody tr th {\n",
              "        vertical-align: top;\n",
              "    }\n",
              "\n",
              "    .dataframe thead th {\n",
              "        text-align: right;\n",
              "    }\n",
              "</style>\n",
              "<table border=\"1\" class=\"dataframe\">\n",
              "  <thead>\n",
              "    <tr style=\"text-align: right;\">\n",
              "      <th></th>\n",
              "      <th>Education</th>\n",
              "      <th>Occupation</th>\n",
              "      <th>Gender</th>\n",
              "      <th>MaritalStatus</th>\n",
              "      <th>HomeOwnerFlag</th>\n",
              "      <th>NumberCarsOwned</th>\n",
              "      <th>NumberChildrenAtHome</th>\n",
              "      <th>YearlyIncome</th>\n",
              "      <th>normalizedIncome</th>\n",
              "    </tr>\n",
              "  </thead>\n",
              "  <tbody>\n",
              "    <tr>\n",
              "      <th>7539</th>\n",
              "      <td>Partial College</td>\n",
              "      <td>Manual</td>\n",
              "      <td>F</td>\n",
              "      <td>M</td>\n",
              "      <td>1</td>\n",
              "      <td>1</td>\n",
              "      <td>2</td>\n",
              "      <td>25435</td>\n",
              "      <td>0.000000</td>\n",
              "    </tr>\n",
              "    <tr>\n",
              "      <th>2088</th>\n",
              "      <td>Partial High School</td>\n",
              "      <td>Manual</td>\n",
              "      <td>F</td>\n",
              "      <td>M</td>\n",
              "      <td>0</td>\n",
              "      <td>0</td>\n",
              "      <td>0</td>\n",
              "      <td>25445</td>\n",
              "      <td>0.000088</td>\n",
              "    </tr>\n",
              "    <tr>\n",
              "      <th>4355</th>\n",
              "      <td>Bachelors</td>\n",
              "      <td>Manual</td>\n",
              "      <td>F</td>\n",
              "      <td>S</td>\n",
              "      <td>0</td>\n",
              "      <td>1</td>\n",
              "      <td>0</td>\n",
              "      <td>25449</td>\n",
              "      <td>0.000123</td>\n",
              "    </tr>\n",
              "    <tr>\n",
              "      <th>6963</th>\n",
              "      <td>Partial High School</td>\n",
              "      <td>Manual</td>\n",
              "      <td>F</td>\n",
              "      <td>M</td>\n",
              "      <td>0</td>\n",
              "      <td>0</td>\n",
              "      <td>0</td>\n",
              "      <td>25467</td>\n",
              "      <td>0.000281</td>\n",
              "    </tr>\n",
              "    <tr>\n",
              "      <th>17743</th>\n",
              "      <td>Partial High School</td>\n",
              "      <td>Manual</td>\n",
              "      <td>F</td>\n",
              "      <td>M</td>\n",
              "      <td>1</td>\n",
              "      <td>1</td>\n",
              "      <td>1</td>\n",
              "      <td>25469</td>\n",
              "      <td>0.000299</td>\n",
              "    </tr>\n",
              "    <tr>\n",
              "      <th>...</th>\n",
              "      <td>...</td>\n",
              "      <td>...</td>\n",
              "      <td>...</td>\n",
              "      <td>...</td>\n",
              "      <td>...</td>\n",
              "      <td>...</td>\n",
              "      <td>...</td>\n",
              "      <td>...</td>\n",
              "      <td>...</td>\n",
              "    </tr>\n",
              "    <tr>\n",
              "      <th>10185</th>\n",
              "      <td>Graduate Degree</td>\n",
              "      <td>Professional</td>\n",
              "      <td>M</td>\n",
              "      <td>M</td>\n",
              "      <td>1</td>\n",
              "      <td>3</td>\n",
              "      <td>0</td>\n",
              "      <td>139071</td>\n",
              "      <td>0.999613</td>\n",
              "    </tr>\n",
              "    <tr>\n",
              "      <th>10577</th>\n",
              "      <td>Graduate Degree</td>\n",
              "      <td>Professional</td>\n",
              "      <td>M</td>\n",
              "      <td>M</td>\n",
              "      <td>1</td>\n",
              "      <td>2</td>\n",
              "      <td>1</td>\n",
              "      <td>139082</td>\n",
              "      <td>0.999710</td>\n",
              "    </tr>\n",
              "    <tr>\n",
              "      <th>9525</th>\n",
              "      <td>Graduate Degree</td>\n",
              "      <td>Professional</td>\n",
              "      <td>M</td>\n",
              "      <td>M</td>\n",
              "      <td>1</td>\n",
              "      <td>3</td>\n",
              "      <td>0</td>\n",
              "      <td>139099</td>\n",
              "      <td>0.999859</td>\n",
              "    </tr>\n",
              "    <tr>\n",
              "      <th>16892</th>\n",
              "      <td>Graduate Degree</td>\n",
              "      <td>Professional</td>\n",
              "      <td>M</td>\n",
              "      <td>M</td>\n",
              "      <td>1</td>\n",
              "      <td>2</td>\n",
              "      <td>0</td>\n",
              "      <td>139109</td>\n",
              "      <td>0.999947</td>\n",
              "    </tr>\n",
              "    <tr>\n",
              "      <th>10950</th>\n",
              "      <td>Graduate Degree</td>\n",
              "      <td>Professional</td>\n",
              "      <td>M</td>\n",
              "      <td>S</td>\n",
              "      <td>1</td>\n",
              "      <td>3</td>\n",
              "      <td>0</td>\n",
              "      <td>139115</td>\n",
              "      <td>1.000000</td>\n",
              "    </tr>\n",
              "  </tbody>\n",
              "</table>\n",
              "<p>18361 rows × 9 columns</p>\n",
              "</div>"
            ],
            "text/plain": [
              "                 Education    Occupation  ... YearlyIncome normalizedIncome\n",
              "7539       Partial College        Manual  ...        25435         0.000000\n",
              "2088   Partial High School        Manual  ...        25445         0.000088\n",
              "4355             Bachelors        Manual  ...        25449         0.000123\n",
              "6963   Partial High School        Manual  ...        25467         0.000281\n",
              "17743  Partial High School        Manual  ...        25469         0.000299\n",
              "...                    ...           ...  ...          ...              ...\n",
              "10185      Graduate Degree  Professional  ...       139071         0.999613\n",
              "10577      Graduate Degree  Professional  ...       139082         0.999710\n",
              "9525       Graduate Degree  Professional  ...       139099         0.999859\n",
              "16892      Graduate Degree  Professional  ...       139109         0.999947\n",
              "10950      Graduate Degree  Professional  ...       139115         1.000000\n",
              "\n",
              "[18361 rows x 9 columns]"
            ]
          },
          "metadata": {},
          "execution_count": 69
        }
      ]
    },
    {
      "cell_type": "code",
      "metadata": {
        "colab": {
          "base_uri": "https://localhost:8080/"
        },
        "id": "AGuZ_TK9EgmP",
        "outputId": "94928d8d-bf64-47c0-8fcf-c4f49908f9ad"
      },
      "source": [
        "print(df.columns)"
      ],
      "execution_count": null,
      "outputs": [
        {
          "output_type": "stream",
          "name": "stdout",
          "text": [
            "Index(['Education', 'Occupation', 'Gender', 'MaritalStatus', 'HomeOwnerFlag',\n",
            "       'NumberCarsOwned', 'NumberChildrenAtHome', 'YearlyIncome',\n",
            "       'normalizedIncome'],\n",
            "      dtype='object')\n"
          ]
        }
      ]
    },
    {
      "cell_type": "code",
      "metadata": {
        "id": "HVRiOgRgICYs"
      },
      "source": [
        "#hot encoding\n",
        "new_df = pd.get_dummies(df['Education'])"
      ],
      "execution_count": null,
      "outputs": []
    },
    {
      "cell_type": "code",
      "metadata": {
        "colab": {
          "base_uri": "https://localhost:8080/",
          "height": 417
        },
        "id": "1-knaXotIOqb",
        "outputId": "9aa1000d-843c-47ee-ab76-8e0496460323"
      },
      "source": [
        "new_df"
      ],
      "execution_count": null,
      "outputs": [
        {
          "output_type": "execute_result",
          "data": {
            "text/html": [
              "<div>\n",
              "<style scoped>\n",
              "    .dataframe tbody tr th:only-of-type {\n",
              "        vertical-align: middle;\n",
              "    }\n",
              "\n",
              "    .dataframe tbody tr th {\n",
              "        vertical-align: top;\n",
              "    }\n",
              "\n",
              "    .dataframe thead th {\n",
              "        text-align: right;\n",
              "    }\n",
              "</style>\n",
              "<table border=\"1\" class=\"dataframe\">\n",
              "  <thead>\n",
              "    <tr style=\"text-align: right;\">\n",
              "      <th></th>\n",
              "      <th>Bachelors</th>\n",
              "      <th>Graduate Degree</th>\n",
              "      <th>High School</th>\n",
              "      <th>Partial College</th>\n",
              "      <th>Partial High School</th>\n",
              "    </tr>\n",
              "  </thead>\n",
              "  <tbody>\n",
              "    <tr>\n",
              "      <th>7539</th>\n",
              "      <td>0</td>\n",
              "      <td>0</td>\n",
              "      <td>0</td>\n",
              "      <td>1</td>\n",
              "      <td>0</td>\n",
              "    </tr>\n",
              "    <tr>\n",
              "      <th>2088</th>\n",
              "      <td>0</td>\n",
              "      <td>0</td>\n",
              "      <td>0</td>\n",
              "      <td>0</td>\n",
              "      <td>1</td>\n",
              "    </tr>\n",
              "    <tr>\n",
              "      <th>4355</th>\n",
              "      <td>1</td>\n",
              "      <td>0</td>\n",
              "      <td>0</td>\n",
              "      <td>0</td>\n",
              "      <td>0</td>\n",
              "    </tr>\n",
              "    <tr>\n",
              "      <th>6963</th>\n",
              "      <td>0</td>\n",
              "      <td>0</td>\n",
              "      <td>0</td>\n",
              "      <td>0</td>\n",
              "      <td>1</td>\n",
              "    </tr>\n",
              "    <tr>\n",
              "      <th>17743</th>\n",
              "      <td>0</td>\n",
              "      <td>0</td>\n",
              "      <td>0</td>\n",
              "      <td>0</td>\n",
              "      <td>1</td>\n",
              "    </tr>\n",
              "    <tr>\n",
              "      <th>...</th>\n",
              "      <td>...</td>\n",
              "      <td>...</td>\n",
              "      <td>...</td>\n",
              "      <td>...</td>\n",
              "      <td>...</td>\n",
              "    </tr>\n",
              "    <tr>\n",
              "      <th>10185</th>\n",
              "      <td>0</td>\n",
              "      <td>1</td>\n",
              "      <td>0</td>\n",
              "      <td>0</td>\n",
              "      <td>0</td>\n",
              "    </tr>\n",
              "    <tr>\n",
              "      <th>10577</th>\n",
              "      <td>0</td>\n",
              "      <td>1</td>\n",
              "      <td>0</td>\n",
              "      <td>0</td>\n",
              "      <td>0</td>\n",
              "    </tr>\n",
              "    <tr>\n",
              "      <th>9525</th>\n",
              "      <td>0</td>\n",
              "      <td>1</td>\n",
              "      <td>0</td>\n",
              "      <td>0</td>\n",
              "      <td>0</td>\n",
              "    </tr>\n",
              "    <tr>\n",
              "      <th>16892</th>\n",
              "      <td>0</td>\n",
              "      <td>1</td>\n",
              "      <td>0</td>\n",
              "      <td>0</td>\n",
              "      <td>0</td>\n",
              "    </tr>\n",
              "    <tr>\n",
              "      <th>10950</th>\n",
              "      <td>0</td>\n",
              "      <td>1</td>\n",
              "      <td>0</td>\n",
              "      <td>0</td>\n",
              "      <td>0</td>\n",
              "    </tr>\n",
              "  </tbody>\n",
              "</table>\n",
              "<p>18361 rows × 5 columns</p>\n",
              "</div>"
            ],
            "text/plain": [
              "       Bachelors  Graduate Degree  ...  Partial College  Partial High School\n",
              "7539           0                0  ...                1                    0\n",
              "2088           0                0  ...                0                    1\n",
              "4355           1                0  ...                0                    0\n",
              "6963           0                0  ...                0                    1\n",
              "17743          0                0  ...                0                    1\n",
              "...          ...              ...  ...              ...                  ...\n",
              "10185          0                1  ...                0                    0\n",
              "10577          0                1  ...                0                    0\n",
              "9525           0                1  ...                0                    0\n",
              "16892          0                1  ...                0                    0\n",
              "10950          0                1  ...                0                    0\n",
              "\n",
              "[18361 rows x 5 columns]"
            ]
          },
          "metadata": {},
          "execution_count": 72
        }
      ]
    },
    {
      "cell_type": "code",
      "metadata": {
        "colab": {
          "base_uri": "https://localhost:8080/"
        },
        "id": "CQika6HmIT0q",
        "outputId": "5c52c7df-782f-457d-dda6-7383efcb9c1b"
      },
      "source": [
        "#correlation\n",
        "corr_mat = df.corr()\n",
        "print(corr_mat)"
      ],
      "execution_count": null,
      "outputs": [
        {
          "output_type": "stream",
          "name": "stdout",
          "text": [
            "                      HomeOwnerFlag  ...  normalizedIncome\n",
            "HomeOwnerFlag              1.000000  ...          0.356243\n",
            "NumberCarsOwned            0.209787  ...          0.477300\n",
            "NumberChildrenAtHome       0.368459  ...          0.005990\n",
            "YearlyIncome               0.356243  ...          1.000000\n",
            "normalizedIncome           0.356243  ...          1.000000\n",
            "\n",
            "[5 rows x 5 columns]\n"
          ]
        }
      ]
    },
    {
      "cell_type": "code",
      "metadata": {
        "id": "7hOTJX7s_nyN"
      },
      "source": [
        "from scipy.spatial import distance"
      ],
      "execution_count": null,
      "outputs": []
    },
    {
      "cell_type": "code",
      "metadata": {
        "colab": {
          "base_uri": "https://localhost:8080/"
        },
        "id": "ucYs33Se_ofU",
        "outputId": "3401f17f-46d8-42a4-ebf5-6ba1e51d091c"
      },
      "source": [
        "distance.cosine(df['YearlyIncome'],df['normalizedIncome'])"
      ],
      "execution_count": null,
      "outputs": [
        {
          "output_type": "execute_result",
          "data": {
            "text/plain": [
              "0.015477872308511276"
            ]
          },
          "metadata": {},
          "execution_count": 75
        }
      ]
    },
    {
      "cell_type": "code",
      "metadata": {
        "colab": {
          "base_uri": "https://localhost:8080/"
        },
        "id": "19f83DU0Avol",
        "outputId": "bb424b86-5175-4985-809b-69db5a9f2960"
      },
      "source": [
        "distance.jaccard(df['YearlyIncome'].values,df['normalizedIncome'])"
      ],
      "execution_count": null,
      "outputs": [
        {
          "output_type": "execute_result",
          "data": {
            "text/plain": [
              "1.0"
            ]
          },
          "metadata": {},
          "execution_count": 76
        }
      ]
    },
    {
      "cell_type": "markdown",
      "metadata": {
        "id": "h9Et32yx6HOl"
      },
      "source": [
        "# Assignment 4(PCA)"
      ]
    },
    {
      "cell_type": "markdown",
      "metadata": {
        "id": "5u5sHvgZcK7a"
      },
      "source": [
        "Q1: Load the load_digit dataset from sklearn.datasets.\n",
        "This dataset is made up of 1797 8x8 images. Each image is of a hand-written digit. Therefore, each training\n",
        "example has 64 features (8X8) pixel values. Hence, the size of dataset is 1797X64.\n",
        "Implement feature selection technique using Principal Component Analysis (PCA) using step-by-step\n",
        "approach."
      ]
    },
    {
      "cell_type": "code",
      "metadata": {
        "id": "MSHvegmC-Vas"
      },
      "source": [
        "from sklearn.datasets import load_digits\n",
        "import numpy as np\n",
        "import pandas as pd"
      ],
      "execution_count": null,
      "outputs": []
    },
    {
      "cell_type": "code",
      "metadata": {
        "colab": {
          "base_uri": "https://localhost:8080/"
        },
        "id": "PkVcw4yeVI-1",
        "outputId": "10ba9bfc-e265-4575-c3d1-c34298a29780"
      },
      "source": [
        "digits = load_digits()\n",
        "print(digits)"
      ],
      "execution_count": null,
      "outputs": [
        {
          "output_type": "stream",
          "name": "stdout",
          "text": [
            "{'data': array([[ 0.,  0.,  5., ...,  0.,  0.,  0.],\n",
            "       [ 0.,  0.,  0., ..., 10.,  0.,  0.],\n",
            "       [ 0.,  0.,  0., ..., 16.,  9.,  0.],\n",
            "       ...,\n",
            "       [ 0.,  0.,  1., ...,  6.,  0.,  0.],\n",
            "       [ 0.,  0.,  2., ..., 12.,  0.,  0.],\n",
            "       [ 0.,  0., 10., ..., 12.,  1.,  0.]]), 'target': array([0, 1, 2, ..., 8, 9, 8]), 'target_names': array([0, 1, 2, 3, 4, 5, 6, 7, 8, 9]), 'images': array([[[ 0.,  0.,  5., ...,  1.,  0.,  0.],\n",
            "        [ 0.,  0., 13., ..., 15.,  5.,  0.],\n",
            "        [ 0.,  3., 15., ..., 11.,  8.,  0.],\n",
            "        ...,\n",
            "        [ 0.,  4., 11., ..., 12.,  7.,  0.],\n",
            "        [ 0.,  2., 14., ..., 12.,  0.,  0.],\n",
            "        [ 0.,  0.,  6., ...,  0.,  0.,  0.]],\n",
            "\n",
            "       [[ 0.,  0.,  0., ...,  5.,  0.,  0.],\n",
            "        [ 0.,  0.,  0., ...,  9.,  0.,  0.],\n",
            "        [ 0.,  0.,  3., ...,  6.,  0.,  0.],\n",
            "        ...,\n",
            "        [ 0.,  0.,  1., ...,  6.,  0.,  0.],\n",
            "        [ 0.,  0.,  1., ...,  6.,  0.,  0.],\n",
            "        [ 0.,  0.,  0., ..., 10.,  0.,  0.]],\n",
            "\n",
            "       [[ 0.,  0.,  0., ..., 12.,  0.,  0.],\n",
            "        [ 0.,  0.,  3., ..., 14.,  0.,  0.],\n",
            "        [ 0.,  0.,  8., ..., 16.,  0.,  0.],\n",
            "        ...,\n",
            "        [ 0.,  9., 16., ...,  0.,  0.,  0.],\n",
            "        [ 0.,  3., 13., ..., 11.,  5.,  0.],\n",
            "        [ 0.,  0.,  0., ..., 16.,  9.,  0.]],\n",
            "\n",
            "       ...,\n",
            "\n",
            "       [[ 0.,  0.,  1., ...,  1.,  0.,  0.],\n",
            "        [ 0.,  0., 13., ...,  2.,  1.,  0.],\n",
            "        [ 0.,  0., 16., ..., 16.,  5.,  0.],\n",
            "        ...,\n",
            "        [ 0.,  0., 16., ..., 15.,  0.,  0.],\n",
            "        [ 0.,  0., 15., ..., 16.,  0.,  0.],\n",
            "        [ 0.,  0.,  2., ...,  6.,  0.,  0.]],\n",
            "\n",
            "       [[ 0.,  0.,  2., ...,  0.,  0.,  0.],\n",
            "        [ 0.,  0., 14., ..., 15.,  1.,  0.],\n",
            "        [ 0.,  4., 16., ..., 16.,  7.,  0.],\n",
            "        ...,\n",
            "        [ 0.,  0.,  0., ..., 16.,  2.,  0.],\n",
            "        [ 0.,  0.,  4., ..., 16.,  2.,  0.],\n",
            "        [ 0.,  0.,  5., ..., 12.,  0.,  0.]],\n",
            "\n",
            "       [[ 0.,  0., 10., ...,  1.,  0.,  0.],\n",
            "        [ 0.,  2., 16., ...,  1.,  0.,  0.],\n",
            "        [ 0.,  0., 15., ..., 15.,  0.,  0.],\n",
            "        ...,\n",
            "        [ 0.,  4., 16., ..., 16.,  6.,  0.],\n",
            "        [ 0.,  8., 16., ..., 16.,  8.,  0.],\n",
            "        [ 0.,  1.,  8., ..., 12.,  1.,  0.]]]), 'DESCR': \".. _digits_dataset:\\n\\nOptical recognition of handwritten digits dataset\\n--------------------------------------------------\\n\\n**Data Set Characteristics:**\\n\\n    :Number of Instances: 5620\\n    :Number of Attributes: 64\\n    :Attribute Information: 8x8 image of integer pixels in the range 0..16.\\n    :Missing Attribute Values: None\\n    :Creator: E. Alpaydin (alpaydin '@' boun.edu.tr)\\n    :Date: July; 1998\\n\\nThis is a copy of the test set of the UCI ML hand-written digits datasets\\nhttps://archive.ics.uci.edu/ml/datasets/Optical+Recognition+of+Handwritten+Digits\\n\\nThe data set contains images of hand-written digits: 10 classes where\\neach class refers to a digit.\\n\\nPreprocessing programs made available by NIST were used to extract\\nnormalized bitmaps of handwritten digits from a preprinted form. From a\\ntotal of 43 people, 30 contributed to the training set and different 13\\nto the test set. 32x32 bitmaps are divided into nonoverlapping blocks of\\n4x4 and the number of on pixels are counted in each block. This generates\\nan input matrix of 8x8 where each element is an integer in the range\\n0..16. This reduces dimensionality and gives invariance to small\\ndistortions.\\n\\nFor info on NIST preprocessing routines, see M. D. Garris, J. L. Blue, G.\\nT. Candela, D. L. Dimmick, J. Geist, P. J. Grother, S. A. Janet, and C.\\nL. Wilson, NIST Form-Based Handprint Recognition System, NISTIR 5469,\\n1994.\\n\\n.. topic:: References\\n\\n  - C. Kaynak (1995) Methods of Combining Multiple Classifiers and Their\\n    Applications to Handwritten Digit Recognition, MSc Thesis, Institute of\\n    Graduate Studies in Science and Engineering, Bogazici University.\\n  - E. Alpaydin, C. Kaynak (1998) Cascading Classifiers, Kybernetika.\\n  - Ken Tang and Ponnuthurai N. Suganthan and Xi Yao and A. Kai Qin.\\n    Linear dimensionalityreduction using relevance weighted LDA. School of\\n    Electrical and Electronic Engineering Nanyang Technological University.\\n    2005.\\n  - Claudio Gentile. A New Approximate Maximal Margin Classification\\n    Algorithm. NIPS. 2000.\"}\n"
          ]
        }
      ]
    },
    {
      "cell_type": "code",
      "metadata": {
        "colab": {
          "base_uri": "https://localhost:8080/"
        },
        "id": "toxtCWgDBnno",
        "outputId": "afbded45-907f-4cc1-93fb-6b75ab018204"
      },
      "source": [
        "print(digits.keys())"
      ],
      "execution_count": null,
      "outputs": [
        {
          "output_type": "stream",
          "name": "stdout",
          "text": [
            "dict_keys(['data', 'target', 'target_names', 'images', 'DESCR'])\n"
          ]
        }
      ]
    },
    {
      "cell_type": "code",
      "metadata": {
        "id": "_hga3fgi_NIV"
      },
      "source": [
        "X= digits.data\n",
        "Y= digits.target"
      ],
      "execution_count": null,
      "outputs": []
    },
    {
      "cell_type": "code",
      "metadata": {
        "colab": {
          "base_uri": "https://localhost:8080/"
        },
        "id": "RZ_Wo1hG_V3G",
        "outputId": "951c284e-ac78-4740-df4f-8b6d42a29584"
      },
      "source": [
        "from sklearn.preprocessing import StandardScaler\n",
        "X_scaled = StandardScaler().fit_transform(X)\n",
        "X_scaled[:5]"
      ],
      "execution_count": null,
      "outputs": [
        {
          "output_type": "execute_result",
          "data": {
            "text/plain": [
              "array([[ 0.        , -0.33501649, -0.04308102,  0.27407152, -0.66447751,\n",
              "        -0.84412939, -0.40972392, -0.12502292, -0.05907756, -0.62400926,\n",
              "         0.4829745 ,  0.75962245, -0.05842586,  1.12772113,  0.87958306,\n",
              "        -0.13043338, -0.04462507,  0.11144272,  0.89588044, -0.86066632,\n",
              "        -1.14964846,  0.51547187,  1.90596347, -0.11422184, -0.03337973,\n",
              "         0.48648928,  0.46988512, -1.49990136, -1.61406277,  0.07639777,\n",
              "         1.54181413, -0.04723238,  0.        ,  0.76465553,  0.05263019,\n",
              "        -1.44763006, -1.73666443,  0.04361588,  1.43955804,  0.        ,\n",
              "        -0.06134367,  0.8105536 ,  0.63011714, -1.12245711, -1.06623158,\n",
              "         0.66096475,  0.81845076, -0.08874162, -0.03543326,  0.74211893,\n",
              "         1.15065212, -0.86867056,  0.11012973,  0.53761116, -0.75743581,\n",
              "        -0.20978513, -0.02359646, -0.29908135,  0.08671869,  0.20829258,\n",
              "        -0.36677122, -1.14664746, -0.5056698 , -0.19600752],\n",
              "       [ 0.        , -0.33501649, -1.09493684,  0.03864775,  0.26875116,\n",
              "        -0.13801953, -0.40972392, -0.12502292, -0.05907756, -0.62400926,\n",
              "        -1.91557297, -0.24630352,  1.19644995,  0.13619465, -0.51499146,\n",
              "        -0.13043338, -0.04462507, -0.72764628, -1.2133854 ,  1.38030848,\n",
              "         1.44186017, -0.29155283, -0.54880546, -0.11422184, -0.03337973,\n",
              "         1.44018517,  0.95451315,  1.22058589,  0.98740215, -0.94558832,\n",
              "        -0.62889588, -0.04723238,  0.        , -0.67237227, -1.05445197,\n",
              "         1.10556952,  0.96064411, -0.97870236, -0.82269451,  0.        ,\n",
              "        -0.06134367, -0.5312841 , -0.89983895,  1.36217503,  1.33078862,\n",
              "        -0.39278683, -0.79827225, -0.08874162, -0.03543326, -0.40357499,\n",
              "        -1.15311752,  1.23639392,  1.24208282, -0.45750018, -0.75743581,\n",
              "        -0.20978513, -0.02359646, -0.29908135, -1.08938309, -0.24900951,\n",
              "         0.84963214,  0.54856067, -0.5056698 , -0.19600752],\n",
              "       [ 0.        , -0.33501649, -1.09493684, -1.84474239,  0.7353655 ,\n",
              "         1.09767273, -0.40972392, -0.12502292, -0.05907756, -0.62400926,\n",
              "        -1.36206201,  1.01110394,  0.98730398,  0.96246672, -0.51499146,\n",
              "        -0.13043338, -0.04462507, -0.72764628, -0.33452463,  1.03554312,\n",
              "         0.14610585,  1.32249658, -0.54880546, -0.11422184, -0.03337973,\n",
              "        -0.78510524, -1.30708431, -0.47971864,  0.8248106 ,  0.58739082,\n",
              "        -0.62889588, -0.04723238,  0.        , -0.38496671,  0.05263019,\n",
              "         0.6268446 ,  0.79206232, -1.31947511, -0.82269451,  0.        ,\n",
              "        -0.06134367,  2.48785073,  1.39509519,  1.36217503, -0.42702619,\n",
              "        -1.44653841, -0.79827225, -0.08874162, -0.03543326,  1.31496589,\n",
              "         0.97343907,  1.23639392,  1.24208282,  0.37175927,  0.25922997,\n",
              "        -0.20978513, -0.02359646, -0.29908135, -1.08938309, -2.07821787,\n",
              "        -0.16403733,  1.56568555,  1.6951369 , -0.19600752],\n",
              "       [ 0.        , -0.33501649,  0.37766131,  0.74491906,  0.26875116,\n",
              "        -0.84412939, -0.40972392, -0.12502292, -0.05907756,  1.87969075,\n",
              "         0.4829745 , -1.50371099,  0.98730398, -0.69007742, -0.51499146,\n",
              "        -0.13043338, -0.04462507, -0.16825361, -1.5649297 ,  1.03554312,\n",
              "         0.9559523 , -1.25998248, -0.54880546, -0.11422184, -0.03337973,\n",
              "        -0.78510524, -1.14554164,  1.05055544,  0.17444436, -1.11591934,\n",
              "        -0.62889588, -0.04723238,  0.        , -0.67237227, -1.21260656,\n",
              "        -1.28805509,  0.28631697,  0.554775  , -0.53991295,  0.        ,\n",
              "        -0.06134367, -0.5312841 , -1.05283456, -1.12245711, -1.06623158,\n",
              "         0.30971422,  1.04941119, -0.08874162, -0.03543326, -0.40357499,\n",
              "         0.08737382, -1.06004006, -0.83316451,  0.86931494,  1.0725626 ,\n",
              "        -0.20978513, -0.02359646, -0.29908135,  0.28273565,  0.20829258,\n",
              "         0.24143046,  0.37903986, -0.5056698 , -0.19600752],\n",
              "       [ 0.        , -0.33501649, -1.09493684, -2.5510137 , -0.19786317,\n",
              "        -1.02065685, -0.40972392, -0.12502292, -0.05907756, -0.62400926,\n",
              "        -1.91557297, -1.25222949, -0.4767178 , -1.35109507, -0.51499146,\n",
              "        -0.13043338, -0.04462507, -0.72764628, -1.5649297 ,  1.03554312,\n",
              "        -0.17783273, -0.9371726 ,  0.06488677, -0.11422184, -0.03337973,\n",
              "        -0.78510524, -0.33782826,  1.05055544, -1.61406277,  0.24672879,\n",
              "         1.54181413, -0.04723238,  0.        ,  0.76465553,  1.31786694,\n",
              "         0.14811967, -1.73666443,  1.23632049,  0.8739949 ,  0.        ,\n",
              "        -0.06134367,  0.8105536 ,  1.24209958,  1.36217503,  0.85138458,\n",
              "         1.36346581, -0.56731182, -0.08874162, -0.03543326, -0.40357499,\n",
              "        -1.33033057, -1.25140956,  1.05342397,  0.20590738, -0.75743581,\n",
              "        -0.20978513, -0.02359646, -0.29908135, -1.08938309, -2.30686892,\n",
              "         0.84963214, -0.46856421, -0.5056698 , -0.19600752]])"
            ]
          },
          "metadata": {},
          "execution_count": 6
        }
      ]
    },
    {
      "cell_type": "code",
      "metadata": {
        "colab": {
          "base_uri": "https://localhost:8080/"
        },
        "id": "W0IiKdxLVrOM",
        "outputId": "ed6282d0-17c5-4586-e7cb-e8a74b30c2b2"
      },
      "source": [
        "# Taking Transpose\n",
        "# bcz we want row wise matrix\n",
        "features = X_scaled.T\n",
        "\n",
        "cov_matrix = np.cov(features)\n",
        "\n",
        "print(cov_matrix)"
      ],
      "execution_count": null,
      "outputs": [
        {
          "output_type": "stream",
          "name": "stdout",
          "text": [
            "[[ 0.          0.          0.         ...  0.          0.\n",
            "   0.        ]\n",
            " [ 0.          1.00055679  0.55692803 ... -0.02988686  0.02656195\n",
            "  -0.04391324]\n",
            " [ 0.          0.55692803  1.00055679 ... -0.04120565  0.07263924\n",
            "   0.08256908]\n",
            " ...\n",
            " [ 0.         -0.02988686 -0.04120565 ...  1.00055679  0.64868875\n",
            "   0.26213704]\n",
            " [ 0.          0.02656195  0.07263924 ...  0.64868875  1.00055679\n",
            "   0.62077355]\n",
            " [ 0.         -0.04391324  0.08256908 ...  0.26213704  0.62077355\n",
            "   1.00055679]]\n"
          ]
        }
      ]
    },
    {
      "cell_type": "code",
      "metadata": {
        "colab": {
          "base_uri": "https://localhost:8080/"
        },
        "id": "lN7GzSk--cMs",
        "outputId": "baf5c861-9b84-4a45-fddf-2d947f4345d1"
      },
      "source": [
        "values, vectors = np.linalg.eig(cov_matrix)\n",
        "print(values[:5])\n",
        "print(vectors)"
      ],
      "execution_count": null,
      "outputs": [
        {
          "output_type": "stream",
          "name": "stdout",
          "text": [
            "[7.34477606 5.83549054 5.15396118 3.96623597 2.9663452 ]\n",
            "[[ 0.          0.          0.         ...  1.          0.\n",
            "   0.        ]\n",
            " [ 0.18223392 -0.04702701  0.02358821 ...  0.          0.\n",
            "   0.        ]\n",
            " [ 0.285868   -0.0595648  -0.05679875 ...  0.          0.\n",
            "   0.        ]\n",
            " ...\n",
            " [ 0.103198    0.24261778 -0.02227952 ...  0.          0.\n",
            "   0.        ]\n",
            " [ 0.1198106   0.16508926  0.10036559 ...  0.          0.\n",
            "   0.        ]\n",
            " [ 0.07149362  0.07132924  0.09244589 ...  0.          0.\n",
            "   0.        ]]\n"
          ]
        }
      ]
    },
    {
      "cell_type": "code",
      "metadata": {
        "colab": {
          "base_uri": "https://localhost:8080/"
        },
        "id": "JUhLyfnU-cOy",
        "outputId": "42cf8b8d-b9e9-4c2e-a115-47a2f0249612"
      },
      "source": [
        "variance = []\n",
        "\n",
        "for i in range(len(values)):\n",
        "\n",
        "    variance.append(values[i] / np.sum(values))\n",
        "\n",
        "print(variance)"
      ],
      "execution_count": null,
      "outputs": [
        {
          "output_type": "stream",
          "name": "stdout",
          "text": [
            "[0.12033916097734898, 0.09561054403097898, 0.0844441489262453, 0.06498407907524166, 0.04860154875966399, 0.042141198692719505, 0.03942082803567379, 0.03389380924638318, 0.029982210116252198, 0.029320025512522215, 0.027818054635503346, 0.02577055092582008, 0.022753033157642558, 0.022271797395143473, 0.021652294318492367, 0.019141666064421355, 0.017755470851681925, 0.016380692742844254, 0.015964601688623382, 0.014891911870878252, 0.013479695658179391, 0.0127193137023476, 0.011658373505919513, 0.010576465985363173, 0.009753159471981082, 0.009445589897319969, 0.00863013826970722, 0.008366428536685157, 0.007976932484112407, 0.007464713709260606, 0.0072558215137027435, 0.0069191124548118104, 0.0065390853557261526, 0.006407925738459876, 0.00591384111722343, 0.005711624052235237, 0.005236368034166366, 0.004818075864451421, 0.0008253509448180407, 0.004537192598584493, 0.001036957301557179, 0.0042316275323278085, 0.004060530699790378, 0.00397084808275827, 0.0012510074249730148, 0.001351184113370858, 0.0014776269410608806, 0.0016123606225672859, 0.001679463874955837, 0.0018331849919718262, 0.00195512426019818, 0.002035976345253762, 0.0021825685771200863, 0.002344830055356353, 0.0035649330314261696, 0.002591749408814643, 0.002764892635235461, 0.0034078718147029907, 0.002885752941089337, 0.003278353352879542, 0.003110320073453565, 0.0, 0.0, 0.0]\n"
          ]
        }
      ]
    },
    {
      "cell_type": "code",
      "metadata": {
        "colab": {
          "base_uri": "https://localhost:8080/",
          "height": 203
        },
        "id": "cR6lkGDNWhhv",
        "outputId": "c5a02c1c-762a-47fe-de1f-06e357a56f62"
      },
      "source": [
        "projected_1 = X_scaled.dot(vectors.T[0])\n",
        "projected_2 = X_scaled.dot(vectors.T[1])\n",
        "res = pd.DataFrame(projected_1,columns=['PC1'])\n",
        "res['PC2']=projected_2\n",
        "res['Y']=Y\n",
        "res.head()"
      ],
      "execution_count": null,
      "outputs": [
        {
          "output_type": "execute_result",
          "data": {
            "text/html": [
              "<div>\n",
              "<style scoped>\n",
              "    .dataframe tbody tr th:only-of-type {\n",
              "        vertical-align: middle;\n",
              "    }\n",
              "\n",
              "    .dataframe tbody tr th {\n",
              "        vertical-align: top;\n",
              "    }\n",
              "\n",
              "    .dataframe thead th {\n",
              "        text-align: right;\n",
              "    }\n",
              "</style>\n",
              "<table border=\"1\" class=\"dataframe\">\n",
              "  <thead>\n",
              "    <tr style=\"text-align: right;\">\n",
              "      <th></th>\n",
              "      <th>PC1</th>\n",
              "      <th>PC2</th>\n",
              "      <th>Y</th>\n",
              "    </tr>\n",
              "  </thead>\n",
              "  <tbody>\n",
              "    <tr>\n",
              "      <th>0</th>\n",
              "      <td>-1.914214</td>\n",
              "      <td>0.954502</td>\n",
              "      <td>0</td>\n",
              "    </tr>\n",
              "    <tr>\n",
              "      <th>1</th>\n",
              "      <td>-0.588980</td>\n",
              "      <td>-0.924636</td>\n",
              "      <td>1</td>\n",
              "    </tr>\n",
              "    <tr>\n",
              "      <th>2</th>\n",
              "      <td>-1.302039</td>\n",
              "      <td>0.317189</td>\n",
              "      <td>2</td>\n",
              "    </tr>\n",
              "    <tr>\n",
              "      <th>3</th>\n",
              "      <td>3.020770</td>\n",
              "      <td>0.868772</td>\n",
              "      <td>3</td>\n",
              "    </tr>\n",
              "    <tr>\n",
              "      <th>4</th>\n",
              "      <td>-4.528949</td>\n",
              "      <td>1.093480</td>\n",
              "      <td>4</td>\n",
              "    </tr>\n",
              "  </tbody>\n",
              "</table>\n",
              "</div>"
            ],
            "text/plain": [
              "        PC1       PC2  Y\n",
              "0 -1.914214  0.954502  0\n",
              "1 -0.588980 -0.924636  1\n",
              "2 -1.302039  0.317189  2\n",
              "3  3.020770  0.868772  3\n",
              "4 -4.528949  1.093480  4"
            ]
          },
          "metadata": {},
          "execution_count": 11
        }
      ]
    },
    {
      "cell_type": "code",
      "metadata": {
        "colab": {
          "base_uri": "https://localhost:8080/",
          "height": 677
        },
        "id": "20zUXhAPEOHf",
        "outputId": "8bc608ad-d756-4cf4-9269-00ea56bbcf94"
      },
      "source": [
        "import matplotlib.pyplot as plt\n",
        "import seaborn as sns\n",
        "plt.figure(figsize=(10,10))\n",
        "sns.scatterplot(res['PC1'],[0]*len(res),hue=res['Y'],s=100)"
      ],
      "execution_count": null,
      "outputs": [
        {
          "output_type": "stream",
          "name": "stderr",
          "text": [
            "/usr/local/lib/python3.7/dist-packages/seaborn/_decorators.py:43: FutureWarning: Pass the following variables as keyword args: x, y. From version 0.12, the only valid positional argument will be `data`, and passing other arguments without an explicit keyword will result in an error or misinterpretation.\n",
            "  FutureWarning\n"
          ]
        },
        {
          "output_type": "execute_result",
          "data": {
            "text/plain": [
              "<matplotlib.axes._subplots.AxesSubplot at 0x7f370d523510>"
            ]
          },
          "metadata": {},
          "execution_count": 91
        },
        {
          "output_type": "display_data",
          "data": {
            "image/png": "[encoded data removed]",
            "text/plain": [
              "<Figure size 720x720 with 1 Axes>"
            ]
          },
          "metadata": {
            "needs_background": "light"
          }
        }
      ]
    },
    {
      "cell_type": "markdown",
      "metadata": {
        "id": "M99IWC4MS7AQ"
      },
      "source": [
        "# Assignment 5(SLR)"
      ]
    },
    {
      "cell_type": "markdown",
      "metadata": {
        "id": "Hox_aIKwWYrl"
      },
      "source": [
        "Q1: Implement the Simple Linear Regression for the data given below and predict the house price for a house with plot size 3000, 2000 and 1500 feet:\n",
        "![1.png](data:image/png;base64,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)"
      ]
    },
    {
      "cell_type": "code",
      "metadata": {
        "id": "D62CI8WmS6DK"
      },
      "source": [
        "import numpy as np\n",
        "import pandas as pd \n",
        "from sklearn.linear_model import LinearRegression"
      ],
      "execution_count": null,
      "outputs": []
    },
    {
      "cell_type": "code",
      "metadata": {
        "colab": {
          "base_uri": "https://localhost:8080/"
        },
        "id": "YGUPo6SeT51U",
        "outputId": "f18f922c-8bcb-4d66-8595-89455b193aaa"
      },
      "source": [
        "df=pd.read_csv(\"/content/drive/MyDrive/Colab Notebooks/housedata.csv\")\n",
        "print(df)"
      ],
      "execution_count": null,
      "outputs": [
        {
          "output_type": "stream",
          "name": "stdout",
          "text": [
            "   HousePrice  SquareFeet\n",
            "0         245        1400\n",
            "1         312        1600\n",
            "2         279        1700\n",
            "3         308        1875\n",
            "4         199        1100\n",
            "5         219        1550\n",
            "6         405        2350\n",
            "7         324        2350\n",
            "8         319        1425\n",
            "9         255        1700\n"
          ]
        }
      ]
    },
    {
      "cell_type": "code",
      "metadata": {
        "id": "qKdmQGQeUxnl"
      },
      "source": [
        "X=df[['SquareFeet']]\n",
        "Y=df['HousePrice']"
      ],
      "execution_count": null,
      "outputs": []
    },
    {
      "cell_type": "code",
      "metadata": {
        "id": "3tueEOwZU57o"
      },
      "source": [
        "linreg=LinearRegression()"
      ],
      "execution_count": null,
      "outputs": []
    },
    {
      "cell_type": "code",
      "metadata": {
        "colab": {
          "base_uri": "https://localhost:8080/"
        },
        "id": "nJxHtiZhU-3M",
        "outputId": "129eab11-a94d-4605-c44b-709e6ae403a7"
      },
      "source": [
        "linreg.fit(X,Y)"
      ],
      "execution_count": null,
      "outputs": [
        {
          "output_type": "execute_result",
          "data": {
            "text/plain": [
              "LinearRegression(copy_X=True, fit_intercept=True, n_jobs=None, normalize=False)"
            ]
          },
          "metadata": {},
          "execution_count": 16
        }
      ]
    },
    {
      "cell_type": "code",
      "metadata": {
        "id": "Ppo47VxgU92A",
        "colab": {
          "base_uri": "https://localhost:8080/"
        },
        "outputId": "6199295d-76c7-4e9a-8a0a-3c03a26688e9"
      },
      "source": [
        "ypredict=linreg.predict(X)\n",
        "print(ypredict)"
      ],
      "execution_count": null,
      "outputs": [
        {
          "output_type": "stream",
          "name": "stdout",
          "text": [
            "[250.59574468 274.13951866 285.91140565 306.51220788 215.28008371\n",
            " 268.25357517 362.42867108 362.42867108 253.53871643 285.91140565]\n"
          ]
        }
      ]
    },
    {
      "cell_type": "code",
      "metadata": {
        "colab": {
          "base_uri": "https://localhost:8080/"
        },
        "id": "VX_zb-PsVfXG",
        "outputId": "bd87e7f1-1219-42e5-fe7f-416f70d667ef"
      },
      "source": [
        "m=linreg.coef_\n",
        "print(m)"
      ],
      "execution_count": null,
      "outputs": [
        {
          "output_type": "stream",
          "name": "stdout",
          "text": [
            "[0.11771887]\n"
          ]
        }
      ]
    },
    {
      "cell_type": "code",
      "metadata": {
        "colab": {
          "base_uri": "https://localhost:8080/"
        },
        "id": "F6Vx-wCIVi4O",
        "outputId": "e55fe91d-8243-4023-84ed-c481d7ba7b63"
      },
      "source": [
        "c=linreg.intercept_\n",
        "print(c)"
      ],
      "execution_count": null,
      "outputs": [
        {
          "output_type": "stream",
          "name": "stdout",
          "text": [
            "85.7893268224625\n"
          ]
        }
      ]
    },
    {
      "cell_type": "code",
      "metadata": {
        "colab": {
          "base_uri": "https://localhost:8080/"
        },
        "id": "Ppa66jAVVmoq",
        "outputId": "4bdda525-901b-4437-deb4-a9fb96a937dc"
      },
      "source": [
        "#y=mx+c\n",
        "#the value of y for x= 3000,2000,1500\n",
        "y1=m*3000+c\n",
        "y2=m*2000+c\n",
        "y3=m*1500+c\n",
        "print(y1)\n",
        "print(y2)\n",
        "print(y3)"
      ],
      "execution_count": null,
      "outputs": [
        {
          "output_type": "stream",
          "name": "stdout",
          "text": [
            "[438.94593652]\n",
            "[321.22706662]\n",
            "[262.36763167]\n"
          ]
        }
      ]
    },
    {
      "cell_type": "code",
      "metadata": {
        "colab": {
          "base_uri": "https://localhost:8080/",
          "height": 282
        },
        "id": "4gD1-Xz9GK_y",
        "outputId": "2534704a-036e-4a83-9185-4b5b1743efed"
      },
      "source": [
        "import matplotlib.pyplot as plt\n",
        "plt.plot(X, ypredict, color='blue', linewidth=3)"
      ],
      "execution_count": null,
      "outputs": [
        {
          "output_type": "execute_result",
          "data": {
            "text/plain": [
              "[<matplotlib.lines.Line2D at 0x7f370d63c4d0>]"
            ]
          },
          "metadata": {},
          "execution_count": 77
        },
        {
          "output_type": "display_data",
          "data": {
            "image/png": "[encoded data removed]",
            "text/plain": [
              "<Figure size 432x288 with 1 Axes>"
            ]
          },
          "metadata": {
            "needs_background": "light"
          }
        }
      ]
    },
    {
      "cell_type": "markdown",
      "metadata": {
        "id": "8tD94RbmWbgn"
      },
      "source": [
        "Q2: Implement the Multiple Linear Regression for the data given below and predict the stock index price if interest rate is 1.5 and unemployment rate is 5.8.\n",
        "\n",
        "![2.png](data:image/png;base64,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)"
      ]
    },
    {
      "cell_type": "code",
      "metadata": {
        "colab": {
          "base_uri": "https://localhost:8080/"
        },
        "id": "6PSACWAtWXe9",
        "outputId": "05c701db-e7bf-426a-d812-69b3e1bdeb50"
      },
      "source": [
        "df1=pd.read_csv(\"/content/drive/MyDrive/Colab Notebooks/homedata.csv\")\n",
        "print(df1) "
      ],
      "execution_count": null,
      "outputs": [
        {
          "output_type": "stream",
          "name": "stdout",
          "text": [
            "    Year  Month  Interest_Rate  Unemployment_Rate  Stock_Index_Price\n",
            "0   2017     12           2.75                5.3               1464\n",
            "1   2017     11           2.50                5.3               1394\n",
            "2   2017     10           2.50                5.3               1357\n",
            "3   2017      9           2.50                5.3               1293\n",
            "4   2017      8           2.50                5.4               1256\n",
            "5   2017      7           2.50                5.6               1254\n",
            "6   2017      6           2.50                5.5               1234\n",
            "7   2017      5           2.25                5.5               1195\n",
            "8   2017      4           2.25                5.5               1159\n",
            "9   2017      3           2.25                5.6               1167\n",
            "10  2017      2           2.00                5.7               1130\n",
            "11  2017      1           2.00                5.9               1075\n",
            "12  2016     12           2.00                6.0               1047\n",
            "13  2016     11           1.75                5.9                965\n",
            "14  2016     10           1.75                5.8                943\n",
            "15  2016      9           1.75                6.1                958\n",
            "16  2016      8           1.75                6.2                971\n",
            "17  2016      7           1.75                6.1                949\n",
            "18  2016      6           1.75                6.1                884\n",
            "19  2016      5           1.75                6.1                866\n",
            "20  2016      4           1.75                5.9                876\n",
            "21  2016      3           1.75                6.2                822\n",
            "22  2016      2           1.75                6.2                704\n",
            "23  2016      1           1.75                6.1                719\n"
          ]
        }
      ]
    },
    {
      "cell_type": "code",
      "metadata": {
        "id": "7B3479G0ZEY1"
      },
      "source": [
        "reg=LinearRegression()"
      ],
      "execution_count": null,
      "outputs": []
    },
    {
      "cell_type": "code",
      "metadata": {
        "id": "-Otu1oNiZMEw"
      },
      "source": [
        "X1=df1.iloc[:,2:4]\n",
        "Y1=df1.iloc[:,-1]"
      ],
      "execution_count": null,
      "outputs": []
    },
    {
      "cell_type": "code",
      "metadata": {
        "colab": {
          "base_uri": "https://localhost:8080/"
        },
        "id": "phDl94TjZaJW",
        "outputId": "325ed9fb-42c8-4a87-da92-8a93fcbb536d"
      },
      "source": [
        "print(X1)"
      ],
      "execution_count": null,
      "outputs": [
        {
          "output_type": "stream",
          "name": "stdout",
          "text": [
            "    Interest_Rate  Unemployment_Rate\n",
            "0            2.75                5.3\n",
            "1            2.50                5.3\n",
            "2            2.50                5.3\n",
            "3            2.50                5.3\n",
            "4            2.50                5.4\n",
            "5            2.50                5.6\n",
            "6            2.50                5.5\n",
            "7            2.25                5.5\n",
            "8            2.25                5.5\n",
            "9            2.25                5.6\n",
            "10           2.00                5.7\n",
            "11           2.00                5.9\n",
            "12           2.00                6.0\n",
            "13           1.75                5.9\n",
            "14           1.75                5.8\n",
            "15           1.75                6.1\n",
            "16           1.75                6.2\n",
            "17           1.75                6.1\n",
            "18           1.75                6.1\n",
            "19           1.75                6.1\n",
            "20           1.75                5.9\n",
            "21           1.75                6.2\n",
            "22           1.75                6.2\n",
            "23           1.75                6.1\n"
          ]
        }
      ]
    },
    {
      "cell_type": "code",
      "metadata": {
        "colab": {
          "base_uri": "https://localhost:8080/"
        },
        "id": "mQlnQk3XZYj6",
        "outputId": "6e4b009a-0d5a-41fc-e729-86ae38fab1fe"
      },
      "source": [
        "print(Y1)"
      ],
      "execution_count": null,
      "outputs": [
        {
          "output_type": "stream",
          "name": "stdout",
          "text": [
            "0     1464\n",
            "1     1394\n",
            "2     1357\n",
            "3     1293\n",
            "4     1256\n",
            "5     1254\n",
            "6     1234\n",
            "7     1195\n",
            "8     1159\n",
            "9     1167\n",
            "10    1130\n",
            "11    1075\n",
            "12    1047\n",
            "13     965\n",
            "14     943\n",
            "15     958\n",
            "16     971\n",
            "17     949\n",
            "18     884\n",
            "19     866\n",
            "20     876\n",
            "21     822\n",
            "22     704\n",
            "23     719\n",
            "Name: Stock_Index_Price, dtype: int64\n"
          ]
        }
      ]
    },
    {
      "cell_type": "code",
      "metadata": {
        "colab": {
          "base_uri": "https://localhost:8080/"
        },
        "id": "icMoaB9zZf1V",
        "outputId": "cee66d1d-6bd2-42f3-ba80-225f6b6e75cd"
      },
      "source": [
        "reg.fit(X1,Y1)"
      ],
      "execution_count": null,
      "outputs": [
        {
          "output_type": "execute_result",
          "data": {
            "text/plain": [
              "LinearRegression(copy_X=True, fit_intercept=True, n_jobs=None, normalize=False)"
            ]
          },
          "metadata": {},
          "execution_count": 27
        }
      ]
    },
    {
      "cell_type": "code",
      "metadata": {
        "colab": {
          "base_uri": "https://localhost:8080/"
        },
        "id": "7kvJKXkhZlQX",
        "outputId": "8565d4cd-cb15-47d3-a938-f05ba33313c3"
      },
      "source": [
        "y_predict=reg.predict(X1)\n",
        "print(y_predict)"
      ],
      "execution_count": null,
      "outputs": [
        {
          "output_type": "stream",
          "name": "stdout",
          "text": [
            "[1422.86238865 1336.47736689 1336.47736689 1336.47736689 1311.46270976\n",
            " 1261.43339548 1286.44805262 1200.06303087 1200.06303087 1175.04837373\n",
            " 1063.64869484 1013.61938057  988.60472343  927.23435881  952.24901595\n",
            "  877.20504454  852.1903874   877.20504454  877.20504454  877.20504454\n",
            "  927.23435881  852.1903874   852.1903874   877.20504454]\n"
          ]
        }
      ]
    },
    {
      "cell_type": "code",
      "metadata": {
        "colab": {
          "base_uri": "https://localhost:8080/"
        },
        "id": "4f3657qkZwHV",
        "outputId": "bd352140-6851-44d2-ed83-122d9d2eddb9"
      },
      "source": [
        "print(reg.coef_)"
      ],
      "execution_count": null,
      "outputs": [
        {
          "output_type": "stream",
          "name": "stdout",
          "text": [
            "[ 345.54008701 -250.14657137]\n"
          ]
        }
      ]
    },
    {
      "cell_type": "code",
      "metadata": {
        "colab": {
          "base_uri": "https://localhost:8080/"
        },
        "id": "qxW2B31TZ-OS",
        "outputId": "377e8826-bf39-43a4-afb3-8538b70b4477"
      },
      "source": [
        "print(reg.intercept_)"
      ],
      "execution_count": null,
      "outputs": [
        {
          "output_type": "stream",
          "name": "stdout",
          "text": [
            "1798.4039776258546\n"
          ]
        }
      ]
    },
    {
      "cell_type": "code",
      "metadata": {
        "colab": {
          "base_uri": "https://localhost:8080/"
        },
        "id": "efWWtWcXaGKd",
        "outputId": "ce6192c1-9cc5-43d4-b254-eba766795972"
      },
      "source": [
        "#stock index price if interest is 1.5 and unemployment rate is 5.8\n",
        "y= (345.54008701*1.5) + (-250.14657137*5.8)  + 1798.4039776258546\n",
        "print(y)"
      ],
      "execution_count": null,
      "outputs": [
        {
          "output_type": "stream",
          "name": "stdout",
          "text": [
            "865.8639941948546\n"
          ]
        }
      ]
    },
    {
      "cell_type": "markdown",
      "metadata": {
        "id": "USjyITD_SEkP"
      },
      "source": [
        "# Assignment 6(Multiclass logistic regression)"
      ]
    },
    {
      "cell_type": "markdown",
      "metadata": {
        "id": "qiO7fEL5da8Z"
      },
      "source": [
        "Q1: Multiclass Logistic Regression Implement Multiclass Logistic Regression (step-by-step) on Iris dataset using one vs. rest strategy?"
      ]
    },
    {
      "cell_type": "code",
      "metadata": {
        "id": "ZE6CCTKdSGyu"
      },
      "source": [
        "from sklearn.linear_model import LogisticRegression\n",
        "from sklearn.datasets import load_iris"
      ],
      "execution_count": null,
      "outputs": []
    },
    {
      "cell_type": "code",
      "metadata": {
        "id": "2FVbLy93TP1V",
        "colab": {
          "base_uri": "https://localhost:8080/"
        },
        "outputId": "8d6dd25c-1d7f-4f32-ac0e-61c009ba6f51"
      },
      "source": [
        "iris = load_iris() \n",
        "print(iris.keys()) \n",
        "X = iris.data \n",
        "y = iris.target "
      ],
      "execution_count": null,
      "outputs": [
        {
          "output_type": "stream",
          "name": "stdout",
          "text": [
            "dict_keys(['data', 'target', 'target_names', 'DESCR', 'feature_names', 'filename'])\n"
          ]
        }
      ]
    },
    {
      "cell_type": "code",
      "metadata": {
        "colab": {
          "base_uri": "https://localhost:8080/"
        },
        "id": "pRK0-3fzTUHT",
        "outputId": "67c8a108-9396-4a77-ffb8-6a5a5425db13"
      },
      "source": [
        "print(y)"
      ],
      "execution_count": null,
      "outputs": [
        {
          "output_type": "stream",
          "name": "stdout",
          "text": [
            "[0 0 0 0 0 0 0 0 0 0 0 0 0 0 0 0 0 0 0 0 0 0 0 0 0 0 0 0 0 0 0 0 0 0 0 0 0\n",
            " 0 0 0 0 0 0 0 0 0 0 0 0 0 1 1 1 1 1 1 1 1 1 1 1 1 1 1 1 1 1 1 1 1 1 1 1 1\n",
            " 1 1 1 1 1 1 1 1 1 1 1 1 1 1 1 1 1 1 1 1 1 1 1 1 1 1 2 2 2 2 2 2 2 2 2 2 2\n",
            " 2 2 2 2 2 2 2 2 2 2 2 2 2 2 2 2 2 2 2 2 2 2 2 2 2 2 2 2 2 2 2 2 2 2 2 2 2\n",
            " 2 2]\n"
          ]
        }
      ]
    },
    {
      "cell_type": "code",
      "metadata": {
        "colab": {
          "base_uri": "https://localhost:8080/"
        },
        "id": "KI5YUvODTWxR",
        "outputId": "a1c74a78-219a-4c9d-8456-0447463f1f31"
      },
      "source": [
        "# Standarize features\n",
        "from sklearn.preprocessing import StandardScaler\n",
        "X_std = StandardScaler().fit_transform(X)\n",
        "print(X_std )"
      ],
      "execution_count": null,
      "outputs": [
        {
          "output_type": "stream",
          "name": "stdout",
          "text": [
            "[[-9.00681170e-01  1.01900435e+00 -1.34022653e+00 -1.31544430e+00]\n",
            " [-1.14301691e+00 -1.31979479e-01 -1.34022653e+00 -1.31544430e+00]\n",
            " [-1.38535265e+00  3.28414053e-01 -1.39706395e+00 -1.31544430e+00]\n",
            " [-1.50652052e+00  9.82172869e-02 -1.28338910e+00 -1.31544430e+00]\n",
            " [-1.02184904e+00  1.24920112e+00 -1.34022653e+00 -1.31544430e+00]\n",
            " [-5.37177559e-01  1.93979142e+00 -1.16971425e+00 -1.05217993e+00]\n",
            " [-1.50652052e+00  7.88807586e-01 -1.34022653e+00 -1.18381211e+00]\n",
            " [-1.02184904e+00  7.88807586e-01 -1.28338910e+00 -1.31544430e+00]\n",
            " [-1.74885626e+00 -3.62176246e-01 -1.34022653e+00 -1.31544430e+00]\n",
            " [-1.14301691e+00  9.82172869e-02 -1.28338910e+00 -1.44707648e+00]\n",
            " [-5.37177559e-01  1.47939788e+00 -1.28338910e+00 -1.31544430e+00]\n",
            " [-1.26418478e+00  7.88807586e-01 -1.22655167e+00 -1.31544430e+00]\n",
            " [-1.26418478e+00 -1.31979479e-01 -1.34022653e+00 -1.44707648e+00]\n",
            " [-1.87002413e+00 -1.31979479e-01 -1.51073881e+00 -1.44707648e+00]\n",
            " [-5.25060772e-02  2.16998818e+00 -1.45390138e+00 -1.31544430e+00]\n",
            " [-1.73673948e-01  3.09077525e+00 -1.28338910e+00 -1.05217993e+00]\n",
            " [-5.37177559e-01  1.93979142e+00 -1.39706395e+00 -1.05217993e+00]\n",
            " [-9.00681170e-01  1.01900435e+00 -1.34022653e+00 -1.18381211e+00]\n",
            " [-1.73673948e-01  1.70959465e+00 -1.16971425e+00 -1.18381211e+00]\n",
            " [-9.00681170e-01  1.70959465e+00 -1.28338910e+00 -1.18381211e+00]\n",
            " [-5.37177559e-01  7.88807586e-01 -1.16971425e+00 -1.31544430e+00]\n",
            " [-9.00681170e-01  1.47939788e+00 -1.28338910e+00 -1.05217993e+00]\n",
            " [-1.50652052e+00  1.24920112e+00 -1.56757623e+00 -1.31544430e+00]\n",
            " [-9.00681170e-01  5.58610819e-01 -1.16971425e+00 -9.20547742e-01]\n",
            " [-1.26418478e+00  7.88807586e-01 -1.05603939e+00 -1.31544430e+00]\n",
            " [-1.02184904e+00 -1.31979479e-01 -1.22655167e+00 -1.31544430e+00]\n",
            " [-1.02184904e+00  7.88807586e-01 -1.22655167e+00 -1.05217993e+00]\n",
            " [-7.79513300e-01  1.01900435e+00 -1.28338910e+00 -1.31544430e+00]\n",
            " [-7.79513300e-01  7.88807586e-01 -1.34022653e+00 -1.31544430e+00]\n",
            " [-1.38535265e+00  3.28414053e-01 -1.22655167e+00 -1.31544430e+00]\n",
            " [-1.26418478e+00  9.82172869e-02 -1.22655167e+00 -1.31544430e+00]\n",
            " [-5.37177559e-01  7.88807586e-01 -1.28338910e+00 -1.05217993e+00]\n",
            " [-7.79513300e-01  2.40018495e+00 -1.28338910e+00 -1.44707648e+00]\n",
            " [-4.16009689e-01  2.63038172e+00 -1.34022653e+00 -1.31544430e+00]\n",
            " [-1.14301691e+00  9.82172869e-02 -1.28338910e+00 -1.31544430e+00]\n",
            " [-1.02184904e+00  3.28414053e-01 -1.45390138e+00 -1.31544430e+00]\n",
            " [-4.16009689e-01  1.01900435e+00 -1.39706395e+00 -1.31544430e+00]\n",
            " [-1.14301691e+00  1.24920112e+00 -1.34022653e+00 -1.44707648e+00]\n",
            " [-1.74885626e+00 -1.31979479e-01 -1.39706395e+00 -1.31544430e+00]\n",
            " [-9.00681170e-01  7.88807586e-01 -1.28338910e+00 -1.31544430e+00]\n",
            " [-1.02184904e+00  1.01900435e+00 -1.39706395e+00 -1.18381211e+00]\n",
            " [-1.62768839e+00 -1.74335684e+00 -1.39706395e+00 -1.18381211e+00]\n",
            " [-1.74885626e+00  3.28414053e-01 -1.39706395e+00 -1.31544430e+00]\n",
            " [-1.02184904e+00  1.01900435e+00 -1.22655167e+00 -7.88915558e-01]\n",
            " [-9.00681170e-01  1.70959465e+00 -1.05603939e+00 -1.05217993e+00]\n",
            " [-1.26418478e+00 -1.31979479e-01 -1.34022653e+00 -1.18381211e+00]\n",
            " [-9.00681170e-01  1.70959465e+00 -1.22655167e+00 -1.31544430e+00]\n",
            " [-1.50652052e+00  3.28414053e-01 -1.34022653e+00 -1.31544430e+00]\n",
            " [-6.58345429e-01  1.47939788e+00 -1.28338910e+00 -1.31544430e+00]\n",
            " [-1.02184904e+00  5.58610819e-01 -1.34022653e+00 -1.31544430e+00]\n",
            " [ 1.40150837e+00  3.28414053e-01  5.35408562e-01  2.64141916e-01]\n",
            " [ 6.74501145e-01  3.28414053e-01  4.21733708e-01  3.95774101e-01]\n",
            " [ 1.28034050e+00  9.82172869e-02  6.49083415e-01  3.95774101e-01]\n",
            " [-4.16009689e-01 -1.74335684e+00  1.37546573e-01  1.32509732e-01]\n",
            " [ 7.95669016e-01 -5.92373012e-01  4.78571135e-01  3.95774101e-01]\n",
            " [-1.73673948e-01 -5.92373012e-01  4.21733708e-01  1.32509732e-01]\n",
            " [ 5.53333275e-01  5.58610819e-01  5.35408562e-01  5.27406285e-01]\n",
            " [-1.14301691e+00 -1.51316008e+00 -2.60315415e-01 -2.62386821e-01]\n",
            " [ 9.16836886e-01 -3.62176246e-01  4.78571135e-01  1.32509732e-01]\n",
            " [-7.79513300e-01 -8.22569778e-01  8.07091462e-02  2.64141916e-01]\n",
            " [-1.02184904e+00 -2.43394714e+00 -1.46640561e-01 -2.62386821e-01]\n",
            " [ 6.86617933e-02 -1.31979479e-01  2.51221427e-01  3.95774101e-01]\n",
            " [ 1.89829664e-01 -1.97355361e+00  1.37546573e-01 -2.62386821e-01]\n",
            " [ 3.10997534e-01 -3.62176246e-01  5.35408562e-01  2.64141916e-01]\n",
            " [-2.94841818e-01 -3.62176246e-01 -8.98031345e-02  1.32509732e-01]\n",
            " [ 1.03800476e+00  9.82172869e-02  3.64896281e-01  2.64141916e-01]\n",
            " [-2.94841818e-01 -1.31979479e-01  4.21733708e-01  3.95774101e-01]\n",
            " [-5.25060772e-02 -8.22569778e-01  1.94384000e-01 -2.62386821e-01]\n",
            " [ 4.32165405e-01 -1.97355361e+00  4.21733708e-01  3.95774101e-01]\n",
            " [-2.94841818e-01 -1.28296331e+00  8.07091462e-02 -1.30754636e-01]\n",
            " [ 6.86617933e-02  3.28414053e-01  5.92245988e-01  7.90670654e-01]\n",
            " [ 3.10997534e-01 -5.92373012e-01  1.37546573e-01  1.32509732e-01]\n",
            " [ 5.53333275e-01 -1.28296331e+00  6.49083415e-01  3.95774101e-01]\n",
            " [ 3.10997534e-01 -5.92373012e-01  5.35408562e-01  8.77547895e-04]\n",
            " [ 6.74501145e-01 -3.62176246e-01  3.08058854e-01  1.32509732e-01]\n",
            " [ 9.16836886e-01 -1.31979479e-01  3.64896281e-01  2.64141916e-01]\n",
            " [ 1.15917263e+00 -5.92373012e-01  5.92245988e-01  2.64141916e-01]\n",
            " [ 1.03800476e+00 -1.31979479e-01  7.05920842e-01  6.59038469e-01]\n",
            " [ 1.89829664e-01 -3.62176246e-01  4.21733708e-01  3.95774101e-01]\n",
            " [-1.73673948e-01 -1.05276654e+00 -1.46640561e-01 -2.62386821e-01]\n",
            " [-4.16009689e-01 -1.51316008e+00  2.38717193e-02 -1.30754636e-01]\n",
            " [-4.16009689e-01 -1.51316008e+00 -3.29657076e-02 -2.62386821e-01]\n",
            " [-5.25060772e-02 -8.22569778e-01  8.07091462e-02  8.77547895e-04]\n",
            " [ 1.89829664e-01 -8.22569778e-01  7.62758269e-01  5.27406285e-01]\n",
            " [-5.37177559e-01 -1.31979479e-01  4.21733708e-01  3.95774101e-01]\n",
            " [ 1.89829664e-01  7.88807586e-01  4.21733708e-01  5.27406285e-01]\n",
            " [ 1.03800476e+00  9.82172869e-02  5.35408562e-01  3.95774101e-01]\n",
            " [ 5.53333275e-01 -1.74335684e+00  3.64896281e-01  1.32509732e-01]\n",
            " [-2.94841818e-01 -1.31979479e-01  1.94384000e-01  1.32509732e-01]\n",
            " [-4.16009689e-01 -1.28296331e+00  1.37546573e-01  1.32509732e-01]\n",
            " [-4.16009689e-01 -1.05276654e+00  3.64896281e-01  8.77547895e-04]\n",
            " [ 3.10997534e-01 -1.31979479e-01  4.78571135e-01  2.64141916e-01]\n",
            " [-5.25060772e-02 -1.05276654e+00  1.37546573e-01  8.77547895e-04]\n",
            " [-1.02184904e+00 -1.74335684e+00 -2.60315415e-01 -2.62386821e-01]\n",
            " [-2.94841818e-01 -8.22569778e-01  2.51221427e-01  1.32509732e-01]\n",
            " [-1.73673948e-01 -1.31979479e-01  2.51221427e-01  8.77547895e-04]\n",
            " [-1.73673948e-01 -3.62176246e-01  2.51221427e-01  1.32509732e-01]\n",
            " [ 4.32165405e-01 -3.62176246e-01  3.08058854e-01  1.32509732e-01]\n",
            " [-9.00681170e-01 -1.28296331e+00 -4.30827696e-01 -1.30754636e-01]\n",
            " [-1.73673948e-01 -5.92373012e-01  1.94384000e-01  1.32509732e-01]\n",
            " [ 5.53333275e-01  5.58610819e-01  1.27429511e+00  1.71209594e+00]\n",
            " [-5.25060772e-02 -8.22569778e-01  7.62758269e-01  9.22302838e-01]\n",
            " [ 1.52267624e+00 -1.31979479e-01  1.21745768e+00  1.18556721e+00]\n",
            " [ 5.53333275e-01 -3.62176246e-01  1.04694540e+00  7.90670654e-01]\n",
            " [ 7.95669016e-01 -1.31979479e-01  1.16062026e+00  1.31719939e+00]\n",
            " [ 2.12851559e+00 -1.31979479e-01  1.61531967e+00  1.18556721e+00]\n",
            " [-1.14301691e+00 -1.28296331e+00  4.21733708e-01  6.59038469e-01]\n",
            " [ 1.76501198e+00 -3.62176246e-01  1.44480739e+00  7.90670654e-01]\n",
            " [ 1.03800476e+00 -1.28296331e+00  1.16062026e+00  7.90670654e-01]\n",
            " [ 1.64384411e+00  1.24920112e+00  1.33113254e+00  1.71209594e+00]\n",
            " [ 7.95669016e-01  3.28414053e-01  7.62758269e-01  1.05393502e+00]\n",
            " [ 6.74501145e-01 -8.22569778e-01  8.76433123e-01  9.22302838e-01]\n",
            " [ 1.15917263e+00 -1.31979479e-01  9.90107977e-01  1.18556721e+00]\n",
            " [-1.73673948e-01 -1.28296331e+00  7.05920842e-01  1.05393502e+00]\n",
            " [-5.25060772e-02 -5.92373012e-01  7.62758269e-01  1.58046376e+00]\n",
            " [ 6.74501145e-01  3.28414053e-01  8.76433123e-01  1.44883158e+00]\n",
            " [ 7.95669016e-01 -1.31979479e-01  9.90107977e-01  7.90670654e-01]\n",
            " [ 2.24968346e+00  1.70959465e+00  1.67215710e+00  1.31719939e+00]\n",
            " [ 2.24968346e+00 -1.05276654e+00  1.78583195e+00  1.44883158e+00]\n",
            " [ 1.89829664e-01 -1.97355361e+00  7.05920842e-01  3.95774101e-01]\n",
            " [ 1.28034050e+00  3.28414053e-01  1.10378283e+00  1.44883158e+00]\n",
            " [-2.94841818e-01 -5.92373012e-01  6.49083415e-01  1.05393502e+00]\n",
            " [ 2.24968346e+00 -5.92373012e-01  1.67215710e+00  1.05393502e+00]\n",
            " [ 5.53333275e-01 -8.22569778e-01  6.49083415e-01  7.90670654e-01]\n",
            " [ 1.03800476e+00  5.58610819e-01  1.10378283e+00  1.18556721e+00]\n",
            " [ 1.64384411e+00  3.28414053e-01  1.27429511e+00  7.90670654e-01]\n",
            " [ 4.32165405e-01 -5.92373012e-01  5.92245988e-01  7.90670654e-01]\n",
            " [ 3.10997534e-01 -1.31979479e-01  6.49083415e-01  7.90670654e-01]\n",
            " [ 6.74501145e-01 -5.92373012e-01  1.04694540e+00  1.18556721e+00]\n",
            " [ 1.64384411e+00 -1.31979479e-01  1.16062026e+00  5.27406285e-01]\n",
            " [ 1.88617985e+00 -5.92373012e-01  1.33113254e+00  9.22302838e-01]\n",
            " [ 2.49201920e+00  1.70959465e+00  1.50164482e+00  1.05393502e+00]\n",
            " [ 6.74501145e-01 -5.92373012e-01  1.04694540e+00  1.31719939e+00]\n",
            " [ 5.53333275e-01 -5.92373012e-01  7.62758269e-01  3.95774101e-01]\n",
            " [ 3.10997534e-01 -1.05276654e+00  1.04694540e+00  2.64141916e-01]\n",
            " [ 2.24968346e+00 -1.31979479e-01  1.33113254e+00  1.44883158e+00]\n",
            " [ 5.53333275e-01  7.88807586e-01  1.04694540e+00  1.58046376e+00]\n",
            " [ 6.74501145e-01  9.82172869e-02  9.90107977e-01  7.90670654e-01]\n",
            " [ 1.89829664e-01 -1.31979479e-01  5.92245988e-01  7.90670654e-01]\n",
            " [ 1.28034050e+00  9.82172869e-02  9.33270550e-01  1.18556721e+00]\n",
            " [ 1.03800476e+00  9.82172869e-02  1.04694540e+00  1.58046376e+00]\n",
            " [ 1.28034050e+00  9.82172869e-02  7.62758269e-01  1.44883158e+00]\n",
            " [-5.25060772e-02 -8.22569778e-01  7.62758269e-01  9.22302838e-01]\n",
            " [ 1.15917263e+00  3.28414053e-01  1.21745768e+00  1.44883158e+00]\n",
            " [ 1.03800476e+00  5.58610819e-01  1.10378283e+00  1.71209594e+00]\n",
            " [ 1.03800476e+00 -1.31979479e-01  8.19595696e-01  1.44883158e+00]\n",
            " [ 5.53333275e-01 -1.28296331e+00  7.05920842e-01  9.22302838e-01]\n",
            " [ 7.95669016e-01 -1.31979479e-01  8.19595696e-01  1.05393502e+00]\n",
            " [ 4.32165405e-01  7.88807586e-01  9.33270550e-01  1.44883158e+00]\n",
            " [ 6.86617933e-02 -1.31979479e-01  7.62758269e-01  7.90670654e-01]]\n"
          ]
        }
      ]
    },
    {
      "cell_type": "code",
      "metadata": {
        "id": "jsSDRmmJUCoc"
      },
      "source": [
        "clf = LogisticRegression(random_state=0, multi_class='ovr')"
      ],
      "execution_count": null,
      "outputs": []
    },
    {
      "cell_type": "code",
      "metadata": {
        "id": "aV7uv5srUI_L"
      },
      "source": [
        "model = clf.fit(X_std, y)"
      ],
      "execution_count": null,
      "outputs": []
    },
    {
      "cell_type": "code",
      "metadata": {
        "id": "39W5rtAGUMy7"
      },
      "source": [
        "new_observation1 = [[.5,.5, .5, .5]]\n",
        "new_observation2 = [[.3,.3, .3, .3]]"
      ],
      "execution_count": null,
      "outputs": []
    },
    {
      "cell_type": "code",
      "metadata": {
        "colab": {
          "base_uri": "https://localhost:8080/"
        },
        "id": "1fjWOWw1UPED",
        "outputId": "cae7ad90-bc6b-410f-8333-5bda2e0ce8a5"
      },
      "source": [
        "#predicting class of observation to which it belongs\n",
        "print(model.predict(new_observation1))\n",
        "print(model.predict(new_observation2))"
      ],
      "execution_count": null,
      "outputs": [
        {
          "output_type": "stream",
          "name": "stdout",
          "text": [
            "[2]\n",
            "[1]\n"
          ]
        }
      ]
    },
    {
      "cell_type": "code",
      "metadata": {
        "id": "dS4Y61fLUQNc",
        "colab": {
          "base_uri": "https://localhost:8080/"
        },
        "outputId": "fdc35bd9-62b6-46a6-e11d-f53b7d03d258"
      },
      "source": [
        "#here the max probability value will be the class to which it belongs\n",
        "print(model.predict_proba(new_observation1))\n",
        "\n",
        "print(model.predict_proba(new_observation2))"
      ],
      "execution_count": null,
      "outputs": [
        {
          "output_type": "stream",
          "name": "stdout",
          "text": [
            "[[0.0387617  0.40669108 0.55454723]]\n",
            "[[0.0909307  0.62264724 0.28642206]]\n"
          ]
        }
      ]
    },
    {
      "cell_type": "markdown",
      "metadata": {
        "id": "B7Rlfvg1G3-q"
      },
      "source": [
        "# Assignment 7(Naive bayes)"
      ]
    },
    {
      "cell_type": "markdown",
      "metadata": {
        "id": "HWRPDlhbbhIw"
      },
      "source": [
        "Q1: Gaussian Naïve Bayes Classifier\n",
        "Implement Gaussian Naïve Bayes Classifier on the Iris dataset/ or any other relevant dataset from sklearn.datasets using in-built function.\n"
      ]
    },
    {
      "cell_type": "code",
      "metadata": {
        "id": "yh1SaRLEG7qT"
      },
      "source": [
        "from sklearn.datasets import load_iris"
      ],
      "execution_count": null,
      "outputs": []
    },
    {
      "cell_type": "code",
      "metadata": {
        "id": "0A-RcjY1HO39",
        "colab": {
          "base_uri": "https://localhost:8080/"
        },
        "outputId": "2caf8379-9087-45ab-e23f-1013f62ff18c"
      },
      "source": [
        "iris=load_iris()\n",
        "print(iris.keys())"
      ],
      "execution_count": null,
      "outputs": [
        {
          "output_type": "stream",
          "name": "stdout",
          "text": [
            "dict_keys(['data', 'target', 'target_names', 'DESCR', 'feature_names', 'filename'])\n"
          ]
        }
      ]
    },
    {
      "cell_type": "code",
      "metadata": {
        "colab": {
          "base_uri": "https://localhost:8080/"
        },
        "id": "35IkGKyGHZJk",
        "outputId": "b50573a5-54d0-4940-be47-a7a3c306e7d3"
      },
      "source": [
        "print(iris.feature_names)\n",
        "print(iris.target_names)"
      ],
      "execution_count": null,
      "outputs": [
        {
          "output_type": "stream",
          "name": "stdout",
          "text": [
            "['sepal length (cm)', 'sepal width (cm)', 'petal length (cm)', 'petal width (cm)']\n",
            "['setosa' 'versicolor' 'virginica']\n"
          ]
        }
      ]
    },
    {
      "cell_type": "code",
      "metadata": {
        "colab": {
          "base_uri": "https://localhost:8080/"
        },
        "id": "TiZKy2UPIaAU",
        "outputId": "abb7e01e-ef58-4652-cef9-4397ad8ea9f4"
      },
      "source": [
        "print(iris.data)"
      ],
      "execution_count": null,
      "outputs": [
        {
          "output_type": "stream",
          "name": "stdout",
          "text": [
            "[[5.1 3.5 1.4 0.2]\n",
            " [4.9 3.  1.4 0.2]\n",
            " [4.7 3.2 1.3 0.2]\n",
            " [4.6 3.1 1.5 0.2]\n",
            " [5.  3.6 1.4 0.2]\n",
            " [5.4 3.9 1.7 0.4]\n",
            " [4.6 3.4 1.4 0.3]\n",
            " [5.  3.4 1.5 0.2]\n",
            " [4.4 2.9 1.4 0.2]\n",
            " [4.9 3.1 1.5 0.1]\n",
            " [5.4 3.7 1.5 0.2]\n",
            " [4.8 3.4 1.6 0.2]\n",
            " [4.8 3.  1.4 0.1]\n",
            " [4.3 3.  1.1 0.1]\n",
            " [5.8 4.  1.2 0.2]\n",
            " [5.7 4.4 1.5 0.4]\n",
            " [5.4 3.9 1.3 0.4]\n",
            " [5.1 3.5 1.4 0.3]\n",
            " [5.7 3.8 1.7 0.3]\n",
            " [5.1 3.8 1.5 0.3]\n",
            " [5.4 3.4 1.7 0.2]\n",
            " [5.1 3.7 1.5 0.4]\n",
            " [4.6 3.6 1.  0.2]\n",
            " [5.1 3.3 1.7 0.5]\n",
            " [4.8 3.4 1.9 0.2]\n",
            " [5.  3.  1.6 0.2]\n",
            " [5.  3.4 1.6 0.4]\n",
            " [5.2 3.5 1.5 0.2]\n",
            " [5.2 3.4 1.4 0.2]\n",
            " [4.7 3.2 1.6 0.2]\n",
            " [4.8 3.1 1.6 0.2]\n",
            " [5.4 3.4 1.5 0.4]\n",
            " [5.2 4.1 1.5 0.1]\n",
            " [5.5 4.2 1.4 0.2]\n",
            " [4.9 3.1 1.5 0.2]\n",
            " [5.  3.2 1.2 0.2]\n",
            " [5.5 3.5 1.3 0.2]\n",
            " [4.9 3.6 1.4 0.1]\n",
            " [4.4 3.  1.3 0.2]\n",
            " [5.1 3.4 1.5 0.2]\n",
            " [5.  3.5 1.3 0.3]\n",
            " [4.5 2.3 1.3 0.3]\n",
            " [4.4 3.2 1.3 0.2]\n",
            " [5.  3.5 1.6 0.6]\n",
            " [5.1 3.8 1.9 0.4]\n",
            " [4.8 3.  1.4 0.3]\n",
            " [5.1 3.8 1.6 0.2]\n",
            " [4.6 3.2 1.4 0.2]\n",
            " [5.3 3.7 1.5 0.2]\n",
            " [5.  3.3 1.4 0.2]\n",
            " [7.  3.2 4.7 1.4]\n",
            " [6.4 3.2 4.5 1.5]\n",
            " [6.9 3.1 4.9 1.5]\n",
            " [5.5 2.3 4.  1.3]\n",
            " [6.5 2.8 4.6 1.5]\n",
            " [5.7 2.8 4.5 1.3]\n",
            " [6.3 3.3 4.7 1.6]\n",
            " [4.9 2.4 3.3 1. ]\n",
            " [6.6 2.9 4.6 1.3]\n",
            " [5.2 2.7 3.9 1.4]\n",
            " [5.  2.  3.5 1. ]\n",
            " [5.9 3.  4.2 1.5]\n",
            " [6.  2.2 4.  1. ]\n",
            " [6.1 2.9 4.7 1.4]\n",
            " [5.6 2.9 3.6 1.3]\n",
            " [6.7 3.1 4.4 1.4]\n",
            " [5.6 3.  4.5 1.5]\n",
            " [5.8 2.7 4.1 1. ]\n",
            " [6.2 2.2 4.5 1.5]\n",
            " [5.6 2.5 3.9 1.1]\n",
            " [5.9 3.2 4.8 1.8]\n",
            " [6.1 2.8 4.  1.3]\n",
            " [6.3 2.5 4.9 1.5]\n",
            " [6.1 2.8 4.7 1.2]\n",
            " [6.4 2.9 4.3 1.3]\n",
            " [6.6 3.  4.4 1.4]\n",
            " [6.8 2.8 4.8 1.4]\n",
            " [6.7 3.  5.  1.7]\n",
            " [6.  2.9 4.5 1.5]\n",
            " [5.7 2.6 3.5 1. ]\n",
            " [5.5 2.4 3.8 1.1]\n",
            " [5.5 2.4 3.7 1. ]\n",
            " [5.8 2.7 3.9 1.2]\n",
            " [6.  2.7 5.1 1.6]\n",
            " [5.4 3.  4.5 1.5]\n",
            " [6.  3.4 4.5 1.6]\n",
            " [6.7 3.1 4.7 1.5]\n",
            " [6.3 2.3 4.4 1.3]\n",
            " [5.6 3.  4.1 1.3]\n",
            " [5.5 2.5 4.  1.3]\n",
            " [5.5 2.6 4.4 1.2]\n",
            " [6.1 3.  4.6 1.4]\n",
            " [5.8 2.6 4.  1.2]\n",
            " [5.  2.3 3.3 1. ]\n",
            " [5.6 2.7 4.2 1.3]\n",
            " [5.7 3.  4.2 1.2]\n",
            " [5.7 2.9 4.2 1.3]\n",
            " [6.2 2.9 4.3 1.3]\n",
            " [5.1 2.5 3.  1.1]\n",
            " [5.7 2.8 4.1 1.3]\n",
            " [6.3 3.3 6.  2.5]\n",
            " [5.8 2.7 5.1 1.9]\n",
            " [7.1 3.  5.9 2.1]\n",
            " [6.3 2.9 5.6 1.8]\n",
            " [6.5 3.  5.8 2.2]\n",
            " [7.6 3.  6.6 2.1]\n",
            " [4.9 2.5 4.5 1.7]\n",
            " [7.3 2.9 6.3 1.8]\n",
            " [6.7 2.5 5.8 1.8]\n",
            " [7.2 3.6 6.1 2.5]\n",
            " [6.5 3.2 5.1 2. ]\n",
            " [6.4 2.7 5.3 1.9]\n",
            " [6.8 3.  5.5 2.1]\n",
            " [5.7 2.5 5.  2. ]\n",
            " [5.8 2.8 5.1 2.4]\n",
            " [6.4 3.2 5.3 2.3]\n",
            " [6.5 3.  5.5 1.8]\n",
            " [7.7 3.8 6.7 2.2]\n",
            " [7.7 2.6 6.9 2.3]\n",
            " [6.  2.2 5.  1.5]\n",
            " [6.9 3.2 5.7 2.3]\n",
            " [5.6 2.8 4.9 2. ]\n",
            " [7.7 2.8 6.7 2. ]\n",
            " [6.3 2.7 4.9 1.8]\n",
            " [6.7 3.3 5.7 2.1]\n",
            " [7.2 3.2 6.  1.8]\n",
            " [6.2 2.8 4.8 1.8]\n",
            " [6.1 3.  4.9 1.8]\n",
            " [6.4 2.8 5.6 2.1]\n",
            " [7.2 3.  5.8 1.6]\n",
            " [7.4 2.8 6.1 1.9]\n",
            " [7.9 3.8 6.4 2. ]\n",
            " [6.4 2.8 5.6 2.2]\n",
            " [6.3 2.8 5.1 1.5]\n",
            " [6.1 2.6 5.6 1.4]\n",
            " [7.7 3.  6.1 2.3]\n",
            " [6.3 3.4 5.6 2.4]\n",
            " [6.4 3.1 5.5 1.8]\n",
            " [6.  3.  4.8 1.8]\n",
            " [6.9 3.1 5.4 2.1]\n",
            " [6.7 3.1 5.6 2.4]\n",
            " [6.9 3.1 5.1 2.3]\n",
            " [5.8 2.7 5.1 1.9]\n",
            " [6.8 3.2 5.9 2.3]\n",
            " [6.7 3.3 5.7 2.5]\n",
            " [6.7 3.  5.2 2.3]\n",
            " [6.3 2.5 5.  1.9]\n",
            " [6.5 3.  5.2 2. ]\n",
            " [6.2 3.4 5.4 2.3]\n",
            " [5.9 3.  5.1 1.8]]\n"
          ]
        }
      ]
    },
    {
      "cell_type": "code",
      "metadata": {
        "colab": {
          "base_uri": "https://localhost:8080/"
        },
        "id": "a0UipfaJIiUk",
        "outputId": "f2ed5faa-f81e-4de2-9d5f-432acd1d0725"
      },
      "source": [
        "print(iris.target)"
      ],
      "execution_count": null,
      "outputs": [
        {
          "output_type": "stream",
          "name": "stdout",
          "text": [
            "[0 0 0 0 0 0 0 0 0 0 0 0 0 0 0 0 0 0 0 0 0 0 0 0 0 0 0 0 0 0 0 0 0 0 0 0 0\n",
            " 0 0 0 0 0 0 0 0 0 0 0 0 0 1 1 1 1 1 1 1 1 1 1 1 1 1 1 1 1 1 1 1 1 1 1 1 1\n",
            " 1 1 1 1 1 1 1 1 1 1 1 1 1 1 1 1 1 1 1 1 1 1 1 1 1 1 2 2 2 2 2 2 2 2 2 2 2\n",
            " 2 2 2 2 2 2 2 2 2 2 2 2 2 2 2 2 2 2 2 2 2 2 2 2 2 2 2 2 2 2 2 2 2 2 2 2 2\n",
            " 2 2]\n"
          ]
        }
      ]
    },
    {
      "cell_type": "markdown",
      "metadata": {
        "id": "VTYS6FKaN_jc"
      },
      "source": [
        "We can also used LabelEncoder for this purpose.\n"
      ]
    },
    {
      "cell_type": "code",
      "metadata": {
        "id": "yXKoCd7IJNls"
      },
      "source": [
        "from sklearn.model_selection import train_test_split\n",
        "# Split dataset into training set and test set\n",
        "X_train, X_test, y_train, y_test = train_test_split(iris.data, iris.target, test_size=0.3,random_state=0)"
      ],
      "execution_count": null,
      "outputs": []
    },
    {
      "cell_type": "code",
      "metadata": {
        "colab": {
          "base_uri": "https://localhost:8080/"
        },
        "id": "IsvFHYCLJeGW",
        "outputId": "3fa3d63f-9861-4b4a-c2b6-153689319a88"
      },
      "source": [
        "print(X_train)\n",
        "print(\"\\n\")\n",
        "print(X_test)"
      ],
      "execution_count": null,
      "outputs": [
        {
          "output_type": "stream",
          "name": "stdout",
          "text": [
            "[[5.  2.  3.5 1. ]\n",
            " [6.5 3.  5.5 1.8]\n",
            " [6.7 3.3 5.7 2.5]\n",
            " [6.  2.2 5.  1.5]\n",
            " [6.7 2.5 5.8 1.8]\n",
            " [5.6 2.5 3.9 1.1]\n",
            " [7.7 3.  6.1 2.3]\n",
            " [6.3 3.3 4.7 1.6]\n",
            " [5.5 2.4 3.8 1.1]\n",
            " [6.3 2.7 4.9 1.8]\n",
            " [6.3 2.8 5.1 1.5]\n",
            " [4.9 2.5 4.5 1.7]\n",
            " [6.3 2.5 5.  1.9]\n",
            " [7.  3.2 4.7 1.4]\n",
            " [6.5 3.  5.2 2. ]\n",
            " [6.  3.4 4.5 1.6]\n",
            " [4.8 3.1 1.6 0.2]\n",
            " [5.8 2.7 5.1 1.9]\n",
            " [5.6 2.7 4.2 1.3]\n",
            " [5.6 2.9 3.6 1.3]\n",
            " [5.5 2.5 4.  1.3]\n",
            " [6.1 3.  4.6 1.4]\n",
            " [7.2 3.2 6.  1.8]\n",
            " [5.3 3.7 1.5 0.2]\n",
            " [4.3 3.  1.1 0.1]\n",
            " [6.4 2.7 5.3 1.9]\n",
            " [5.7 3.  4.2 1.2]\n",
            " [5.4 3.4 1.7 0.2]\n",
            " [5.7 4.4 1.5 0.4]\n",
            " [6.9 3.1 4.9 1.5]\n",
            " [4.6 3.1 1.5 0.2]\n",
            " [5.9 3.  5.1 1.8]\n",
            " [5.1 2.5 3.  1.1]\n",
            " [4.6 3.4 1.4 0.3]\n",
            " [6.2 2.2 4.5 1.5]\n",
            " [7.2 3.6 6.1 2.5]\n",
            " [5.7 2.9 4.2 1.3]\n",
            " [4.8 3.  1.4 0.1]\n",
            " [7.1 3.  5.9 2.1]\n",
            " [6.9 3.2 5.7 2.3]\n",
            " [6.5 3.  5.8 2.2]\n",
            " [6.4 2.8 5.6 2.1]\n",
            " [5.1 3.8 1.6 0.2]\n",
            " [4.8 3.4 1.6 0.2]\n",
            " [6.5 3.2 5.1 2. ]\n",
            " [6.7 3.3 5.7 2.1]\n",
            " [4.5 2.3 1.3 0.3]\n",
            " [6.2 3.4 5.4 2.3]\n",
            " [4.9 3.  1.4 0.2]\n",
            " [5.7 2.5 5.  2. ]\n",
            " [6.9 3.1 5.4 2.1]\n",
            " [4.4 3.2 1.3 0.2]\n",
            " [5.  3.6 1.4 0.2]\n",
            " [7.2 3.  5.8 1.6]\n",
            " [5.1 3.5 1.4 0.3]\n",
            " [4.4 3.  1.3 0.2]\n",
            " [5.4 3.9 1.7 0.4]\n",
            " [5.5 2.3 4.  1.3]\n",
            " [6.8 3.2 5.9 2.3]\n",
            " [7.6 3.  6.6 2.1]\n",
            " [5.1 3.5 1.4 0.2]\n",
            " [4.9 3.1 1.5 0.2]\n",
            " [5.2 3.4 1.4 0.2]\n",
            " [5.7 2.8 4.5 1.3]\n",
            " [6.6 3.  4.4 1.4]\n",
            " [5.  3.2 1.2 0.2]\n",
            " [5.1 3.3 1.7 0.5]\n",
            " [6.4 2.9 4.3 1.3]\n",
            " [5.4 3.4 1.5 0.4]\n",
            " [7.7 2.6 6.9 2.3]\n",
            " [4.9 2.4 3.3 1. ]\n",
            " [7.9 3.8 6.4 2. ]\n",
            " [6.7 3.1 4.4 1.4]\n",
            " [5.2 4.1 1.5 0.1]\n",
            " [6.  3.  4.8 1.8]\n",
            " [5.8 4.  1.2 0.2]\n",
            " [7.7 2.8 6.7 2. ]\n",
            " [5.1 3.8 1.5 0.3]\n",
            " [4.7 3.2 1.6 0.2]\n",
            " [7.4 2.8 6.1 1.9]\n",
            " [5.  3.3 1.4 0.2]\n",
            " [6.3 3.4 5.6 2.4]\n",
            " [5.7 2.8 4.1 1.3]\n",
            " [5.8 2.7 3.9 1.2]\n",
            " [5.7 2.6 3.5 1. ]\n",
            " [6.4 3.2 5.3 2.3]\n",
            " [6.7 3.  5.2 2.3]\n",
            " [6.3 2.5 4.9 1.5]\n",
            " [6.7 3.  5.  1.7]\n",
            " [5.  3.  1.6 0.2]\n",
            " [5.5 2.4 3.7 1. ]\n",
            " [6.7 3.1 5.6 2.4]\n",
            " [5.8 2.7 5.1 1.9]\n",
            " [5.1 3.4 1.5 0.2]\n",
            " [6.6 2.9 4.6 1.3]\n",
            " [5.6 3.  4.1 1.3]\n",
            " [5.9 3.2 4.8 1.8]\n",
            " [6.3 2.3 4.4 1.3]\n",
            " [5.5 3.5 1.3 0.2]\n",
            " [5.1 3.7 1.5 0.4]\n",
            " [4.9 3.1 1.5 0.1]\n",
            " [6.3 2.9 5.6 1.8]\n",
            " [5.8 2.7 4.1 1. ]\n",
            " [7.7 3.8 6.7 2.2]\n",
            " [4.6 3.2 1.4 0.2]]\n",
            "\n",
            "\n",
            "[[5.8 2.8 5.1 2.4]\n",
            " [6.  2.2 4.  1. ]\n",
            " [5.5 4.2 1.4 0.2]\n",
            " [7.3 2.9 6.3 1.8]\n",
            " [5.  3.4 1.5 0.2]\n",
            " [6.3 3.3 6.  2.5]\n",
            " [5.  3.5 1.3 0.3]\n",
            " [6.7 3.1 4.7 1.5]\n",
            " [6.8 2.8 4.8 1.4]\n",
            " [6.1 2.8 4.  1.3]\n",
            " [6.1 2.6 5.6 1.4]\n",
            " [6.4 3.2 4.5 1.5]\n",
            " [6.1 2.8 4.7 1.2]\n",
            " [6.5 2.8 4.6 1.5]\n",
            " [6.1 2.9 4.7 1.4]\n",
            " [4.9 3.6 1.4 0.1]\n",
            " [6.  2.9 4.5 1.5]\n",
            " [5.5 2.6 4.4 1.2]\n",
            " [4.8 3.  1.4 0.3]\n",
            " [5.4 3.9 1.3 0.4]\n",
            " [5.6 2.8 4.9 2. ]\n",
            " [5.6 3.  4.5 1.5]\n",
            " [4.8 3.4 1.9 0.2]\n",
            " [4.4 2.9 1.4 0.2]\n",
            " [6.2 2.8 4.8 1.8]\n",
            " [4.6 3.6 1.  0.2]\n",
            " [5.1 3.8 1.9 0.4]\n",
            " [6.2 2.9 4.3 1.3]\n",
            " [5.  2.3 3.3 1. ]\n",
            " [5.  3.4 1.6 0.4]\n",
            " [6.4 3.1 5.5 1.8]\n",
            " [5.4 3.  4.5 1.5]\n",
            " [5.2 3.5 1.5 0.2]\n",
            " [6.1 3.  4.9 1.8]\n",
            " [6.4 2.8 5.6 2.2]\n",
            " [5.2 2.7 3.9 1.4]\n",
            " [5.7 3.8 1.7 0.3]\n",
            " [6.  2.7 5.1 1.6]\n",
            " [5.9 3.  4.2 1.5]\n",
            " [5.8 2.6 4.  1.2]\n",
            " [6.8 3.  5.5 2.1]\n",
            " [4.7 3.2 1.3 0.2]\n",
            " [6.9 3.1 5.1 2.3]\n",
            " [5.  3.5 1.6 0.6]\n",
            " [5.4 3.7 1.5 0.2]]\n"
          ]
        }
      ]
    },
    {
      "cell_type": "code",
      "metadata": {
        "id": "4XeKbZ8eJrNR",
        "colab": {
          "base_uri": "https://localhost:8080/"
        },
        "outputId": "6e559a39-0abf-4596-aecc-51702399ac99"
      },
      "source": [
        "from sklearn.naive_bayes import GaussianNB\n",
        "gnb=GaussianNB()\n",
        "gnb.fit(X_train,y_train)\n",
        "y_pred = gnb.predict(X_test)\n",
        "print(y_pred)"
      ],
      "execution_count": null,
      "outputs": [
        {
          "output_type": "stream",
          "name": "stdout",
          "text": [
            "[2 1 0 2 0 2 0 1 1 1 2 1 1 1 1 0 1 1 0 0 2 1 0 0 2 0 0 1 1 0 2 1 0 2 2 1 0\n",
            " 1 1 1 2 0 2 0 0]\n"
          ]
        }
      ]
    },
    {
      "cell_type": "markdown",
      "metadata": {
        "id": "Ejt985D0bkOE"
      },
      "source": [
        "Q2. Performance Evaluation of the Classifier:\n",
        "Evaluate the performance of the classifier using metrics library based on the parameters like confusion matrix, accuracy, precision, recall, F-1 Score, TPR, TNR, FPR and FNR.  \n"
      ]
    },
    {
      "cell_type": "code",
      "metadata": {
        "id": "lMTTW8YzKsf5"
      },
      "source": [
        "#Importing metrics library\n",
        "from sklearn.metrics import confusion_matrix\n",
        "from sklearn import metrics"
      ],
      "execution_count": null,
      "outputs": []
    },
    {
      "cell_type": "code",
      "metadata": {
        "colab": {
          "base_uri": "https://localhost:8080/"
        },
        "id": "2WZb8K6QUqg1",
        "outputId": "3b556880-9670-4bce-a5fd-f567b89e6b24"
      },
      "source": [
        "conf_mat = confusion_matrix(y_test, y_pred)\n",
        "print('Confusion matrix for Naive Bayes\\n',conf_mat)"
      ],
      "execution_count": null,
      "outputs": [
        {
          "output_type": "stream",
          "name": "stdout",
          "text": [
            "Confusion matrix for Naive Bayes\n",
            " [[16  0  0]\n",
            " [ 0 18  0]\n",
            " [ 0  0 11]]\n"
          ]
        }
      ]
    },
    {
      "cell_type": "code",
      "metadata": {
        "id": "nwP1U2VNLZa4"
      },
      "source": [
        "from sklearn.metrics import precision_score,recall_score,f1_score"
      ],
      "execution_count": null,
      "outputs": []
    },
    {
      "cell_type": "code",
      "metadata": {
        "colab": {
          "base_uri": "https://localhost:8080/"
        },
        "id": "dj0oJYwGLiC2",
        "outputId": "a5135ef8-4232-46e3-d195-0a85c665d2e3"
      },
      "source": [
        "precision =precision_score(y_test, y_pred,average=\"micro\")\n",
        "recall =  recall_score(y_test, y_pred,average='micro')\n",
        "f1 = f1_score(y_test,y_pred,average='micro')\n",
        "print('precision_Naive Bayes: %.3f' %precision)\n",
        "print('recall_Naive Bayes: %.3f' %recall)\n",
        "print('f1-score_Naive Bayes : %.3f' %f1)"
      ],
      "execution_count": null,
      "outputs": [
        {
          "output_type": "stream",
          "name": "stdout",
          "text": [
            "precision_Naive Bayes: 1.000\n",
            "recall_Naive Bayes: 1.000\n",
            "f1-score_Naive Bayes : 1.000\n"
          ]
        }
      ]
    },
    {
      "cell_type": "code",
      "metadata": {
        "colab": {
          "base_uri": "https://localhost:8080/"
        },
        "id": "Nliv5JLeWWKs",
        "outputId": "bf16e2f7-7de0-4c56-8e2e-4e4e6e8a253f"
      },
      "source": [
        "print(conf_mat)\n",
        "print(\"\\n\")\n",
        "FP = conf_mat.sum(axis=0) - np.diag(conf_mat)  \n",
        "FN = conf_mat.sum(axis=1) - np.diag(conf_mat)\n",
        "TP = np.diag(conf_mat)\n",
        "TN = conf_mat.sum() - (FP + FN + TP)\n",
        "print(TP,FP,TN,FN)"
      ],
      "execution_count": null,
      "outputs": [
        {
          "output_type": "stream",
          "name": "stdout",
          "text": [
            "[[16  0  0]\n",
            " [ 0 18  0]\n",
            " [ 0  0 11]]\n",
            "\n",
            "\n",
            "[16 18 11] [0 0 0] [29 27 34] [0 0 0]\n"
          ]
        }
      ]
    },
    {
      "cell_type": "code",
      "metadata": {
        "colab": {
          "base_uri": "https://localhost:8080/"
        },
        "id": "HvP0cnwiaGQk",
        "outputId": "9d414bb8-6422-4d85-b087-f889b8870fd6"
      },
      "source": [
        "TPR = TP/(TP+FN)\n",
        "print(TPR)\n",
        "\n",
        "TNR = TN/(TN+FP)\n",
        "print(TNR)\n",
        "\n",
        "FPR = FP/(FP+TN)\n",
        "print(FPR)\n",
        "\n",
        "FNR = FN/(TP+FN)\n",
        "print(FNR)\n",
        "\n"
      ],
      "execution_count": null,
      "outputs": [
        {
          "output_type": "stream",
          "name": "stdout",
          "text": [
            "[1. 1. 1.]\n",
            "[1. 1. 1.]\n",
            "[0. 0. 0.]\n",
            "[0. 0. 0.]\n"
          ]
        }
      ]
    },
    {
      "cell_type": "markdown",
      "metadata": {
        "id": "WZlVN0c3L25o"
      },
      "source": [
        "# Assignment 8(KNN)"
      ]
    },
    {
      "cell_type": "markdown",
      "metadata": {
        "id": "FJKKpERCbod-"
      },
      "source": [
        "Q1: \n",
        "(GridSearchCV for KNN)\n",
        "Explore about GridSearchCV toot in scikit-learn. This is a tool that is often used for tuning hyperparameters of machine learning models.\n",
        "Use this tool to find the best value of K for K-NN Classifier using any dataset.\n"
      ]
    },
    {
      "cell_type": "code",
      "metadata": {
        "id": "zr2N1PG2L5AR"
      },
      "source": [
        "import numpy as np\n",
        "import pandas as pd"
      ],
      "execution_count": null,
      "outputs": []
    },
    {
      "cell_type": "code",
      "metadata": {
        "id": "inSSe86sMBDN"
      },
      "source": [
        "from sklearn.datasets import load_iris"
      ],
      "execution_count": null,
      "outputs": []
    },
    {
      "cell_type": "code",
      "metadata": {
        "colab": {
          "base_uri": "https://localhost:8080/"
        },
        "id": "hta4jql5MJmV",
        "outputId": "d5adaca2-8e10-4467-a6a8-412b3c50ad89"
      },
      "source": [
        "iris=load_iris()\n",
        "print(iris.keys())\n",
        "X=iris.data\n",
        "Y=iris.target\n",
        "print(iris.feature_names)"
      ],
      "execution_count": null,
      "outputs": [
        {
          "output_type": "stream",
          "name": "stdout",
          "text": [
            "dict_keys(['data', 'target', 'target_names', 'DESCR', 'feature_names', 'filename'])\n",
            "['sepal length (cm)', 'sepal width (cm)', 'petal length (cm)', 'petal width (cm)']\n"
          ]
        }
      ]
    },
    {
      "cell_type": "code",
      "metadata": {
        "colab": {
          "base_uri": "https://localhost:8080/"
        },
        "id": "0Al4z7u3MSiS",
        "outputId": "35295a80-e37d-41d0-efd9-d88b5efb6f2d"
      },
      "source": [
        "print(Y)"
      ],
      "execution_count": null,
      "outputs": [
        {
          "output_type": "stream",
          "name": "stdout",
          "text": [
            "[0 0 0 0 0 0 0 0 0 0 0 0 0 0 0 0 0 0 0 0 0 0 0 0 0 0 0 0 0 0 0 0 0 0 0 0 0\n",
            " 0 0 0 0 0 0 0 0 0 0 0 0 0 1 1 1 1 1 1 1 1 1 1 1 1 1 1 1 1 1 1 1 1 1 1 1 1\n",
            " 1 1 1 1 1 1 1 1 1 1 1 1 1 1 1 1 1 1 1 1 1 1 1 1 1 1 2 2 2 2 2 2 2 2 2 2 2\n",
            " 2 2 2 2 2 2 2 2 2 2 2 2 2 2 2 2 2 2 2 2 2 2 2 2 2 2 2 2 2 2 2 2 2 2 2 2 2\n",
            " 2 2]\n"
          ]
        }
      ]
    },
    {
      "cell_type": "code",
      "metadata": {
        "colab": {
          "base_uri": "https://localhost:8080/"
        },
        "id": "NXc_b-d2MkwY",
        "outputId": "14f70bc9-a505-4adb-aa49-25ea59ea0547"
      },
      "source": [
        "from sklearn.preprocessing import StandardScaler\n",
        "X_scaled=StandardScaler().fit_transform(X)\n",
        "print(X_scaled)"
      ],
      "execution_count": null,
      "outputs": [
        {
          "output_type": "stream",
          "name": "stdout",
          "text": [
            "[[-9.00681170e-01  1.01900435e+00 -1.34022653e+00 -1.31544430e+00]\n",
            " [-1.14301691e+00 -1.31979479e-01 -1.34022653e+00 -1.31544430e+00]\n",
            " [-1.38535265e+00  3.28414053e-01 -1.39706395e+00 -1.31544430e+00]\n",
            " [-1.50652052e+00  9.82172869e-02 -1.28338910e+00 -1.31544430e+00]\n",
            " [-1.02184904e+00  1.24920112e+00 -1.34022653e+00 -1.31544430e+00]\n",
            " [-5.37177559e-01  1.93979142e+00 -1.16971425e+00 -1.05217993e+00]\n",
            " [-1.50652052e+00  7.88807586e-01 -1.34022653e+00 -1.18381211e+00]\n",
            " [-1.02184904e+00  7.88807586e-01 -1.28338910e+00 -1.31544430e+00]\n",
            " [-1.74885626e+00 -3.62176246e-01 -1.34022653e+00 -1.31544430e+00]\n",
            " [-1.14301691e+00  9.82172869e-02 -1.28338910e+00 -1.44707648e+00]\n",
            " [-5.37177559e-01  1.47939788e+00 -1.28338910e+00 -1.31544430e+00]\n",
            " [-1.26418478e+00  7.88807586e-01 -1.22655167e+00 -1.31544430e+00]\n",
            " [-1.26418478e+00 -1.31979479e-01 -1.34022653e+00 -1.44707648e+00]\n",
            " [-1.87002413e+00 -1.31979479e-01 -1.51073881e+00 -1.44707648e+00]\n",
            " [-5.25060772e-02  2.16998818e+00 -1.45390138e+00 -1.31544430e+00]\n",
            " [-1.73673948e-01  3.09077525e+00 -1.28338910e+00 -1.05217993e+00]\n",
            " [-5.37177559e-01  1.93979142e+00 -1.39706395e+00 -1.05217993e+00]\n",
            " [-9.00681170e-01  1.01900435e+00 -1.34022653e+00 -1.18381211e+00]\n",
            " [-1.73673948e-01  1.70959465e+00 -1.16971425e+00 -1.18381211e+00]\n",
            " [-9.00681170e-01  1.70959465e+00 -1.28338910e+00 -1.18381211e+00]\n",
            " [-5.37177559e-01  7.88807586e-01 -1.16971425e+00 -1.31544430e+00]\n",
            " [-9.00681170e-01  1.47939788e+00 -1.28338910e+00 -1.05217993e+00]\n",
            " [-1.50652052e+00  1.24920112e+00 -1.56757623e+00 -1.31544430e+00]\n",
            " [-9.00681170e-01  5.58610819e-01 -1.16971425e+00 -9.20547742e-01]\n",
            " [-1.26418478e+00  7.88807586e-01 -1.05603939e+00 -1.31544430e+00]\n",
            " [-1.02184904e+00 -1.31979479e-01 -1.22655167e+00 -1.31544430e+00]\n",
            " [-1.02184904e+00  7.88807586e-01 -1.22655167e+00 -1.05217993e+00]\n",
            " [-7.79513300e-01  1.01900435e+00 -1.28338910e+00 -1.31544430e+00]\n",
            " [-7.79513300e-01  7.88807586e-01 -1.34022653e+00 -1.31544430e+00]\n",
            " [-1.38535265e+00  3.28414053e-01 -1.22655167e+00 -1.31544430e+00]\n",
            " [-1.26418478e+00  9.82172869e-02 -1.22655167e+00 -1.31544430e+00]\n",
            " [-5.37177559e-01  7.88807586e-01 -1.28338910e+00 -1.05217993e+00]\n",
            " [-7.79513300e-01  2.40018495e+00 -1.28338910e+00 -1.44707648e+00]\n",
            " [-4.16009689e-01  2.63038172e+00 -1.34022653e+00 -1.31544430e+00]\n",
            " [-1.14301691e+00  9.82172869e-02 -1.28338910e+00 -1.31544430e+00]\n",
            " [-1.02184904e+00  3.28414053e-01 -1.45390138e+00 -1.31544430e+00]\n",
            " [-4.16009689e-01  1.01900435e+00 -1.39706395e+00 -1.31544430e+00]\n",
            " [-1.14301691e+00  1.24920112e+00 -1.34022653e+00 -1.44707648e+00]\n",
            " [-1.74885626e+00 -1.31979479e-01 -1.39706395e+00 -1.31544430e+00]\n",
            " [-9.00681170e-01  7.88807586e-01 -1.28338910e+00 -1.31544430e+00]\n",
            " [-1.02184904e+00  1.01900435e+00 -1.39706395e+00 -1.18381211e+00]\n",
            " [-1.62768839e+00 -1.74335684e+00 -1.39706395e+00 -1.18381211e+00]\n",
            " [-1.74885626e+00  3.28414053e-01 -1.39706395e+00 -1.31544430e+00]\n",
            " [-1.02184904e+00  1.01900435e+00 -1.22655167e+00 -7.88915558e-01]\n",
            " [-9.00681170e-01  1.70959465e+00 -1.05603939e+00 -1.05217993e+00]\n",
            " [-1.26418478e+00 -1.31979479e-01 -1.34022653e+00 -1.18381211e+00]\n",
            " [-9.00681170e-01  1.70959465e+00 -1.22655167e+00 -1.31544430e+00]\n",
            " [-1.50652052e+00  3.28414053e-01 -1.34022653e+00 -1.31544430e+00]\n",
            " [-6.58345429e-01  1.47939788e+00 -1.28338910e+00 -1.31544430e+00]\n",
            " [-1.02184904e+00  5.58610819e-01 -1.34022653e+00 -1.31544430e+00]\n",
            " [ 1.40150837e+00  3.28414053e-01  5.35408562e-01  2.64141916e-01]\n",
            " [ 6.74501145e-01  3.28414053e-01  4.21733708e-01  3.95774101e-01]\n",
            " [ 1.28034050e+00  9.82172869e-02  6.49083415e-01  3.95774101e-01]\n",
            " [-4.16009689e-01 -1.74335684e+00  1.37546573e-01  1.32509732e-01]\n",
            " [ 7.95669016e-01 -5.92373012e-01  4.78571135e-01  3.95774101e-01]\n",
            " [-1.73673948e-01 -5.92373012e-01  4.21733708e-01  1.32509732e-01]\n",
            " [ 5.53333275e-01  5.58610819e-01  5.35408562e-01  5.27406285e-01]\n",
            " [-1.14301691e+00 -1.51316008e+00 -2.60315415e-01 -2.62386821e-01]\n",
            " [ 9.16836886e-01 -3.62176246e-01  4.78571135e-01  1.32509732e-01]\n",
            " [-7.79513300e-01 -8.22569778e-01  8.07091462e-02  2.64141916e-01]\n",
            " [-1.02184904e+00 -2.43394714e+00 -1.46640561e-01 -2.62386821e-01]\n",
            " [ 6.86617933e-02 -1.31979479e-01  2.51221427e-01  3.95774101e-01]\n",
            " [ 1.89829664e-01 -1.97355361e+00  1.37546573e-01 -2.62386821e-01]\n",
            " [ 3.10997534e-01 -3.62176246e-01  5.35408562e-01  2.64141916e-01]\n",
            " [-2.94841818e-01 -3.62176246e-01 -8.98031345e-02  1.32509732e-01]\n",
            " [ 1.03800476e+00  9.82172869e-02  3.64896281e-01  2.64141916e-01]\n",
            " [-2.94841818e-01 -1.31979479e-01  4.21733708e-01  3.95774101e-01]\n",
            " [-5.25060772e-02 -8.22569778e-01  1.94384000e-01 -2.62386821e-01]\n",
            " [ 4.32165405e-01 -1.97355361e+00  4.21733708e-01  3.95774101e-01]\n",
            " [-2.94841818e-01 -1.28296331e+00  8.07091462e-02 -1.30754636e-01]\n",
            " [ 6.86617933e-02  3.28414053e-01  5.92245988e-01  7.90670654e-01]\n",
            " [ 3.10997534e-01 -5.92373012e-01  1.37546573e-01  1.32509732e-01]\n",
            " [ 5.53333275e-01 -1.28296331e+00  6.49083415e-01  3.95774101e-01]\n",
            " [ 3.10997534e-01 -5.92373012e-01  5.35408562e-01  8.77547895e-04]\n",
            " [ 6.74501145e-01 -3.62176246e-01  3.08058854e-01  1.32509732e-01]\n",
            " [ 9.16836886e-01 -1.31979479e-01  3.64896281e-01  2.64141916e-01]\n",
            " [ 1.15917263e+00 -5.92373012e-01  5.92245988e-01  2.64141916e-01]\n",
            " [ 1.03800476e+00 -1.31979479e-01  7.05920842e-01  6.59038469e-01]\n",
            " [ 1.89829664e-01 -3.62176246e-01  4.21733708e-01  3.95774101e-01]\n",
            " [-1.73673948e-01 -1.05276654e+00 -1.46640561e-01 -2.62386821e-01]\n",
            " [-4.16009689e-01 -1.51316008e+00  2.38717193e-02 -1.30754636e-01]\n",
            " [-4.16009689e-01 -1.51316008e+00 -3.29657076e-02 -2.62386821e-01]\n",
            " [-5.25060772e-02 -8.22569778e-01  8.07091462e-02  8.77547895e-04]\n",
            " [ 1.89829664e-01 -8.22569778e-01  7.62758269e-01  5.27406285e-01]\n",
            " [-5.37177559e-01 -1.31979479e-01  4.21733708e-01  3.95774101e-01]\n",
            " [ 1.89829664e-01  7.88807586e-01  4.21733708e-01  5.27406285e-01]\n",
            " [ 1.03800476e+00  9.82172869e-02  5.35408562e-01  3.95774101e-01]\n",
            " [ 5.53333275e-01 -1.74335684e+00  3.64896281e-01  1.32509732e-01]\n",
            " [-2.94841818e-01 -1.31979479e-01  1.94384000e-01  1.32509732e-01]\n",
            " [-4.16009689e-01 -1.28296331e+00  1.37546573e-01  1.32509732e-01]\n",
            " [-4.16009689e-01 -1.05276654e+00  3.64896281e-01  8.77547895e-04]\n",
            " [ 3.10997534e-01 -1.31979479e-01  4.78571135e-01  2.64141916e-01]\n",
            " [-5.25060772e-02 -1.05276654e+00  1.37546573e-01  8.77547895e-04]\n",
            " [-1.02184904e+00 -1.74335684e+00 -2.60315415e-01 -2.62386821e-01]\n",
            " [-2.94841818e-01 -8.22569778e-01  2.51221427e-01  1.32509732e-01]\n",
            " [-1.73673948e-01 -1.31979479e-01  2.51221427e-01  8.77547895e-04]\n",
            " [-1.73673948e-01 -3.62176246e-01  2.51221427e-01  1.32509732e-01]\n",
            " [ 4.32165405e-01 -3.62176246e-01  3.08058854e-01  1.32509732e-01]\n",
            " [-9.00681170e-01 -1.28296331e+00 -4.30827696e-01 -1.30754636e-01]\n",
            " [-1.73673948e-01 -5.92373012e-01  1.94384000e-01  1.32509732e-01]\n",
            " [ 5.53333275e-01  5.58610819e-01  1.27429511e+00  1.71209594e+00]\n",
            " [-5.25060772e-02 -8.22569778e-01  7.62758269e-01  9.22302838e-01]\n",
            " [ 1.52267624e+00 -1.31979479e-01  1.21745768e+00  1.18556721e+00]\n",
            " [ 5.53333275e-01 -3.62176246e-01  1.04694540e+00  7.90670654e-01]\n",
            " [ 7.95669016e-01 -1.31979479e-01  1.16062026e+00  1.31719939e+00]\n",
            " [ 2.12851559e+00 -1.31979479e-01  1.61531967e+00  1.18556721e+00]\n",
            " [-1.14301691e+00 -1.28296331e+00  4.21733708e-01  6.59038469e-01]\n",
            " [ 1.76501198e+00 -3.62176246e-01  1.44480739e+00  7.90670654e-01]\n",
            " [ 1.03800476e+00 -1.28296331e+00  1.16062026e+00  7.90670654e-01]\n",
            " [ 1.64384411e+00  1.24920112e+00  1.33113254e+00  1.71209594e+00]\n",
            " [ 7.95669016e-01  3.28414053e-01  7.62758269e-01  1.05393502e+00]\n",
            " [ 6.74501145e-01 -8.22569778e-01  8.76433123e-01  9.22302838e-01]\n",
            " [ 1.15917263e+00 -1.31979479e-01  9.90107977e-01  1.18556721e+00]\n",
            " [-1.73673948e-01 -1.28296331e+00  7.05920842e-01  1.05393502e+00]\n",
            " [-5.25060772e-02 -5.92373012e-01  7.62758269e-01  1.58046376e+00]\n",
            " [ 6.74501145e-01  3.28414053e-01  8.76433123e-01  1.44883158e+00]\n",
            " [ 7.95669016e-01 -1.31979479e-01  9.90107977e-01  7.90670654e-01]\n",
            " [ 2.24968346e+00  1.70959465e+00  1.67215710e+00  1.31719939e+00]\n",
            " [ 2.24968346e+00 -1.05276654e+00  1.78583195e+00  1.44883158e+00]\n",
            " [ 1.89829664e-01 -1.97355361e+00  7.05920842e-01  3.95774101e-01]\n",
            " [ 1.28034050e+00  3.28414053e-01  1.10378283e+00  1.44883158e+00]\n",
            " [-2.94841818e-01 -5.92373012e-01  6.49083415e-01  1.05393502e+00]\n",
            " [ 2.24968346e+00 -5.92373012e-01  1.67215710e+00  1.05393502e+00]\n",
            " [ 5.53333275e-01 -8.22569778e-01  6.49083415e-01  7.90670654e-01]\n",
            " [ 1.03800476e+00  5.58610819e-01  1.10378283e+00  1.18556721e+00]\n",
            " [ 1.64384411e+00  3.28414053e-01  1.27429511e+00  7.90670654e-01]\n",
            " [ 4.32165405e-01 -5.92373012e-01  5.92245988e-01  7.90670654e-01]\n",
            " [ 3.10997534e-01 -1.31979479e-01  6.49083415e-01  7.90670654e-01]\n",
            " [ 6.74501145e-01 -5.92373012e-01  1.04694540e+00  1.18556721e+00]\n",
            " [ 1.64384411e+00 -1.31979479e-01  1.16062026e+00  5.27406285e-01]\n",
            " [ 1.88617985e+00 -5.92373012e-01  1.33113254e+00  9.22302838e-01]\n",
            " [ 2.49201920e+00  1.70959465e+00  1.50164482e+00  1.05393502e+00]\n",
            " [ 6.74501145e-01 -5.92373012e-01  1.04694540e+00  1.31719939e+00]\n",
            " [ 5.53333275e-01 -5.92373012e-01  7.62758269e-01  3.95774101e-01]\n",
            " [ 3.10997534e-01 -1.05276654e+00  1.04694540e+00  2.64141916e-01]\n",
            " [ 2.24968346e+00 -1.31979479e-01  1.33113254e+00  1.44883158e+00]\n",
            " [ 5.53333275e-01  7.88807586e-01  1.04694540e+00  1.58046376e+00]\n",
            " [ 6.74501145e-01  9.82172869e-02  9.90107977e-01  7.90670654e-01]\n",
            " [ 1.89829664e-01 -1.31979479e-01  5.92245988e-01  7.90670654e-01]\n",
            " [ 1.28034050e+00  9.82172869e-02  9.33270550e-01  1.18556721e+00]\n",
            " [ 1.03800476e+00  9.82172869e-02  1.04694540e+00  1.58046376e+00]\n",
            " [ 1.28034050e+00  9.82172869e-02  7.62758269e-01  1.44883158e+00]\n",
            " [-5.25060772e-02 -8.22569778e-01  7.62758269e-01  9.22302838e-01]\n",
            " [ 1.15917263e+00  3.28414053e-01  1.21745768e+00  1.44883158e+00]\n",
            " [ 1.03800476e+00  5.58610819e-01  1.10378283e+00  1.71209594e+00]\n",
            " [ 1.03800476e+00 -1.31979479e-01  8.19595696e-01  1.44883158e+00]\n",
            " [ 5.53333275e-01 -1.28296331e+00  7.05920842e-01  9.22302838e-01]\n",
            " [ 7.95669016e-01 -1.31979479e-01  8.19595696e-01  1.05393502e+00]\n",
            " [ 4.32165405e-01  7.88807586e-01  9.33270550e-01  1.44883158e+00]\n",
            " [ 6.86617933e-02 -1.31979479e-01  7.62758269e-01  7.90670654e-01]]\n"
          ]
        }
      ]
    },
    {
      "cell_type": "code",
      "metadata": {
        "id": "JStnUZPiM2UD"
      },
      "source": [
        "from sklearn.model_selection import  train_test_split\n",
        "X_train,X_test,y_train,y_test=train_test_split(X_scaled,Y,test_size=0.3,random_state=0)"
      ],
      "execution_count": null,
      "outputs": []
    },
    {
      "cell_type": "code",
      "metadata": {
        "id": "ereR_xl7Pr48"
      },
      "source": [
        "from sklearn.neighbors import KNeighborsClassifier"
      ],
      "execution_count": null,
      "outputs": []
    },
    {
      "cell_type": "code",
      "metadata": {
        "id": "4CRSegaXPuIm"
      },
      "source": [
        "knn = KNeighborsClassifier(n_neighbors=3)"
      ],
      "execution_count": null,
      "outputs": []
    },
    {
      "cell_type": "code",
      "metadata": {
        "colab": {
          "base_uri": "https://localhost:8080/"
        },
        "id": "Au-F_iCmPwOf",
        "outputId": "cbfa1040-72e4-40dc-81ff-dfd711d2b954"
      },
      "source": [
        "knn.fit(X_train,y_train)"
      ],
      "execution_count": null,
      "outputs": [
        {
          "output_type": "execute_result",
          "data": {
            "text/plain": [
              "KNeighborsClassifier(algorithm='auto', leaf_size=30, metric='minkowski',\n",
              "                     metric_params=None, n_jobs=None, n_neighbors=3, p=2,\n",
              "                     weights='uniform')"
            ]
          },
          "metadata": {},
          "execution_count": 85
        }
      ]
    },
    {
      "cell_type": "code",
      "metadata": {
        "id": "pdSX-vXoPy4s"
      },
      "source": [
        "y_pred=knn.predict(X_test)"
      ],
      "execution_count": null,
      "outputs": []
    },
    {
      "cell_type": "code",
      "metadata": {
        "id": "1IZwld-cPzC_"
      },
      "source": [
        "from sklearn.metrics import  confusion_matrix\n",
        "import sklearn.metrics as metrics"
      ],
      "execution_count": null,
      "outputs": []
    },
    {
      "cell_type": "code",
      "metadata": {
        "colab": {
          "base_uri": "https://localhost:8080/"
        },
        "id": "bHu5sz4xP3ji",
        "outputId": "709fe7ab-8056-4f62-c9ad-486d3d7c48c1"
      },
      "source": [
        "print((confusion_matrix(y_test,y_pred)))"
      ],
      "execution_count": null,
      "outputs": [
        {
          "output_type": "stream",
          "name": "stdout",
          "text": [
            "[[16  0  0]\n",
            " [ 0 17  1]\n",
            " [ 0  0 11]]\n"
          ]
        }
      ]
    },
    {
      "cell_type": "code",
      "metadata": {
        "colab": {
          "base_uri": "https://localhost:8080/"
        },
        "id": "v03Yz2dxQEfm",
        "outputId": "88d41677-8ce9-488f-d495-0b57d4301f10"
      },
      "source": [
        "metrics.mean_squared_error(y_test, y_pred)"
      ],
      "execution_count": null,
      "outputs": [
        {
          "output_type": "execute_result",
          "data": {
            "text/plain": [
              "0.022222222222222223"
            ]
          },
          "metadata": {},
          "execution_count": 89
        }
      ]
    },
    {
      "cell_type": "code",
      "metadata": {
        "colab": {
          "base_uri": "https://localhost:8080/",
          "height": 265
        },
        "id": "elYNQtSTQPvZ",
        "outputId": "f11ce94a-af17-4ba5-df3d-189172c14e72"
      },
      "source": [
        "k_range = list(range(1, 51))\n",
        "scores = []\n",
        "for i in k_range:\n",
        "    knn = KNeighborsClassifier(n_neighbors=i)\n",
        "    knn.fit(X_train, y_train)\n",
        "    y_pred = knn.predict(X_test)\n",
        "    scores.append(metrics.mean_squared_error(y_test, y_pred))\n",
        "import matplotlib.pyplot as plt\n",
        "plt.plot(scores,marker='o')\n",
        "plt.show()"
      ],
      "execution_count": null,
      "outputs": [
        {
          "output_type": "display_data",
          "data": {
            "image/png": "[encoded data removed]",
            "text/plain": [
              "<Figure size 432x288 with 1 Axes>"
            ]
          },
          "metadata": {
            "needs_background": "light"
          }
        }
      ]
    },
    {
      "cell_type": "markdown",
      "metadata": {
        "id": "JYHRqjB5Q1V3"
      },
      "source": [
        "From the curve, we can see that the first minimum value of K for which the mean-square-error is minimum is equal to 3.\n",
        "\n",
        "Now in the above method, we manually find the value of k using train_test_split but that doesn't give us the optimum value of k as the splitting may or may not be appropriate.\n",
        "\n",
        "So, now we will find the value of k using Cross-Validation using the inbulit library GridSearchCV.By this method, every sample will undergo testing."
      ]
    },
    {
      "cell_type": "code",
      "metadata": {
        "id": "nUfDiZPmQpXY"
      },
      "source": [
        "from sklearn.model_selection import GridSearchCV"
      ],
      "execution_count": null,
      "outputs": []
    },
    {
      "cell_type": "code",
      "metadata": {
        "colab": {
          "base_uri": "https://localhost:8080/"
        },
        "id": "Si1G0nlVR2bB",
        "outputId": "2d66317b-b44f-446e-b4d3-66f79142c4c6"
      },
      "source": [
        "k_range = list(range(1, 51))\n",
        "print(k_range)"
      ],
      "execution_count": null,
      "outputs": [
        {
          "output_type": "stream",
          "name": "stdout",
          "text": [
            "[1, 2, 3, 4, 5, 6, 7, 8, 9, 10, 11, 12, 13, 14, 15, 16, 17, 18, 19, 20, 21, 22, 23, 24, 25, 26, 27, 28, 29, 30, 31, 32, 33, 34, 35, 36, 37, 38, 39, 40, 41, 42, 43, 44, 45, 46, 47, 48, 49, 50]\n"
          ]
        }
      ]
    },
    {
      "cell_type": "code",
      "metadata": {
        "colab": {
          "base_uri": "https://localhost:8080/"
        },
        "id": "nDhKmtRsR6kI",
        "outputId": "b7b4d0fe-da7c-41ae-c6e0-549e22963056"
      },
      "source": [
        "param_grid = dict(n_neighbors=k_range)\n",
        "print(param_grid)"
      ],
      "execution_count": null,
      "outputs": [
        {
          "output_type": "stream",
          "name": "stdout",
          "text": [
            "{'n_neighbors': [1, 2, 3, 4, 5, 6, 7, 8, 9, 10, 11, 12, 13, 14, 15, 16, 17, 18, 19, 20, 21, 22, 23, 24, 25, 26, 27, 28, 29, 30, 31, 32, 33, 34, 35, 36, 37, 38, 39, 40, 41, 42, 43, 44, 45, 46, 47, 48, 49, 50]}\n"
          ]
        }
      ]
    },
    {
      "cell_type": "code",
      "metadata": {
        "colab": {
          "base_uri": "https://localhost:8080/"
        },
        "id": "SQCCp-fGR8mm",
        "outputId": "6cfddbed-baea-4b61-ff07-fdbb24d53dbc"
      },
      "source": [
        "from sklearn.metrics import mean_squared_error\n",
        "grid = GridSearchCV(knn, param_grid, cv=10,scoring='accuracy',return_train_score=False)\n",
        "grid.fit(X, Y)"
      ],
      "execution_count": null,
      "outputs": [
        {
          "output_type": "execute_result",
          "data": {
            "text/plain": [
              "GridSearchCV(cv=10, error_score=nan,\n",
              "             estimator=KNeighborsClassifier(algorithm='auto', leaf_size=30,\n",
              "                                            metric='minkowski',\n",
              "                                            metric_params=None, n_jobs=None,\n",
              "                                            n_neighbors=50, p=2,\n",
              "                                            weights='uniform'),\n",
              "             iid='deprecated', n_jobs=None,\n",
              "             param_grid={'n_neighbors': [1, 2, 3, 4, 5, 6, 7, 8, 9, 10, 11, 12,\n",
              "                                         13, 14, 15, 16, 17, 18, 19, 20, 21, 22,\n",
              "                                         23, 24, 25, 26, 27, 28, 29, 30, ...]},\n",
              "             pre_dispatch='2*n_jobs', refit=True, return_train_score=False,\n",
              "             scoring='accuracy', verbose=0)"
            ]
          },
          "metadata": {},
          "execution_count": 94
        }
      ]
    },
    {
      "cell_type": "code",
      "metadata": {
        "colab": {
          "base_uri": "https://localhost:8080/"
        },
        "id": "xh7VFf90R-7b",
        "outputId": "c61aa7c9-ee21-4fd3-af70-769a0ad6f4c1"
      },
      "source": [
        "grid_mean_scores = grid.cv_results_['mean_test_score']\n",
        "print(grid_mean_scores)"
      ],
      "execution_count": null,
      "outputs": [
        {
          "output_type": "stream",
          "name": "stdout",
          "text": [
            "[0.96       0.95333333 0.96666667 0.96666667 0.96666667 0.96666667\n",
            " 0.96666667 0.96666667 0.97333333 0.96666667 0.96666667 0.97333333\n",
            " 0.98       0.97333333 0.97333333 0.97333333 0.97333333 0.98\n",
            " 0.97333333 0.98       0.96666667 0.96666667 0.97333333 0.96\n",
            " 0.96666667 0.96       0.96666667 0.95333333 0.95333333 0.95333333\n",
            " 0.94666667 0.94666667 0.94666667 0.94666667 0.94666667 0.94666667\n",
            " 0.94666667 0.94666667 0.95333333 0.95333333 0.95333333 0.95333333\n",
            " 0.94666667 0.94       0.93333333 0.93333333 0.93333333 0.93333333\n",
            " 0.94       0.92666667]\n"
          ]
        }
      ]
    },
    {
      "cell_type": "code",
      "metadata": {
        "colab": {
          "base_uri": "https://localhost:8080/",
          "height": 296
        },
        "id": "tm63YFlnSBMK",
        "outputId": "96323510-a70b-4e64-c974-cefa5f97f54e"
      },
      "source": [
        "plt.plot(grid_mean_scores, marker='o')\n",
        "plt.xlabel('Value of K for KNN')\n",
        "plt.ylabel('accuracy')"
      ],
      "execution_count": null,
      "outputs": [
        {
          "output_type": "execute_result",
          "data": {
            "text/plain": [
              "Text(0, 0.5, 'accuracy')"
            ]
          },
          "metadata": {},
          "execution_count": 96
        },
        {
          "output_type": "display_data",
          "data": {
            "image/png": "[encoded data removed]",
            "text/plain": [
              "<Figure size 432x288 with 1 Axes>"
            ]
          },
          "metadata": {
            "needs_background": "light"
          }
        }
      ]
    },
    {
      "cell_type": "markdown",
      "metadata": {
        "id": "tdhnEsJnlzky"
      },
      "source": [
        "# Assignment-9(SVM)"
      ]
    },
    {
      "cell_type": "code",
      "metadata": {
        "colab": {
          "base_uri": "https://localhost:8080/"
        },
        "id": "G8MzDdb2l_vK",
        "outputId": "7d6615da-52ac-4361-d2eb-732077bb68b8"
      },
      "source": [
        "from google.colab import drive\n",
        "drive.mount(\"/content/colab\")"
      ],
      "execution_count": null,
      "outputs": [
        {
          "output_type": "stream",
          "name": "stdout",
          "text": [
            "Mounted at /content/colab\n"
          ]
        }
      ]
    },
    {
      "cell_type": "code",
      "metadata": {
        "id": "_w4mEft-mNPA"
      },
      "source": [
        "import pandas as pd\n",
        "df=pd.read_csv(\"/content/colab/MyDrive/Colab Notebooks/svm_data.csv\")"
      ],
      "execution_count": null,
      "outputs": []
    },
    {
      "cell_type": "code",
      "metadata": {
        "colab": {
          "base_uri": "https://localhost:8080/",
          "height": 206
        },
        "id": "KFYCD0xYmkrL",
        "outputId": "6ae6b1a8-8dd8-43ca-d7fd-475319a6c2d1"
      },
      "source": [
        "df.head()"
      ],
      "execution_count": null,
      "outputs": [
        {
          "output_type": "execute_result",
          "data": {
            "text/html": [
              "<div>\n",
              "<style scoped>\n",
              "    .dataframe tbody tr th:only-of-type {\n",
              "        vertical-align: middle;\n",
              "    }\n",
              "\n",
              "    .dataframe tbody tr th {\n",
              "        vertical-align: top;\n",
              "    }\n",
              "\n",
              "    .dataframe thead th {\n",
              "        text-align: right;\n",
              "    }\n",
              "</style>\n",
              "<table border=\"1\" class=\"dataframe\">\n",
              "  <thead>\n",
              "    <tr style=\"text-align: right;\">\n",
              "      <th></th>\n",
              "      <th>Index</th>\n",
              "      <th>Weight</th>\n",
              "      <th>Size</th>\n",
              "      <th>Class</th>\n",
              "    </tr>\n",
              "  </thead>\n",
              "  <tbody>\n",
              "    <tr>\n",
              "      <th>0</th>\n",
              "      <td>0</td>\n",
              "      <td>69</td>\n",
              "      <td>4.39</td>\n",
              "      <td>orange</td>\n",
              "    </tr>\n",
              "    <tr>\n",
              "      <th>1</th>\n",
              "      <td>1</td>\n",
              "      <td>69</td>\n",
              "      <td>4.21</td>\n",
              "      <td>orange</td>\n",
              "    </tr>\n",
              "    <tr>\n",
              "      <th>2</th>\n",
              "      <td>2</td>\n",
              "      <td>65</td>\n",
              "      <td>4.09</td>\n",
              "      <td>orange</td>\n",
              "    </tr>\n",
              "    <tr>\n",
              "      <th>3</th>\n",
              "      <td>3</td>\n",
              "      <td>72</td>\n",
              "      <td>5.85</td>\n",
              "      <td>apple</td>\n",
              "    </tr>\n",
              "    <tr>\n",
              "      <th>4</th>\n",
              "      <td>4</td>\n",
              "      <td>67</td>\n",
              "      <td>4.70</td>\n",
              "      <td>orange</td>\n",
              "    </tr>\n",
              "  </tbody>\n",
              "</table>\n",
              "</div>"
            ],
            "text/plain": [
              "   Index  Weight  Size   Class\n",
              "0      0      69  4.39  orange\n",
              "1      1      69  4.21  orange\n",
              "2      2      65  4.09  orange\n",
              "3      3      72  5.85   apple\n",
              "4      4      67  4.70  orange"
            ]
          },
          "metadata": {},
          "execution_count": 3
        }
      ]
    },
    {
      "cell_type": "code",
      "metadata": {
        "colab": {
          "base_uri": "https://localhost:8080/"
        },
        "id": "3JCYZYWgmmox",
        "outputId": "d67d1586-046e-47bc-9994-7618c54bec9e"
      },
      "source": [
        "df.shape"
      ],
      "execution_count": null,
      "outputs": [
        {
          "output_type": "execute_result",
          "data": {
            "text/plain": [
              "(15, 4)"
            ]
          },
          "metadata": {},
          "execution_count": 4
        }
      ]
    },
    {
      "cell_type": "code",
      "metadata": {
        "colab": {
          "base_uri": "https://localhost:8080/",
          "height": 520
        },
        "id": "Gcl8vjLFmpQ4",
        "outputId": "cbf3da37-3b98-4ca5-979d-39b66ea1a026"
      },
      "source": [
        "X=df.iloc[:,1:3]\n",
        "X"
      ],
      "execution_count": null,
      "outputs": [
        {
          "output_type": "execute_result",
          "data": {
            "text/html": [
              "<div>\n",
              "<style scoped>\n",
              "    .dataframe tbody tr th:only-of-type {\n",
              "        vertical-align: middle;\n",
              "    }\n",
              "\n",
              "    .dataframe tbody tr th {\n",
              "        vertical-align: top;\n",
              "    }\n",
              "\n",
              "    .dataframe thead th {\n",
              "        text-align: right;\n",
              "    }\n",
              "</style>\n",
              "<table border=\"1\" class=\"dataframe\">\n",
              "  <thead>\n",
              "    <tr style=\"text-align: right;\">\n",
              "      <th></th>\n",
              "      <th>Weight</th>\n",
              "      <th>Size</th>\n",
              "    </tr>\n",
              "  </thead>\n",
              "  <tbody>\n",
              "    <tr>\n",
              "      <th>0</th>\n",
              "      <td>69</td>\n",
              "      <td>4.39</td>\n",
              "    </tr>\n",
              "    <tr>\n",
              "      <th>1</th>\n",
              "      <td>69</td>\n",
              "      <td>4.21</td>\n",
              "    </tr>\n",
              "    <tr>\n",
              "      <th>2</th>\n",
              "      <td>65</td>\n",
              "      <td>4.09</td>\n",
              "    </tr>\n",
              "    <tr>\n",
              "      <th>3</th>\n",
              "      <td>72</td>\n",
              "      <td>5.85</td>\n",
              "    </tr>\n",
              "    <tr>\n",
              "      <th>4</th>\n",
              "      <td>67</td>\n",
              "      <td>4.70</td>\n",
              "    </tr>\n",
              "    <tr>\n",
              "      <th>5</th>\n",
              "      <td>73</td>\n",
              "      <td>5.68</td>\n",
              "    </tr>\n",
              "    <tr>\n",
              "      <th>6</th>\n",
              "      <td>70</td>\n",
              "      <td>5.56</td>\n",
              "    </tr>\n",
              "    <tr>\n",
              "      <th>7</th>\n",
              "      <td>75</td>\n",
              "      <td>5.11</td>\n",
              "    </tr>\n",
              "    <tr>\n",
              "      <th>8</th>\n",
              "      <td>74</td>\n",
              "      <td>5.36</td>\n",
              "    </tr>\n",
              "    <tr>\n",
              "      <th>9</th>\n",
              "      <td>65</td>\n",
              "      <td>4.27</td>\n",
              "    </tr>\n",
              "    <tr>\n",
              "      <th>10</th>\n",
              "      <td>73</td>\n",
              "      <td>5.79</td>\n",
              "    </tr>\n",
              "    <tr>\n",
              "      <th>11</th>\n",
              "      <td>70</td>\n",
              "      <td>5.47</td>\n",
              "    </tr>\n",
              "    <tr>\n",
              "      <th>12</th>\n",
              "      <td>74</td>\n",
              "      <td>5.53</td>\n",
              "    </tr>\n",
              "    <tr>\n",
              "      <th>13</th>\n",
              "      <td>68</td>\n",
              "      <td>4.47</td>\n",
              "    </tr>\n",
              "    <tr>\n",
              "      <th>14</th>\n",
              "      <td>74</td>\n",
              "      <td>5.22</td>\n",
              "    </tr>\n",
              "  </tbody>\n",
              "</table>\n",
              "</div>"
            ],
            "text/plain": [
              "    Weight  Size\n",
              "0       69  4.39\n",
              "1       69  4.21\n",
              "2       65  4.09\n",
              "3       72  5.85\n",
              "4       67  4.70\n",
              "5       73  5.68\n",
              "6       70  5.56\n",
              "7       75  5.11\n",
              "8       74  5.36\n",
              "9       65  4.27\n",
              "10      73  5.79\n",
              "11      70  5.47\n",
              "12      74  5.53\n",
              "13      68  4.47\n",
              "14      74  5.22"
            ]
          },
          "metadata": {},
          "execution_count": 5
        }
      ]
    },
    {
      "cell_type": "code",
      "metadata": {
        "colab": {
          "base_uri": "https://localhost:8080/"
        },
        "id": "USWZMvoknXY3",
        "outputId": "c265cb5f-762e-4553-814b-b8163765544a"
      },
      "source": [
        "Y=df.iloc[:,-1]\n",
        "Y "
      ],
      "execution_count": null,
      "outputs": [
        {
          "output_type": "execute_result",
          "data": {
            "text/plain": [
              "0     orange\n",
              "1     orange\n",
              "2     orange\n",
              "3      apple\n",
              "4     orange\n",
              "5      apple\n",
              "6      apple\n",
              "7      apple\n",
              "8      apple\n",
              "9     orange\n",
              "10     apple\n",
              "11     apple\n",
              "12     apple\n",
              "13    orange\n",
              "14     apple\n",
              "Name: Class, dtype: object"
            ]
          },
          "metadata": {},
          "execution_count": 6
        }
      ]
    },
    {
      "cell_type": "code",
      "metadata": {
        "id": "b0ns_8nIoOfX"
      },
      "source": [
        "from sklearn.model_selection import train_test_split\n",
        "xtrain,xtest,ytrain,ytest=train_test_split(X,Y,test_size=0.20,random_state=0)"
      ],
      "execution_count": null,
      "outputs": []
    },
    {
      "cell_type": "code",
      "metadata": {
        "id": "QnYcSZ4UnegH"
      },
      "source": [
        "from sklearn import svm"
      ],
      "execution_count": null,
      "outputs": []
    },
    {
      "cell_type": "code",
      "metadata": {
        "id": "SRNrzw6KniXB"
      },
      "source": [
        "#Create a svm Classifier\n",
        "clf = svm.SVC(kernel='linear') # Linear Kernel"
      ],
      "execution_count": null,
      "outputs": []
    },
    {
      "cell_type": "code",
      "metadata": {
        "colab": {
          "base_uri": "https://localhost:8080/"
        },
        "id": "HFMyZZAXn7bZ",
        "outputId": "b5873c53-ca11-42ab-befc-8c386b2f1f98"
      },
      "source": [
        "#Train the model using the training sets\n",
        "clf.fit(xtrain, ytrain)"
      ],
      "execution_count": null,
      "outputs": [
        {
          "output_type": "execute_result",
          "data": {
            "text/plain": [
              "SVC(kernel='linear')"
            ]
          },
          "metadata": {},
          "execution_count": 11
        }
      ]
    },
    {
      "cell_type": "code",
      "metadata": {
        "id": "y-2rMsokn9mp"
      },
      "source": [
        "#Predict the response for test dataset\n",
        "y_pred = clf.predict(xtest)"
      ],
      "execution_count": null,
      "outputs": []
    },
    {
      "cell_type": "code",
      "metadata": {
        "colab": {
          "base_uri": "https://localhost:8080/"
        },
        "id": "d58eoBepoEr8",
        "outputId": "de3d9fc5-edf5-46f5-c694-a56858e45a61"
      },
      "source": [
        "y_pred"
      ],
      "execution_count": null,
      "outputs": [
        {
          "output_type": "execute_result",
          "data": {
            "text/plain": [
              "array(['orange', 'apple', 'apple'], dtype=object)"
            ]
          },
          "metadata": {},
          "execution_count": 13
        }
      ]
    },
    {
      "cell_type": "code",
      "metadata": {
        "id": "RWghF_QMrHXy"
      },
      "source": [
        "from sklearn.metrics import confusion_matrix\n",
        "conf_mat=confusion_matrix(ytest,y_pred)\n",
        "conf_mat "
      ],
      "execution_count": null,
      "outputs": []
    },
    {
      "cell_type": "code",
      "metadata": {
        "id": "Vk1RtYnkotOn"
      },
      "source": [
        "TN=conf_mat[0][0]\n",
        "FP=conf_mat[0][1] \n",
        "FN=conf_mat[1][0] \n",
        "TP=conf_mat[1][1]"
      ],
      "execution_count": null,
      "outputs": []
    },
    {
      "cell_type": "code",
      "metadata": {
        "colab": {
          "base_uri": "https://localhost:8080/"
        },
        "id": "CQkBby6boxN-",
        "outputId": "1d8c1470-0599-4405-b36f-6f1ddfc5ebe3"
      },
      "source": [
        "TPR=TP/(TP+FN)\n",
        "print(\"TPR\",TPR)\n",
        "FPR=FP/(FP+TN)\n",
        "print(\"FPR\",FPR)\n",
        "TNR=TN/(TN+FP)\n",
        "print(\"TNR\",TNR)\n",
        "FNR=FN/(FN+TP)\n",
        "print(\"FNR\",FNR)\n",
        "precision =(TP)/(TP+FP)\n",
        "print(\"Precision\",precision)\n",
        "accuracy= (TP+TN)/(TP+TN+FP+FN)\n",
        "print(\"Accuracy\",accuracy)\n",
        "recall= (TP)/(TP+FN)\n",
        "print(\"Recall\",recall)\n",
        "f1_score = 2*(( precision * recall)/( precision + recall))\n",
        "print(\"f1 score\",f1_score)\n"
      ],
      "execution_count": null,
      "outputs": [
        {
          "output_type": "stream",
          "name": "stdout",
          "text": [
            "TPR 1.0\n",
            "FPR 0.0\n",
            "TNR 1.0\n",
            "FNR 0.0\n",
            "Precision 1.0\n",
            "Accuracy 1.0\n",
            "Recall 1.0\n",
            "f1 score 1.0\n"
          ]
        }
      ]
    },
    {
      "cell_type": "markdown",
      "metadata": {
        "id": "PMS2MBKw3dfz"
      },
      "source": [
        "# Assignment-10"
      ]
    },
    {
      "cell_type": "code",
      "metadata": {
        "id": "XWg3Z5Mf3inO"
      },
      "source": [
        "import numpy as np\n",
        "import pandas as pd"
      ],
      "execution_count": null,
      "outputs": []
    },
    {
      "cell_type": "code",
      "metadata": {
        "colab": {
          "base_uri": "https://localhost:8080/",
          "height": 423
        },
        "id": "4GZHGNgZ6Y4v",
        "outputId": "8084bb03-5dab-4513-c7ca-af10ecc432de"
      },
      "source": [
        "df=pd.read_csv(\"https://www.cs.carleton.edu/faculty/dmusican/cs321s12/titanic2.txt\",delimiter='\\t')\n",
        "df"
      ],
      "execution_count": null,
      "outputs": [
        {
          "output_type": "execute_result",
          "data": {
            "text/html": [
              "<div>\n",
              "<style scoped>\n",
              "    .dataframe tbody tr th:only-of-type {\n",
              "        vertical-align: middle;\n",
              "    }\n",
              "\n",
              "    .dataframe tbody tr th {\n",
              "        vertical-align: top;\n",
              "    }\n",
              "\n",
              "    .dataframe thead th {\n",
              "        text-align: right;\n",
              "    }\n",
              "</style>\n",
              "<table border=\"1\" class=\"dataframe\">\n",
              "  <thead>\n",
              "    <tr style=\"text-align: right;\">\n",
              "      <th></th>\n",
              "      <th>pclass</th>\n",
              "      <th>age</th>\n",
              "      <th>sex</th>\n",
              "      <th>survived</th>\n",
              "    </tr>\n",
              "  </thead>\n",
              "  <tbody>\n",
              "    <tr>\n",
              "      <th>0</th>\n",
              "      <td>1st</td>\n",
              "      <td>adult</td>\n",
              "      <td>male</td>\n",
              "      <td>yes</td>\n",
              "    </tr>\n",
              "    <tr>\n",
              "      <th>1</th>\n",
              "      <td>1st</td>\n",
              "      <td>adult</td>\n",
              "      <td>male</td>\n",
              "      <td>yes</td>\n",
              "    </tr>\n",
              "    <tr>\n",
              "      <th>2</th>\n",
              "      <td>1st</td>\n",
              "      <td>adult</td>\n",
              "      <td>male</td>\n",
              "      <td>yes</td>\n",
              "    </tr>\n",
              "    <tr>\n",
              "      <th>3</th>\n",
              "      <td>1st</td>\n",
              "      <td>adult</td>\n",
              "      <td>male</td>\n",
              "      <td>yes</td>\n",
              "    </tr>\n",
              "    <tr>\n",
              "      <th>4</th>\n",
              "      <td>1st</td>\n",
              "      <td>adult</td>\n",
              "      <td>male</td>\n",
              "      <td>yes</td>\n",
              "    </tr>\n",
              "    <tr>\n",
              "      <th>...</th>\n",
              "      <td>...</td>\n",
              "      <td>...</td>\n",
              "      <td>...</td>\n",
              "      <td>...</td>\n",
              "    </tr>\n",
              "    <tr>\n",
              "      <th>2196</th>\n",
              "      <td>crew</td>\n",
              "      <td>adult</td>\n",
              "      <td>female</td>\n",
              "      <td>yes</td>\n",
              "    </tr>\n",
              "    <tr>\n",
              "      <th>2197</th>\n",
              "      <td>crew</td>\n",
              "      <td>adult</td>\n",
              "      <td>female</td>\n",
              "      <td>yes</td>\n",
              "    </tr>\n",
              "    <tr>\n",
              "      <th>2198</th>\n",
              "      <td>crew</td>\n",
              "      <td>adult</td>\n",
              "      <td>female</td>\n",
              "      <td>no</td>\n",
              "    </tr>\n",
              "    <tr>\n",
              "      <th>2199</th>\n",
              "      <td>crew</td>\n",
              "      <td>adult</td>\n",
              "      <td>female</td>\n",
              "      <td>no</td>\n",
              "    </tr>\n",
              "    <tr>\n",
              "      <th>2200</th>\n",
              "      <td>crew</td>\n",
              "      <td>adult</td>\n",
              "      <td>female</td>\n",
              "      <td>no</td>\n",
              "    </tr>\n",
              "  </tbody>\n",
              "</table>\n",
              "<p>2201 rows × 4 columns</p>\n",
              "</div>"
            ],
            "text/plain": [
              "     pclass    age     sex survived\n",
              "0       1st  adult    male      yes\n",
              "1       1st  adult    male      yes\n",
              "2       1st  adult    male      yes\n",
              "3       1st  adult    male      yes\n",
              "4       1st  adult    male      yes\n",
              "...     ...    ...     ...      ...\n",
              "2196   crew  adult  female      yes\n",
              "2197   crew  adult  female      yes\n",
              "2198   crew  adult  female       no\n",
              "2199   crew  adult  female       no\n",
              "2200   crew  adult  female       no\n",
              "\n",
              "[2201 rows x 4 columns]"
            ]
          },
          "metadata": {},
          "execution_count": 32
        }
      ]
    },
    {
      "cell_type": "code",
      "metadata": {
        "id": "-PO_LTEd9VQc"
      },
      "source": [
        "df.to_csv(\"/content/titanic.csv\",index=False)"
      ],
      "execution_count": null,
      "outputs": []
    },
    {
      "cell_type": "code",
      "metadata": {
        "id": "zsumVK3s90V1",
        "colab": {
          "base_uri": "https://localhost:8080/",
          "height": 206
        },
        "outputId": "46eaca15-7f8a-462c-871b-b903d411294e"
      },
      "source": [
        "df.head()"
      ],
      "execution_count": null,
      "outputs": [
        {
          "output_type": "execute_result",
          "data": {
            "text/html": [
              "<div>\n",
              "<style scoped>\n",
              "    .dataframe tbody tr th:only-of-type {\n",
              "        vertical-align: middle;\n",
              "    }\n",
              "\n",
              "    .dataframe tbody tr th {\n",
              "        vertical-align: top;\n",
              "    }\n",
              "\n",
              "    .dataframe thead th {\n",
              "        text-align: right;\n",
              "    }\n",
              "</style>\n",
              "<table border=\"1\" class=\"dataframe\">\n",
              "  <thead>\n",
              "    <tr style=\"text-align: right;\">\n",
              "      <th></th>\n",
              "      <th>pclass</th>\n",
              "      <th>age</th>\n",
              "      <th>sex</th>\n",
              "      <th>survived</th>\n",
              "    </tr>\n",
              "  </thead>\n",
              "  <tbody>\n",
              "    <tr>\n",
              "      <th>0</th>\n",
              "      <td>1st</td>\n",
              "      <td>adult</td>\n",
              "      <td>male</td>\n",
              "      <td>yes</td>\n",
              "    </tr>\n",
              "    <tr>\n",
              "      <th>1</th>\n",
              "      <td>1st</td>\n",
              "      <td>adult</td>\n",
              "      <td>male</td>\n",
              "      <td>yes</td>\n",
              "    </tr>\n",
              "    <tr>\n",
              "      <th>2</th>\n",
              "      <td>1st</td>\n",
              "      <td>adult</td>\n",
              "      <td>male</td>\n",
              "      <td>yes</td>\n",
              "    </tr>\n",
              "    <tr>\n",
              "      <th>3</th>\n",
              "      <td>1st</td>\n",
              "      <td>adult</td>\n",
              "      <td>male</td>\n",
              "      <td>yes</td>\n",
              "    </tr>\n",
              "    <tr>\n",
              "      <th>4</th>\n",
              "      <td>1st</td>\n",
              "      <td>adult</td>\n",
              "      <td>male</td>\n",
              "      <td>yes</td>\n",
              "    </tr>\n",
              "  </tbody>\n",
              "</table>\n",
              "</div>"
            ],
            "text/plain": [
              "  pclass    age   sex survived\n",
              "0    1st  adult  male      yes\n",
              "1    1st  adult  male      yes\n",
              "2    1st  adult  male      yes\n",
              "3    1st  adult  male      yes\n",
              "4    1st  adult  male      yes"
            ]
          },
          "metadata": {},
          "execution_count": 34
        }
      ]
    },
    {
      "cell_type": "code",
      "metadata": {
        "colab": {
          "base_uri": "https://localhost:8080/",
          "height": 423
        },
        "id": "NCsXYQiOGria",
        "outputId": "176fffbe-65a5-4926-ba33-c5f77cd2c241"
      },
      "source": [
        "X=df.iloc[:,0:3]\n",
        "X"
      ],
      "execution_count": null,
      "outputs": [
        {
          "output_type": "execute_result",
          "data": {
            "text/html": [
              "<div>\n",
              "<style scoped>\n",
              "    .dataframe tbody tr th:only-of-type {\n",
              "        vertical-align: middle;\n",
              "    }\n",
              "\n",
              "    .dataframe tbody tr th {\n",
              "        vertical-align: top;\n",
              "    }\n",
              "\n",
              "    .dataframe thead th {\n",
              "        text-align: right;\n",
              "    }\n",
              "</style>\n",
              "<table border=\"1\" class=\"dataframe\">\n",
              "  <thead>\n",
              "    <tr style=\"text-align: right;\">\n",
              "      <th></th>\n",
              "      <th>pclass</th>\n",
              "      <th>age</th>\n",
              "      <th>sex</th>\n",
              "    </tr>\n",
              "  </thead>\n",
              "  <tbody>\n",
              "    <tr>\n",
              "      <th>0</th>\n",
              "      <td>1st</td>\n",
              "      <td>adult</td>\n",
              "      <td>male</td>\n",
              "    </tr>\n",
              "    <tr>\n",
              "      <th>1</th>\n",
              "      <td>1st</td>\n",
              "      <td>adult</td>\n",
              "      <td>male</td>\n",
              "    </tr>\n",
              "    <tr>\n",
              "      <th>2</th>\n",
              "      <td>1st</td>\n",
              "      <td>adult</td>\n",
              "      <td>male</td>\n",
              "    </tr>\n",
              "    <tr>\n",
              "      <th>3</th>\n",
              "      <td>1st</td>\n",
              "      <td>adult</td>\n",
              "      <td>male</td>\n",
              "    </tr>\n",
              "    <tr>\n",
              "      <th>4</th>\n",
              "      <td>1st</td>\n",
              "      <td>adult</td>\n",
              "      <td>male</td>\n",
              "    </tr>\n",
              "    <tr>\n",
              "      <th>...</th>\n",
              "      <td>...</td>\n",
              "      <td>...</td>\n",
              "      <td>...</td>\n",
              "    </tr>\n",
              "    <tr>\n",
              "      <th>2196</th>\n",
              "      <td>crew</td>\n",
              "      <td>adult</td>\n",
              "      <td>female</td>\n",
              "    </tr>\n",
              "    <tr>\n",
              "      <th>2197</th>\n",
              "      <td>crew</td>\n",
              "      <td>adult</td>\n",
              "      <td>female</td>\n",
              "    </tr>\n",
              "    <tr>\n",
              "      <th>2198</th>\n",
              "      <td>crew</td>\n",
              "      <td>adult</td>\n",
              "      <td>female</td>\n",
              "    </tr>\n",
              "    <tr>\n",
              "      <th>2199</th>\n",
              "      <td>crew</td>\n",
              "      <td>adult</td>\n",
              "      <td>female</td>\n",
              "    </tr>\n",
              "    <tr>\n",
              "      <th>2200</th>\n",
              "      <td>crew</td>\n",
              "      <td>adult</td>\n",
              "      <td>female</td>\n",
              "    </tr>\n",
              "  </tbody>\n",
              "</table>\n",
              "<p>2201 rows × 3 columns</p>\n",
              "</div>"
            ],
            "text/plain": [
              "     pclass    age     sex\n",
              "0       1st  adult    male\n",
              "1       1st  adult    male\n",
              "2       1st  adult    male\n",
              "3       1st  adult    male\n",
              "4       1st  adult    male\n",
              "...     ...    ...     ...\n",
              "2196   crew  adult  female\n",
              "2197   crew  adult  female\n",
              "2198   crew  adult  female\n",
              "2199   crew  adult  female\n",
              "2200   crew  adult  female\n",
              "\n",
              "[2201 rows x 3 columns]"
            ]
          },
          "metadata": {},
          "execution_count": 35
        }
      ]
    },
    {
      "cell_type": "code",
      "metadata": {
        "colab": {
          "base_uri": "https://localhost:8080/"
        },
        "id": "6u_393PiGzCD",
        "outputId": "46f1210c-b943-400b-d6be-168de2b9ed06"
      },
      "source": [
        "Y=df.iloc[:,-1]\n",
        "\n",
        "arr=np.array(Y)\n",
        "arr.reshape(-1,1)\n",
        "\n",
        "# Y.shape"
      ],
      "execution_count": null,
      "outputs": [
        {
          "output_type": "execute_result",
          "data": {
            "text/plain": [
              "array([['yes'],\n",
              "       ['yes'],\n",
              "       ['yes'],\n",
              "       ...,\n",
              "       ['no'],\n",
              "       ['no'],\n",
              "       ['no']], dtype=object)"
            ]
          },
          "metadata": {},
          "execution_count": 36
        }
      ]
    },
    {
      "cell_type": "code",
      "metadata": {
        "id": "gFNXJz-rLH1z"
      },
      "source": [
        "\n",
        "# Import label encoder\n",
        "from sklearn import preprocessing\n",
        " \n",
        "# label_encoder object knows how to understand word labels.\n",
        "label_encoder = preprocessing.LabelEncoder()\n",
        " \n",
        "# Encode labels in column 'species'.\n",
        "df['survived']= label_encoder.fit_transform(df['survived'])\n",
        " "
      ],
      "execution_count": null,
      "outputs": []
    },
    {
      "cell_type": "code",
      "metadata": {
        "id": "ReT4aYuV97Ru"
      },
      "source": [
        "from sklearn.tree import DecisionTreeClassifier\n",
        "from sklearn.model_selection import train_test_split"
      ],
      "execution_count": null,
      "outputs": []
    },
    {
      "cell_type": "code",
      "metadata": {
        "id": "qkXYyiPfGarH"
      },
      "source": [
        "X_train, X_test, y_train, y_test = train_test_split(X, arr, test_size=0.3, random_state=0)"
      ],
      "execution_count": null,
      "outputs": []
    },
    {
      "cell_type": "code",
      "metadata": {
        "colab": {
          "base_uri": "https://localhost:8080/",
          "height": 310
        },
        "id": "SLcxuTrGHLry",
        "outputId": "8751873b-b84b-403b-fca7-47370134a9b9"
      },
      "source": [
        "tree = DecisionTreeClassifier(criterion = 'entropy').fit(X_train,y_train)"
      ],
      "execution_count": null,
      "outputs": [
        {
          "output_type": "error",
          "ename": "ValueError",
          "evalue": "ignored",
          "traceback": [
            "\u001b[0;31m---------------------------------------------------------------------------\u001b[0m",
            "\u001b[0;31mValueError\u001b[0m                                Traceback (most recent call last)",
            "\u001b[0;32m<ipython-input-47-c4b195f56e76>\u001b[0m in \u001b[0;36m<module>\u001b[0;34m()\u001b[0m\n\u001b[0;32m----> 1\u001b[0;31m \u001b[0mtree\u001b[0m \u001b[0;34m=\u001b[0m \u001b[0mDecisionTreeClassifier\u001b[0m\u001b[0;34m(\u001b[0m\u001b[0mcriterion\u001b[0m \u001b[0;34m=\u001b[0m \u001b[0;34m'entropy'\u001b[0m\u001b[0;34m)\u001b[0m\u001b[0;34m.\u001b[0m\u001b[0mfit\u001b[0m\u001b[0;34m(\u001b[0m\u001b[0mX_train\u001b[0m\u001b[0;34m,\u001b[0m\u001b[0my_train\u001b[0m\u001b[0;34m)\u001b[0m\u001b[0;34m\u001b[0m\u001b[0;34m\u001b[0m\u001b[0m\n\u001b[0m",
            "\u001b[0;32m/usr/local/lib/python3.7/dist-packages/sklearn/tree/_classes.py\u001b[0m in \u001b[0;36mfit\u001b[0;34m(self, X, y, sample_weight, check_input, X_idx_sorted)\u001b[0m\n\u001b[1;32m    940\u001b[0m             \u001b[0msample_weight\u001b[0m\u001b[0;34m=\u001b[0m\u001b[0msample_weight\u001b[0m\u001b[0;34m,\u001b[0m\u001b[0;34m\u001b[0m\u001b[0;34m\u001b[0m\u001b[0m\n\u001b[1;32m    941\u001b[0m             \u001b[0mcheck_input\u001b[0m\u001b[0;34m=\u001b[0m\u001b[0mcheck_input\u001b[0m\u001b[0;34m,\u001b[0m\u001b[0;34m\u001b[0m\u001b[0;34m\u001b[0m\u001b[0m\n\u001b[0;32m--> 942\u001b[0;31m             \u001b[0mX_idx_sorted\u001b[0m\u001b[0;34m=\u001b[0m\u001b[0mX_idx_sorted\u001b[0m\u001b[0;34m,\u001b[0m\u001b[0;34m\u001b[0m\u001b[0;34m\u001b[0m\u001b[0m\n\u001b[0m\u001b[1;32m    943\u001b[0m         )\n\u001b[1;32m    944\u001b[0m         \u001b[0;32mreturn\u001b[0m \u001b[0mself\u001b[0m\u001b[0;34m\u001b[0m\u001b[0;34m\u001b[0m\u001b[0m\n",
            "\u001b[0;32m/usr/local/lib/python3.7/dist-packages/sklearn/tree/_classes.py\u001b[0m in \u001b[0;36mfit\u001b[0;34m(self, X, y, sample_weight, check_input, X_idx_sorted)\u001b[0m\n\u001b[1;32m    164\u001b[0m             \u001b[0mcheck_y_params\u001b[0m \u001b[0;34m=\u001b[0m \u001b[0mdict\u001b[0m\u001b[0;34m(\u001b[0m\u001b[0mensure_2d\u001b[0m\u001b[0;34m=\u001b[0m\u001b[0;32mFalse\u001b[0m\u001b[0;34m,\u001b[0m \u001b[0mdtype\u001b[0m\u001b[0;34m=\u001b[0m\u001b[0;32mNone\u001b[0m\u001b[0;34m)\u001b[0m\u001b[0;34m\u001b[0m\u001b[0;34m\u001b[0m\u001b[0m\n\u001b[1;32m    165\u001b[0m             X, y = self._validate_data(\n\u001b[0;32m--> 166\u001b[0;31m                 \u001b[0mX\u001b[0m\u001b[0;34m,\u001b[0m \u001b[0my\u001b[0m\u001b[0;34m,\u001b[0m \u001b[0mvalidate_separately\u001b[0m\u001b[0;34m=\u001b[0m\u001b[0;34m(\u001b[0m\u001b[0mcheck_X_params\u001b[0m\u001b[0;34m,\u001b[0m \u001b[0mcheck_y_params\u001b[0m\u001b[0;34m)\u001b[0m\u001b[0;34m\u001b[0m\u001b[0;34m\u001b[0m\u001b[0m\n\u001b[0m\u001b[1;32m    167\u001b[0m             )\n\u001b[1;32m    168\u001b[0m             \u001b[0;32mif\u001b[0m \u001b[0missparse\u001b[0m\u001b[0;34m(\u001b[0m\u001b[0mX\u001b[0m\u001b[0;34m)\u001b[0m\u001b[0;34m:\u001b[0m\u001b[0;34m\u001b[0m\u001b[0;34m\u001b[0m\u001b[0m\n",
            "\u001b[0;32m/usr/local/lib/python3.7/dist-packages/sklearn/base.py\u001b[0m in \u001b[0;36m_validate_data\u001b[0;34m(self, X, y, reset, validate_separately, **check_params)\u001b[0m\n\u001b[1;32m    571\u001b[0m                 \u001b[0;31m# :(\u001b[0m\u001b[0;34m\u001b[0m\u001b[0;34m\u001b[0m\u001b[0;34m\u001b[0m\u001b[0m\n\u001b[1;32m    572\u001b[0m                 \u001b[0mcheck_X_params\u001b[0m\u001b[0;34m,\u001b[0m \u001b[0mcheck_y_params\u001b[0m \u001b[0;34m=\u001b[0m \u001b[0mvalidate_separately\u001b[0m\u001b[0;34m\u001b[0m\u001b[0;34m\u001b[0m\u001b[0m\n\u001b[0;32m--> 573\u001b[0;31m                 \u001b[0mX\u001b[0m \u001b[0;34m=\u001b[0m \u001b[0mcheck_array\u001b[0m\u001b[0;34m(\u001b[0m\u001b[0mX\u001b[0m\u001b[0;34m,\u001b[0m \u001b[0;34m**\u001b[0m\u001b[0mcheck_X_params\u001b[0m\u001b[0;34m)\u001b[0m\u001b[0;34m\u001b[0m\u001b[0;34m\u001b[0m\u001b[0m\n\u001b[0m\u001b[1;32m    574\u001b[0m                 \u001b[0my\u001b[0m \u001b[0;34m=\u001b[0m \u001b[0mcheck_array\u001b[0m\u001b[0;34m(\u001b[0m\u001b[0my\u001b[0m\u001b[0;34m,\u001b[0m \u001b[0;34m**\u001b[0m\u001b[0mcheck_y_params\u001b[0m\u001b[0;34m)\u001b[0m\u001b[0;34m\u001b[0m\u001b[0;34m\u001b[0m\u001b[0m\n\u001b[1;32m    575\u001b[0m             \u001b[0;32melse\u001b[0m\u001b[0;34m:\u001b[0m\u001b[0;34m\u001b[0m\u001b[0;34m\u001b[0m\u001b[0m\n",
            "\u001b[0;32m/usr/local/lib/python3.7/dist-packages/sklearn/utils/validation.py\u001b[0m in \u001b[0;36mcheck_array\u001b[0;34m(array, accept_sparse, accept_large_sparse, dtype, order, copy, force_all_finite, ensure_2d, allow_nd, ensure_min_samples, ensure_min_features, estimator)\u001b[0m\n\u001b[1;32m    736\u001b[0m                     \u001b[0marray\u001b[0m \u001b[0;34m=\u001b[0m \u001b[0marray\u001b[0m\u001b[0;34m.\u001b[0m\u001b[0mastype\u001b[0m\u001b[0;34m(\u001b[0m\u001b[0mdtype\u001b[0m\u001b[0;34m,\u001b[0m \u001b[0mcasting\u001b[0m\u001b[0;34m=\u001b[0m\u001b[0;34m\"unsafe\"\u001b[0m\u001b[0;34m,\u001b[0m \u001b[0mcopy\u001b[0m\u001b[0;34m=\u001b[0m\u001b[0;32mFalse\u001b[0m\u001b[0;34m)\u001b[0m\u001b[0;34m\u001b[0m\u001b[0;34m\u001b[0m\u001b[0m\n\u001b[1;32m    737\u001b[0m                 \u001b[0;32melse\u001b[0m\u001b[0;34m:\u001b[0m\u001b[0;34m\u001b[0m\u001b[0;34m\u001b[0m\u001b[0m\n\u001b[0;32m--> 738\u001b[0;31m                     \u001b[0marray\u001b[0m \u001b[0;34m=\u001b[0m \u001b[0mnp\u001b[0m\u001b[0;34m.\u001b[0m\u001b[0masarray\u001b[0m\u001b[0;34m(\u001b[0m\u001b[0marray\u001b[0m\u001b[0;34m,\u001b[0m \u001b[0morder\u001b[0m\u001b[0;34m=\u001b[0m\u001b[0morder\u001b[0m\u001b[0;34m,\u001b[0m \u001b[0mdtype\u001b[0m\u001b[0;34m=\u001b[0m\u001b[0mdtype\u001b[0m\u001b[0;34m)\u001b[0m\u001b[0;34m\u001b[0m\u001b[0;34m\u001b[0m\u001b[0m\n\u001b[0m\u001b[1;32m    739\u001b[0m             \u001b[0;32mexcept\u001b[0m \u001b[0mComplexWarning\u001b[0m \u001b[0;32mas\u001b[0m \u001b[0mcomplex_warning\u001b[0m\u001b[0;34m:\u001b[0m\u001b[0;34m\u001b[0m\u001b[0;34m\u001b[0m\u001b[0m\n\u001b[1;32m    740\u001b[0m                 raise ValueError(\n",
            "\u001b[0;32m/usr/local/lib/python3.7/dist-packages/numpy/core/_asarray.py\u001b[0m in \u001b[0;36masarray\u001b[0;34m(a, dtype, order)\u001b[0m\n\u001b[1;32m     81\u001b[0m \u001b[0;34m\u001b[0m\u001b[0m\n\u001b[1;32m     82\u001b[0m     \"\"\"\n\u001b[0;32m---> 83\u001b[0;31m     \u001b[0;32mreturn\u001b[0m \u001b[0marray\u001b[0m\u001b[0;34m(\u001b[0m\u001b[0ma\u001b[0m\u001b[0;34m,\u001b[0m \u001b[0mdtype\u001b[0m\u001b[0;34m,\u001b[0m \u001b[0mcopy\u001b[0m\u001b[0;34m=\u001b[0m\u001b[0;32mFalse\u001b[0m\u001b[0;34m,\u001b[0m \u001b[0morder\u001b[0m\u001b[0;34m=\u001b[0m\u001b[0morder\u001b[0m\u001b[0;34m)\u001b[0m\u001b[0;34m\u001b[0m\u001b[0;34m\u001b[0m\u001b[0m\n\u001b[0m\u001b[1;32m     84\u001b[0m \u001b[0;34m\u001b[0m\u001b[0m\n\u001b[1;32m     85\u001b[0m \u001b[0;34m\u001b[0m\u001b[0m\n",
            "\u001b[0;32m/usr/local/lib/python3.7/dist-packages/pandas/core/generic.py\u001b[0m in \u001b[0;36m__array__\u001b[0;34m(self, dtype)\u001b[0m\n\u001b[1;32m   1779\u001b[0m \u001b[0;34m\u001b[0m\u001b[0m\n\u001b[1;32m   1780\u001b[0m     \u001b[0;32mdef\u001b[0m \u001b[0m__array__\u001b[0m\u001b[0;34m(\u001b[0m\u001b[0mself\u001b[0m\u001b[0;34m,\u001b[0m \u001b[0mdtype\u001b[0m\u001b[0;34m=\u001b[0m\u001b[0;32mNone\u001b[0m\u001b[0;34m)\u001b[0m \u001b[0;34m->\u001b[0m \u001b[0mnp\u001b[0m\u001b[0;34m.\u001b[0m\u001b[0mndarray\u001b[0m\u001b[0;34m:\u001b[0m\u001b[0;34m\u001b[0m\u001b[0;34m\u001b[0m\u001b[0m\n\u001b[0;32m-> 1781\u001b[0;31m         \u001b[0;32mreturn\u001b[0m \u001b[0mnp\u001b[0m\u001b[0;34m.\u001b[0m\u001b[0masarray\u001b[0m\u001b[0;34m(\u001b[0m\u001b[0mself\u001b[0m\u001b[0;34m.\u001b[0m\u001b[0m_values\u001b[0m\u001b[0;34m,\u001b[0m \u001b[0mdtype\u001b[0m\u001b[0;34m=\u001b[0m\u001b[0mdtype\u001b[0m\u001b[0;34m)\u001b[0m\u001b[0;34m\u001b[0m\u001b[0;34m\u001b[0m\u001b[0m\n\u001b[0m\u001b[1;32m   1782\u001b[0m \u001b[0;34m\u001b[0m\u001b[0m\n\u001b[1;32m   1783\u001b[0m     \u001b[0;32mdef\u001b[0m \u001b[0m__array_wrap__\u001b[0m\u001b[0;34m(\u001b[0m\u001b[0mself\u001b[0m\u001b[0;34m,\u001b[0m \u001b[0mresult\u001b[0m\u001b[0;34m,\u001b[0m \u001b[0mcontext\u001b[0m\u001b[0;34m=\u001b[0m\u001b[0;32mNone\u001b[0m\u001b[0;34m)\u001b[0m\u001b[0;34m:\u001b[0m\u001b[0;34m\u001b[0m\u001b[0;34m\u001b[0m\u001b[0m\n",
            "\u001b[0;32m/usr/local/lib/python3.7/dist-packages/numpy/core/_asarray.py\u001b[0m in \u001b[0;36masarray\u001b[0;34m(a, dtype, order)\u001b[0m\n\u001b[1;32m     81\u001b[0m \u001b[0;34m\u001b[0m\u001b[0m\n\u001b[1;32m     82\u001b[0m     \"\"\"\n\u001b[0;32m---> 83\u001b[0;31m     \u001b[0;32mreturn\u001b[0m \u001b[0marray\u001b[0m\u001b[0;34m(\u001b[0m\u001b[0ma\u001b[0m\u001b[0;34m,\u001b[0m \u001b[0mdtype\u001b[0m\u001b[0;34m,\u001b[0m \u001b[0mcopy\u001b[0m\u001b[0;34m=\u001b[0m\u001b[0;32mFalse\u001b[0m\u001b[0;34m,\u001b[0m \u001b[0morder\u001b[0m\u001b[0;34m=\u001b[0m\u001b[0morder\u001b[0m\u001b[0;34m)\u001b[0m\u001b[0;34m\u001b[0m\u001b[0;34m\u001b[0m\u001b[0m\n\u001b[0m\u001b[1;32m     84\u001b[0m \u001b[0;34m\u001b[0m\u001b[0m\n\u001b[1;32m     85\u001b[0m \u001b[0;34m\u001b[0m\u001b[0m\n",
            "\u001b[0;31mValueError\u001b[0m: could not convert string to float: '1st'"
          ]
        }
      ]
    },
    {
      "cell_type": "code",
      "metadata": {
        "id": "Y2tuvzzIHiDP"
      },
      "source": [
        ""
      ],
      "execution_count": null,
      "outputs": []
    },
    {
      "cell_type": "code",
      "metadata": {
        "id": "c1-JnKBuMtMi"
      },
      "source": [
        ""
      ],
      "execution_count": null,
      "outputs": []
    },
    {
      "cell_type": "code",
      "metadata": {
        "id": "mDjVboUlMtPy"
      },
      "source": [
        ""
      ],
      "execution_count": null,
      "outputs": []
    },
    {
      "cell_type": "markdown",
      "metadata": {
        "id": "Bmf5lTXFMuIc"
      },
      "source": [
        "#Assignment-11(DTC)"
      ]
    },
    {
      "cell_type": "code",
      "metadata": {
        "id": "Mj5RBpT1Mv63"
      },
      "source": [
        "import pandas as pd\n",
        "import numpy as np"
      ],
      "execution_count": null,
      "outputs": []
    },
    {
      "cell_type": "code",
      "metadata": {
        "id": "Hyzfli40MzXK"
      },
      "source": [
        "df=pd.read_csv(\"https://raw.githubusercontent.com/AbhiRoy96/Banknote-Authentication-UCI-Dataset/master/bank_notes.csv\",delimiter=',')"
      ],
      "execution_count": null,
      "outputs": []
    },
    {
      "cell_type": "code",
      "metadata": {
        "colab": {
          "base_uri": "https://localhost:8080/",
          "height": 423
        },
        "id": "spsYs8QMNmoy",
        "outputId": "1405cb5e-386f-4d06-d4e5-a69c5b014bdd"
      },
      "source": [
        "df"
      ],
      "execution_count": null,
      "outputs": [
        {
          "output_type": "execute_result",
          "data": {
            "text/html": [
              "<div>\n",
              "<style scoped>\n",
              "    .dataframe tbody tr th:only-of-type {\n",
              "        vertical-align: middle;\n",
              "    }\n",
              "\n",
              "    .dataframe tbody tr th {\n",
              "        vertical-align: top;\n",
              "    }\n",
              "\n",
              "    .dataframe thead th {\n",
              "        text-align: right;\n",
              "    }\n",
              "</style>\n",
              "<table border=\"1\" class=\"dataframe\">\n",
              "  <thead>\n",
              "    <tr style=\"text-align: right;\">\n",
              "      <th></th>\n",
              "      <th>variance</th>\n",
              "      <th>skewness</th>\n",
              "      <th>curtosis</th>\n",
              "      <th>entropy</th>\n",
              "      <th>Target</th>\n",
              "    </tr>\n",
              "  </thead>\n",
              "  <tbody>\n",
              "    <tr>\n",
              "      <th>0</th>\n",
              "      <td>3.62160</td>\n",
              "      <td>8.66610</td>\n",
              "      <td>-2.8073</td>\n",
              "      <td>-0.44699</td>\n",
              "      <td>0</td>\n",
              "    </tr>\n",
              "    <tr>\n",
              "      <th>1</th>\n",
              "      <td>4.54590</td>\n",
              "      <td>8.16740</td>\n",
              "      <td>-2.4586</td>\n",
              "      <td>-1.46210</td>\n",
              "      <td>0</td>\n",
              "    </tr>\n",
              "    <tr>\n",
              "      <th>2</th>\n",
              "      <td>3.86600</td>\n",
              "      <td>-2.63830</td>\n",
              "      <td>1.9242</td>\n",
              "      <td>0.10645</td>\n",
              "      <td>0</td>\n",
              "    </tr>\n",
              "    <tr>\n",
              "      <th>3</th>\n",
              "      <td>3.45660</td>\n",
              "      <td>9.52280</td>\n",
              "      <td>-4.0112</td>\n",
              "      <td>-3.59440</td>\n",
              "      <td>0</td>\n",
              "    </tr>\n",
              "    <tr>\n",
              "      <th>4</th>\n",
              "      <td>0.32924</td>\n",
              "      <td>-4.45520</td>\n",
              "      <td>4.5718</td>\n",
              "      <td>-0.98880</td>\n",
              "      <td>0</td>\n",
              "    </tr>\n",
              "    <tr>\n",
              "      <th>...</th>\n",
              "      <td>...</td>\n",
              "      <td>...</td>\n",
              "      <td>...</td>\n",
              "      <td>...</td>\n",
              "      <td>...</td>\n",
              "    </tr>\n",
              "    <tr>\n",
              "      <th>1367</th>\n",
              "      <td>0.40614</td>\n",
              "      <td>1.34920</td>\n",
              "      <td>-1.4501</td>\n",
              "      <td>-0.55949</td>\n",
              "      <td>1</td>\n",
              "    </tr>\n",
              "    <tr>\n",
              "      <th>1368</th>\n",
              "      <td>-1.38870</td>\n",
              "      <td>-4.87730</td>\n",
              "      <td>6.4774</td>\n",
              "      <td>0.34179</td>\n",
              "      <td>1</td>\n",
              "    </tr>\n",
              "    <tr>\n",
              "      <th>1369</th>\n",
              "      <td>-3.75030</td>\n",
              "      <td>-13.45860</td>\n",
              "      <td>17.5932</td>\n",
              "      <td>-2.77710</td>\n",
              "      <td>1</td>\n",
              "    </tr>\n",
              "    <tr>\n",
              "      <th>1370</th>\n",
              "      <td>-3.56370</td>\n",
              "      <td>-8.38270</td>\n",
              "      <td>12.3930</td>\n",
              "      <td>-1.28230</td>\n",
              "      <td>1</td>\n",
              "    </tr>\n",
              "    <tr>\n",
              "      <th>1371</th>\n",
              "      <td>-2.54190</td>\n",
              "      <td>-0.65804</td>\n",
              "      <td>2.6842</td>\n",
              "      <td>1.19520</td>\n",
              "      <td>1</td>\n",
              "    </tr>\n",
              "  </tbody>\n",
              "</table>\n",
              "<p>1372 rows × 5 columns</p>\n",
              "</div>"
            ],
            "text/plain": [
              "      variance  skewness  curtosis  entropy  Target\n",
              "0      3.62160   8.66610   -2.8073 -0.44699       0\n",
              "1      4.54590   8.16740   -2.4586 -1.46210       0\n",
              "2      3.86600  -2.63830    1.9242  0.10645       0\n",
              "3      3.45660   9.52280   -4.0112 -3.59440       0\n",
              "4      0.32924  -4.45520    4.5718 -0.98880       0\n",
              "...        ...       ...       ...      ...     ...\n",
              "1367   0.40614   1.34920   -1.4501 -0.55949       1\n",
              "1368  -1.38870  -4.87730    6.4774  0.34179       1\n",
              "1369  -3.75030 -13.45860   17.5932 -2.77710       1\n",
              "1370  -3.56370  -8.38270   12.3930 -1.28230       1\n",
              "1371  -2.54190  -0.65804    2.6842  1.19520       1\n",
              "\n",
              "[1372 rows x 5 columns]"
            ]
          },
          "metadata": {},
          "execution_count": 62
        }
      ]
    },
    {
      "cell_type": "code",
      "metadata": {
        "colab": {
          "base_uri": "https://localhost:8080/",
          "height": 423
        },
        "id": "x2BseuewObk0",
        "outputId": "88c04cf3-64b7-48ca-b6ee-d5daee51c068"
      },
      "source": [
        "X=df.iloc[:,0:4]\n",
        "X"
      ],
      "execution_count": null,
      "outputs": [
        {
          "output_type": "execute_result",
          "data": {
            "text/html": [
              "<div>\n",
              "<style scoped>\n",
              "    .dataframe tbody tr th:only-of-type {\n",
              "        vertical-align: middle;\n",
              "    }\n",
              "\n",
              "    .dataframe tbody tr th {\n",
              "        vertical-align: top;\n",
              "    }\n",
              "\n",
              "    .dataframe thead th {\n",
              "        text-align: right;\n",
              "    }\n",
              "</style>\n",
              "<table border=\"1\" class=\"dataframe\">\n",
              "  <thead>\n",
              "    <tr style=\"text-align: right;\">\n",
              "      <th></th>\n",
              "      <th>variance</th>\n",
              "      <th>skewness</th>\n",
              "      <th>curtosis</th>\n",
              "      <th>entropy</th>\n",
              "    </tr>\n",
              "  </thead>\n",
              "  <tbody>\n",
              "    <tr>\n",
              "      <th>0</th>\n",
              "      <td>3.62160</td>\n",
              "      <td>8.66610</td>\n",
              "      <td>-2.8073</td>\n",
              "      <td>-0.44699</td>\n",
              "    </tr>\n",
              "    <tr>\n",
              "      <th>1</th>\n",
              "      <td>4.54590</td>\n",
              "      <td>8.16740</td>\n",
              "      <td>-2.4586</td>\n",
              "      <td>-1.46210</td>\n",
              "    </tr>\n",
              "    <tr>\n",
              "      <th>2</th>\n",
              "      <td>3.86600</td>\n",
              "      <td>-2.63830</td>\n",
              "      <td>1.9242</td>\n",
              "      <td>0.10645</td>\n",
              "    </tr>\n",
              "    <tr>\n",
              "      <th>3</th>\n",
              "      <td>3.45660</td>\n",
              "      <td>9.52280</td>\n",
              "      <td>-4.0112</td>\n",
              "      <td>-3.59440</td>\n",
              "    </tr>\n",
              "    <tr>\n",
              "      <th>4</th>\n",
              "      <td>0.32924</td>\n",
              "      <td>-4.45520</td>\n",
              "      <td>4.5718</td>\n",
              "      <td>-0.98880</td>\n",
              "    </tr>\n",
              "    <tr>\n",
              "      <th>...</th>\n",
              "      <td>...</td>\n",
              "      <td>...</td>\n",
              "      <td>...</td>\n",
              "      <td>...</td>\n",
              "    </tr>\n",
              "    <tr>\n",
              "      <th>1367</th>\n",
              "      <td>0.40614</td>\n",
              "      <td>1.34920</td>\n",
              "      <td>-1.4501</td>\n",
              "      <td>-0.55949</td>\n",
              "    </tr>\n",
              "    <tr>\n",
              "      <th>1368</th>\n",
              "      <td>-1.38870</td>\n",
              "      <td>-4.87730</td>\n",
              "      <td>6.4774</td>\n",
              "      <td>0.34179</td>\n",
              "    </tr>\n",
              "    <tr>\n",
              "      <th>1369</th>\n",
              "      <td>-3.75030</td>\n",
              "      <td>-13.45860</td>\n",
              "      <td>17.5932</td>\n",
              "      <td>-2.77710</td>\n",
              "    </tr>\n",
              "    <tr>\n",
              "      <th>1370</th>\n",
              "      <td>-3.56370</td>\n",
              "      <td>-8.38270</td>\n",
              "      <td>12.3930</td>\n",
              "      <td>-1.28230</td>\n",
              "    </tr>\n",
              "    <tr>\n",
              "      <th>1371</th>\n",
              "      <td>-2.54190</td>\n",
              "      <td>-0.65804</td>\n",
              "      <td>2.6842</td>\n",
              "      <td>1.19520</td>\n",
              "    </tr>\n",
              "  </tbody>\n",
              "</table>\n",
              "<p>1372 rows × 4 columns</p>\n",
              "</div>"
            ],
            "text/plain": [
              "      variance  skewness  curtosis  entropy\n",
              "0      3.62160   8.66610   -2.8073 -0.44699\n",
              "1      4.54590   8.16740   -2.4586 -1.46210\n",
              "2      3.86600  -2.63830    1.9242  0.10645\n",
              "3      3.45660   9.52280   -4.0112 -3.59440\n",
              "4      0.32924  -4.45520    4.5718 -0.98880\n",
              "...        ...       ...       ...      ...\n",
              "1367   0.40614   1.34920   -1.4501 -0.55949\n",
              "1368  -1.38870  -4.87730    6.4774  0.34179\n",
              "1369  -3.75030 -13.45860   17.5932 -2.77710\n",
              "1370  -3.56370  -8.38270   12.3930 -1.28230\n",
              "1371  -2.54190  -0.65804    2.6842  1.19520\n",
              "\n",
              "[1372 rows x 4 columns]"
            ]
          },
          "metadata": {},
          "execution_count": 63
        }
      ]
    },
    {
      "cell_type": "code",
      "metadata": {
        "colab": {
          "base_uri": "https://localhost:8080/"
        },
        "id": "GoaGP_Y4PAMA",
        "outputId": "5176e892-9347-49f5-c7bc-191ac1fde4af"
      },
      "source": [
        "Y=df.iloc[:,-1]\n",
        "Y"
      ],
      "execution_count": null,
      "outputs": [
        {
          "output_type": "execute_result",
          "data": {
            "text/plain": [
              "0       0\n",
              "1       0\n",
              "2       0\n",
              "3       0\n",
              "4       0\n",
              "       ..\n",
              "1367    1\n",
              "1368    1\n",
              "1369    1\n",
              "1370    1\n",
              "1371    1\n",
              "Name: Target, Length: 1372, dtype: int64"
            ]
          },
          "metadata": {},
          "execution_count": 64
        }
      ]
    },
    {
      "cell_type": "code",
      "metadata": {
        "id": "CZTO22c7PDzO"
      },
      "source": [
        "from sklearn.tree import DecisionTreeClassifier\n",
        "from sklearn.model_selection import train_test_split"
      ],
      "execution_count": null,
      "outputs": []
    },
    {
      "cell_type": "code",
      "metadata": {
        "id": "33y5CgPqPdXt"
      },
      "source": [
        "xtrain,xtest,ytrain,ytest = train_test_split(X,Y,test_size=0.3,random_state=0)"
      ],
      "execution_count": null,
      "outputs": []
    },
    {
      "cell_type": "code",
      "metadata": {
        "colab": {
          "base_uri": "https://localhost:8080/"
        },
        "id": "LAWJUabTPlqv",
        "outputId": "f7ea4fdc-7c78-4e25-fa7c-ff408534202d"
      },
      "source": [
        "obj=DecisionTreeClassifier(criterion=\"gini\",max_depth=3).fit(xtrain,ytrain)\n",
        "y_pred=obj.predict(xtest)\n",
        "y_pred"
      ],
      "execution_count": null,
      "outputs": [
        {
          "output_type": "execute_result",
          "data": {
            "text/plain": [
              "array([1, 0, 1, 0, 0, 0, 0, 0, 1, 1, 0, 0, 1, 0, 0, 0, 1, 1, 0, 0, 1, 0,\n",
              "       0, 1, 0, 1, 0, 1, 0, 0, 1, 0, 1, 1, 1, 0, 0, 1, 1, 1, 0, 1, 0, 0,\n",
              "       1, 1, 0, 0, 1, 0, 0, 1, 1, 1, 1, 0, 1, 1, 0, 1, 1, 0, 0, 0, 0, 1,\n",
              "       1, 1, 0, 0, 0, 0, 1, 0, 0, 1, 0, 0, 0, 0, 1, 1, 0, 0, 1, 1, 0, 0,\n",
              "       0, 0, 0, 1, 1, 0, 1, 0, 0, 0, 1, 1, 0, 1, 0, 0, 0, 1, 0, 1, 1, 1,\n",
              "       0, 1, 0, 0, 1, 0, 0, 0, 1, 1, 0, 0, 1, 1, 0, 1, 1, 0, 0, 0, 0, 0,\n",
              "       0, 0, 0, 1, 0, 0, 0, 0, 1, 0, 1, 1, 0, 0, 0, 0, 0, 1, 0, 0, 0, 0,\n",
              "       1, 0, 0, 0, 1, 1, 0, 1, 0, 1, 0, 1, 1, 0, 1, 1, 0, 1, 1, 0, 1, 0,\n",
              "       0, 0, 1, 0, 0, 1, 1, 0, 0, 1, 0, 1, 1, 0, 0, 0, 0, 0, 1, 0, 0, 0,\n",
              "       1, 1, 0, 0, 0, 0, 0, 0, 0, 0, 0, 0, 0, 1, 0, 0, 0, 1, 1, 0, 0, 0,\n",
              "       0, 0, 0, 0, 0, 1, 0, 0, 1, 0, 0, 1, 1, 0, 1, 1, 0, 0, 1, 1, 0, 1,\n",
              "       1, 0, 1, 0, 0, 0, 0, 0, 1, 1, 1, 1, 1, 0, 0, 1, 1, 0, 0, 0, 0, 1,\n",
              "       0, 0, 1, 0, 0, 1, 1, 0, 1, 0, 1, 1, 1, 1, 0, 0, 1, 1, 1, 0, 0, 0,\n",
              "       0, 0, 0, 1, 1, 0, 0, 1, 0, 0, 0, 0, 1, 0, 0, 1, 0, 1, 1, 1, 0, 0,\n",
              "       0, 0, 0, 0, 1, 0, 0, 1, 1, 1, 0, 0, 0, 0, 1, 0, 0, 1, 0, 1, 1, 0,\n",
              "       0, 0, 1, 0, 0, 1, 0, 0, 1, 0, 0, 0, 0, 0, 0, 1, 0, 1, 0, 1, 1, 0,\n",
              "       1, 0, 1, 1, 1, 1, 1, 0, 0, 1, 0, 0, 1, 1, 1, 1, 0, 0, 1, 0, 0, 0,\n",
              "       1, 0, 1, 0, 0, 1, 1, 0, 1, 0, 0, 0, 1, 1, 1, 0, 0, 1, 0, 0, 0, 1,\n",
              "       1, 0, 0, 1, 0, 0, 1, 0, 1, 0, 0, 0, 0, 1, 1, 0])"
            ]
          },
          "metadata": {},
          "execution_count": 68
        }
      ]
    },
    {
      "cell_type": "code",
      "metadata": {
        "colab": {
          "base_uri": "https://localhost:8080/"
        },
        "id": "aIjAVXfUP5Fd",
        "outputId": "83f47b35-dd98-4f72-9c88-40913ea7685c"
      },
      "source": [
        "from sklearn import metrics \n",
        "print(\"Accuracy:\",metrics.accuracy_score(ytest, y_pred)*100,\"%\")"
      ],
      "execution_count": null,
      "outputs": [
        {
          "output_type": "stream",
          "name": "stdout",
          "text": [
            "Accuracy: 92.47572815533981 %\n"
          ]
        }
      ]
    },
    {
      "cell_type": "code",
      "metadata": {
        "colab": {
          "base_uri": "https://localhost:8080/"
        },
        "id": "F5xd7QcwRADm",
        "outputId": "6f208962-738d-44b9-f995-2c475ddccbf7"
      },
      "source": [
        "feature_cols=df.columns\n",
        "feature_cols=feature_cols[0:4]\n",
        "feature_cols"
      ],
      "execution_count": null,
      "outputs": [
        {
          "output_type": "execute_result",
          "data": {
            "text/plain": [
              "Index(['variance', 'skewness', 'curtosis', 'entropy'], dtype='object')"
            ]
          },
          "metadata": {},
          "execution_count": 74
        }
      ]
    },
    {
      "cell_type": "code",
      "metadata": {
        "colab": {
          "base_uri": "https://localhost:8080/",
          "height": 599
        },
        "id": "PG-oATTfQH9T",
        "outputId": "af5e779d-6238-4995-e1c4-9c9db20682f3"
      },
      "source": [
        "from sklearn import tree\n",
        "import graphviz\n",
        "dot_data = tree.export_graphviz(obj, out_file=None,feature_names=feature_cols,class_names=['0','1'],filled=True)\n",
        "graph = graphviz.Source(dot_data, format=\"png\") \n",
        "graph"
      ],
      "execution_count": null,
      "outputs": [
        {
          "output_type": "execute_result",
          "data": {
            "text/plain": [
              "<graphviz.files.Source at 0x7f42d9c00510>"
            ],
            "image/svg+xml": "<?xml version=\"1.0\" encoding=\"UTF-8\" standalone=\"no\"?>\n<!DOCTYPE svg PUBLIC \"-//W3C//DTD SVG 1.1//EN\"\n \"http://www.w3.org/Graphics/SVG/1.1/DTD/svg11.dtd\">\n<!-- Generated by graphviz version 2.40.1 (20161225.0304)\n -->\n<!-- Title: Tree Pages: 1 -->\n<svg width=\"1019pt\" height=\"433pt\"\n viewBox=\"0.00 0.00 1019.00 433.00\" xmlns=\"http://www.w3.org/2000/svg\" xmlns:xlink=\"http://www.w3.org/1999/xlink\">\n<g id=\"graph0\" class=\"graph\" transform=\"scale(1 1) rotate(0) translate(4 429)\">\n<title>Tree</title>\n<polygon fill=\"#ffffff\" stroke=\"transparent\" points=\"-4,4 -4,-429 1015,-429 1015,4 -4,4\"/>\n<!-- 0 -->\n<g id=\"node1\" class=\"node\">\n<title>0</title>\n<polygon fill=\"#fae7da\" stroke=\"#000000\" points=\"558.5,-425 425.5,-425 425.5,-342 558.5,-342 558.5,-425\"/>\n<text text-anchor=\"middle\" x=\"492\" y=\"-409.8\" font-family=\"Helvetica,sans-Serif\" font-size=\"14.00\" fill=\"#000000\">variance &lt;= 0.274</text>\n<text text-anchor=\"middle\" x=\"492\" y=\"-394.8\" font-family=\"Helvetica,sans-Serif\" font-size=\"14.00\" fill=\"#000000\">gini = 0.495</text>\n<text text-anchor=\"middle\" x=\"492\" y=\"-379.8\" font-family=\"Helvetica,sans-Serif\" font-size=\"14.00\" fill=\"#000000\">samples = 960</text>\n<text text-anchor=\"middle\" x=\"492\" y=\"-364.8\" font-family=\"Helvetica,sans-Serif\" font-size=\"14.00\" fill=\"#000000\">value = [530, 430]</text>\n<text text-anchor=\"middle\" x=\"492\" y=\"-349.8\" font-family=\"Helvetica,sans-Serif\" font-size=\"14.00\" fill=\"#000000\">class = 0</text>\n</g>\n<!-- 1 -->\n<g id=\"node2\" class=\"node\">\n<title>1</title>\n<polygon fill=\"#66b3eb\" stroke=\"#000000\" points=\"484.5,-306 341.5,-306 341.5,-223 484.5,-223 484.5,-306\"/>\n<text text-anchor=\"middle\" x=\"413\" y=\"-290.8\" font-family=\"Helvetica,sans-Serif\" font-size=\"14.00\" fill=\"#000000\">skewness &lt;= 5.865</text>\n<text text-anchor=\"middle\" x=\"413\" y=\"-275.8\" font-family=\"Helvetica,sans-Serif\" font-size=\"14.00\" fill=\"#000000\">gini = 0.301</text>\n<text text-anchor=\"middle\" x=\"413\" y=\"-260.8\" font-family=\"Helvetica,sans-Serif\" font-size=\"14.00\" fill=\"#000000\">samples = 460</text>\n<text text-anchor=\"middle\" x=\"413\" y=\"-245.8\" font-family=\"Helvetica,sans-Serif\" font-size=\"14.00\" fill=\"#000000\">value = [85, 375]</text>\n<text text-anchor=\"middle\" x=\"413\" y=\"-230.8\" font-family=\"Helvetica,sans-Serif\" font-size=\"14.00\" fill=\"#000000\">class = 1</text>\n</g>\n<!-- 0&#45;&gt;1 -->\n<g id=\"edge1\" class=\"edge\">\n<title>0&#45;&gt;1</title>\n<path fill=\"none\" stroke=\"#000000\" d=\"M464.3696,-341.8796C458.57,-333.1434 452.3941,-323.8404 446.4092,-314.8253\"/>\n<polygon fill=\"#000000\" stroke=\"#000000\" points=\"449.1951,-312.6935 440.7483,-306.2981 443.3632,-316.5652 449.1951,-312.6935\"/>\n<text text-anchor=\"middle\" x=\"435.7978\" y=\"-327.103\" font-family=\"Helvetica,sans-Serif\" font-size=\"14.00\" fill=\"#000000\">True</text>\n</g>\n<!-- 8 -->\n<g id=\"node9\" class=\"node\">\n<title>8</title>\n<polygon fill=\"#e89151\" stroke=\"#000000\" points=\"672,-306 540,-306 540,-223 672,-223 672,-306\"/>\n<text text-anchor=\"middle\" x=\"606\" y=\"-290.8\" font-family=\"Helvetica,sans-Serif\" font-size=\"14.00\" fill=\"#000000\">curtosis &lt;= &#45;4.691</text>\n<text text-anchor=\"middle\" x=\"606\" y=\"-275.8\" font-family=\"Helvetica,sans-Serif\" font-size=\"14.00\" fill=\"#000000\">gini = 0.196</text>\n<text text-anchor=\"middle\" x=\"606\" y=\"-260.8\" font-family=\"Helvetica,sans-Serif\" font-size=\"14.00\" fill=\"#000000\">samples = 500</text>\n<text text-anchor=\"middle\" x=\"606\" y=\"-245.8\" font-family=\"Helvetica,sans-Serif\" font-size=\"14.00\" fill=\"#000000\">value = [445, 55]</text>\n<text text-anchor=\"middle\" x=\"606\" y=\"-230.8\" font-family=\"Helvetica,sans-Serif\" font-size=\"14.00\" fill=\"#000000\">class = 0</text>\n</g>\n<!-- 0&#45;&gt;8 -->\n<g id=\"edge8\" class=\"edge\">\n<title>0&#45;&gt;8</title>\n<path fill=\"none\" stroke=\"#000000\" d=\"M531.8717,-341.8796C540.5858,-332.7832 549.8888,-323.0722 558.8562,-313.7116\"/>\n<polygon fill=\"#000000\" stroke=\"#000000\" points=\"561.5678,-315.9405 565.9581,-306.2981 556.513,-311.098 561.5678,-315.9405\"/>\n<text text-anchor=\"middle\" x=\"566.4945\" y=\"-327.5923\" font-family=\"Helvetica,sans-Serif\" font-size=\"14.00\" fill=\"#000000\">False</text>\n</g>\n<!-- 2 -->\n<g id=\"node3\" class=\"node\">\n<title>2</title>\n<polygon fill=\"#44a2e6\" stroke=\"#000000\" points=\"256,-187 128,-187 128,-104 256,-104 256,-187\"/>\n<text text-anchor=\"middle\" x=\"192\" y=\"-171.8\" font-family=\"Helvetica,sans-Serif\" font-size=\"14.00\" fill=\"#000000\">curtosis &lt;= 6.746</text>\n<text text-anchor=\"middle\" x=\"192\" y=\"-156.8\" font-family=\"Helvetica,sans-Serif\" font-size=\"14.00\" fill=\"#000000\">gini = 0.099</text>\n<text text-anchor=\"middle\" x=\"192\" y=\"-141.8\" font-family=\"Helvetica,sans-Serif\" font-size=\"14.00\" fill=\"#000000\">samples = 365</text>\n<text text-anchor=\"middle\" x=\"192\" y=\"-126.8\" font-family=\"Helvetica,sans-Serif\" font-size=\"14.00\" fill=\"#000000\">value = [19, 346]</text>\n<text text-anchor=\"middle\" x=\"192\" y=\"-111.8\" font-family=\"Helvetica,sans-Serif\" font-size=\"14.00\" fill=\"#000000\">class = 1</text>\n</g>\n<!-- 1&#45;&gt;2 -->\n<g id=\"edge2\" class=\"edge\">\n<title>1&#45;&gt;2</title>\n<path fill=\"none\" stroke=\"#000000\" d=\"M341.2476,-225.8641C316.8892,-212.748 289.6544,-198.0831 265.1855,-184.9076\"/>\n<polygon fill=\"#000000\" stroke=\"#000000\" points=\"266.7704,-181.7858 256.3063,-180.1264 263.4516,-187.9492 266.7704,-181.7858\"/>\n</g>\n<!-- 5 -->\n<g id=\"node6\" class=\"node\">\n<title>5</title>\n<polygon fill=\"#f0b890\" stroke=\"#000000\" points=\"481.5,-187 344.5,-187 344.5,-104 481.5,-104 481.5,-187\"/>\n<text text-anchor=\"middle\" x=\"413\" y=\"-171.8\" font-family=\"Helvetica,sans-Serif\" font-size=\"14.00\" fill=\"#000000\">variance &lt;= &#45;3.445</text>\n<text text-anchor=\"middle\" x=\"413\" y=\"-156.8\" font-family=\"Helvetica,sans-Serif\" font-size=\"14.00\" fill=\"#000000\">gini = 0.424</text>\n<text text-anchor=\"middle\" x=\"413\" y=\"-141.8\" font-family=\"Helvetica,sans-Serif\" font-size=\"14.00\" fill=\"#000000\">samples = 95</text>\n<text text-anchor=\"middle\" x=\"413\" y=\"-126.8\" font-family=\"Helvetica,sans-Serif\" font-size=\"14.00\" fill=\"#000000\">value = [66, 29]</text>\n<text text-anchor=\"middle\" x=\"413\" y=\"-111.8\" font-family=\"Helvetica,sans-Serif\" font-size=\"14.00\" fill=\"#000000\">class = 0</text>\n</g>\n<!-- 1&#45;&gt;5 -->\n<g id=\"edge5\" class=\"edge\">\n<title>1&#45;&gt;5</title>\n<path fill=\"none\" stroke=\"#000000\" d=\"M413,-222.8796C413,-214.6838 413,-205.9891 413,-197.5013\"/>\n<polygon fill=\"#000000\" stroke=\"#000000\" points=\"416.5001,-197.298 413,-187.2981 409.5001,-197.2981 416.5001,-197.298\"/>\n</g>\n<!-- 3 -->\n<g id=\"node4\" class=\"node\">\n<title>3</title>\n<polygon fill=\"#3a9de5\" stroke=\"#000000\" points=\"116,-68 0,-68 0,0 116,0 116,-68\"/>\n<text text-anchor=\"middle\" x=\"58\" y=\"-52.8\" font-family=\"Helvetica,sans-Serif\" font-size=\"14.00\" fill=\"#000000\">gini = 0.007</text>\n<text text-anchor=\"middle\" x=\"58\" y=\"-37.8\" font-family=\"Helvetica,sans-Serif\" font-size=\"14.00\" fill=\"#000000\">samples = 266</text>\n<text text-anchor=\"middle\" x=\"58\" y=\"-22.8\" font-family=\"Helvetica,sans-Serif\" font-size=\"14.00\" fill=\"#000000\">value = [1, 265]</text>\n<text text-anchor=\"middle\" x=\"58\" y=\"-7.8\" font-family=\"Helvetica,sans-Serif\" font-size=\"14.00\" fill=\"#000000\">class = 1</text>\n</g>\n<!-- 2&#45;&gt;3 -->\n<g id=\"edge3\" class=\"edge\">\n<title>2&#45;&gt;3</title>\n<path fill=\"none\" stroke=\"#000000\" d=\"M142.1033,-103.9815C130.6162,-94.4232 118.4103,-84.2668 106.9633,-74.7419\"/>\n<polygon fill=\"#000000\" stroke=\"#000000\" points=\"109.1035,-71.9695 99.1779,-68.2637 104.6261,-77.3503 109.1035,-71.9695\"/>\n</g>\n<!-- 4 -->\n<g id=\"node5\" class=\"node\">\n<title>4</title>\n<polygon fill=\"#65b3eb\" stroke=\"#000000\" points=\"250,-68 134,-68 134,0 250,0 250,-68\"/>\n<text text-anchor=\"middle\" x=\"192\" y=\"-52.8\" font-family=\"Helvetica,sans-Serif\" font-size=\"14.00\" fill=\"#000000\">gini = 0.298</text>\n<text text-anchor=\"middle\" x=\"192\" y=\"-37.8\" font-family=\"Helvetica,sans-Serif\" font-size=\"14.00\" fill=\"#000000\">samples = 99</text>\n<text text-anchor=\"middle\" x=\"192\" y=\"-22.8\" font-family=\"Helvetica,sans-Serif\" font-size=\"14.00\" fill=\"#000000\">value = [18, 81]</text>\n<text text-anchor=\"middle\" x=\"192\" y=\"-7.8\" font-family=\"Helvetica,sans-Serif\" font-size=\"14.00\" fill=\"#000000\">class = 1</text>\n</g>\n<!-- 2&#45;&gt;4 -->\n<g id=\"edge4\" class=\"edge\">\n<title>2&#45;&gt;4</title>\n<path fill=\"none\" stroke=\"#000000\" d=\"M192,-103.9815C192,-95.618 192,-86.7965 192,-78.3409\"/>\n<polygon fill=\"#000000\" stroke=\"#000000\" points=\"195.5001,-78.2636 192,-68.2637 188.5001,-78.2637 195.5001,-78.2636\"/>\n</g>\n<!-- 6 -->\n<g id=\"node7\" class=\"node\">\n<title>6</title>\n<polygon fill=\"#399de5\" stroke=\"#000000\" points=\"375.5,-68 268.5,-68 268.5,0 375.5,0 375.5,-68\"/>\n<text text-anchor=\"middle\" x=\"322\" y=\"-52.8\" font-family=\"Helvetica,sans-Serif\" font-size=\"14.00\" fill=\"#000000\">gini = 0.0</text>\n<text text-anchor=\"middle\" x=\"322\" y=\"-37.8\" font-family=\"Helvetica,sans-Serif\" font-size=\"14.00\" fill=\"#000000\">samples = 29</text>\n<text text-anchor=\"middle\" x=\"322\" y=\"-22.8\" font-family=\"Helvetica,sans-Serif\" font-size=\"14.00\" fill=\"#000000\">value = [0, 29]</text>\n<text text-anchor=\"middle\" x=\"322\" y=\"-7.8\" font-family=\"Helvetica,sans-Serif\" font-size=\"14.00\" fill=\"#000000\">class = 1</text>\n</g>\n<!-- 5&#45;&gt;6 -->\n<g id=\"edge6\" class=\"edge\">\n<title>5&#45;&gt;6</title>\n<path fill=\"none\" stroke=\"#000000\" d=\"M379.115,-103.9815C371.6891,-94.8828 363.8208,-85.242 356.3759,-76.1199\"/>\n<polygon fill=\"#000000\" stroke=\"#000000\" points=\"358.9986,-73.798 349.9641,-68.2637 353.5755,-78.224 358.9986,-73.798\"/>\n</g>\n<!-- 7 -->\n<g id=\"node8\" class=\"node\">\n<title>7</title>\n<polygon fill=\"#e58139\" stroke=\"#000000\" points=\"500.5,-68 393.5,-68 393.5,0 500.5,0 500.5,-68\"/>\n<text text-anchor=\"middle\" x=\"447\" y=\"-52.8\" font-family=\"Helvetica,sans-Serif\" font-size=\"14.00\" fill=\"#000000\">gini = 0.0</text>\n<text text-anchor=\"middle\" x=\"447\" y=\"-37.8\" font-family=\"Helvetica,sans-Serif\" font-size=\"14.00\" fill=\"#000000\">samples = 66</text>\n<text text-anchor=\"middle\" x=\"447\" y=\"-22.8\" font-family=\"Helvetica,sans-Serif\" font-size=\"14.00\" fill=\"#000000\">value = [66, 0]</text>\n<text text-anchor=\"middle\" x=\"447\" y=\"-7.8\" font-family=\"Helvetica,sans-Serif\" font-size=\"14.00\" fill=\"#000000\">class = 0</text>\n</g>\n<!-- 5&#45;&gt;7 -->\n<g id=\"edge7\" class=\"edge\">\n<title>5&#45;&gt;7</title>\n<path fill=\"none\" stroke=\"#000000\" d=\"M425.6603,-103.9815C428.2387,-95.5261 430.9597,-86.6026 433.564,-78.0623\"/>\n<polygon fill=\"#000000\" stroke=\"#000000\" points=\"436.9829,-78.8497 436.5519,-68.2637 430.2873,-76.808 436.9829,-78.8497\"/>\n</g>\n<!-- 9 -->\n<g id=\"node10\" class=\"node\">\n<title>9</title>\n<polygon fill=\"#57ace9\" stroke=\"#000000\" points=\"677.5,-187 534.5,-187 534.5,-104 677.5,-104 677.5,-187\"/>\n<text text-anchor=\"middle\" x=\"606\" y=\"-171.8\" font-family=\"Helvetica,sans-Serif\" font-size=\"14.00\" fill=\"#000000\">skewness &lt;= 7.331</text>\n<text text-anchor=\"middle\" x=\"606\" y=\"-156.8\" font-family=\"Helvetica,sans-Serif\" font-size=\"14.00\" fill=\"#000000\">gini = 0.227</text>\n<text text-anchor=\"middle\" x=\"606\" y=\"-141.8\" font-family=\"Helvetica,sans-Serif\" font-size=\"14.00\" fill=\"#000000\">samples = 23</text>\n<text text-anchor=\"middle\" x=\"606\" y=\"-126.8\" font-family=\"Helvetica,sans-Serif\" font-size=\"14.00\" fill=\"#000000\">value = [3, 20]</text>\n<text text-anchor=\"middle\" x=\"606\" y=\"-111.8\" font-family=\"Helvetica,sans-Serif\" font-size=\"14.00\" fill=\"#000000\">class = 1</text>\n</g>\n<!-- 8&#45;&gt;9 -->\n<g id=\"edge9\" class=\"edge\">\n<title>8&#45;&gt;9</title>\n<path fill=\"none\" stroke=\"#000000\" d=\"M606,-222.8796C606,-214.6838 606,-205.9891 606,-197.5013\"/>\n<polygon fill=\"#000000\" stroke=\"#000000\" points=\"609.5001,-197.298 606,-187.2981 602.5001,-197.2981 609.5001,-197.298\"/>\n</g>\n<!-- 12 -->\n<g id=\"node13\" class=\"node\">\n<title>12</title>\n<polygon fill=\"#e78b49\" stroke=\"#000000\" points=\"885.5,-187 752.5,-187 752.5,-104 885.5,-104 885.5,-187\"/>\n<text text-anchor=\"middle\" x=\"819\" y=\"-171.8\" font-family=\"Helvetica,sans-Serif\" font-size=\"14.00\" fill=\"#000000\">variance &lt;= 1.565</text>\n<text text-anchor=\"middle\" x=\"819\" y=\"-156.8\" font-family=\"Helvetica,sans-Serif\" font-size=\"14.00\" fill=\"#000000\">gini = 0.136</text>\n<text text-anchor=\"middle\" x=\"819\" y=\"-141.8\" font-family=\"Helvetica,sans-Serif\" font-size=\"14.00\" fill=\"#000000\">samples = 477</text>\n<text text-anchor=\"middle\" x=\"819\" y=\"-126.8\" font-family=\"Helvetica,sans-Serif\" font-size=\"14.00\" fill=\"#000000\">value = [442, 35]</text>\n<text text-anchor=\"middle\" x=\"819\" y=\"-111.8\" font-family=\"Helvetica,sans-Serif\" font-size=\"14.00\" fill=\"#000000\">class = 0</text>\n</g>\n<!-- 8&#45;&gt;12 -->\n<g id=\"edge12\" class=\"edge\">\n<title>8&#45;&gt;12</title>\n<path fill=\"none\" stroke=\"#000000\" d=\"M672.227,-227.5C694.8592,-214.8557 720.337,-200.6216 743.6353,-187.6051\"/>\n<polygon fill=\"#000000\" stroke=\"#000000\" points=\"745.4246,-190.6148 752.4474,-182.6819 742.0104,-184.5038 745.4246,-190.6148\"/>\n</g>\n<!-- 10 -->\n<g id=\"node11\" class=\"node\">\n<title>10</title>\n<polygon fill=\"#399de5\" stroke=\"#000000\" points=\"625.5,-68 518.5,-68 518.5,0 625.5,0 625.5,-68\"/>\n<text text-anchor=\"middle\" x=\"572\" y=\"-52.8\" font-family=\"Helvetica,sans-Serif\" font-size=\"14.00\" fill=\"#000000\">gini = 0.0</text>\n<text text-anchor=\"middle\" x=\"572\" y=\"-37.8\" font-family=\"Helvetica,sans-Serif\" font-size=\"14.00\" fill=\"#000000\">samples = 20</text>\n<text text-anchor=\"middle\" x=\"572\" y=\"-22.8\" font-family=\"Helvetica,sans-Serif\" font-size=\"14.00\" fill=\"#000000\">value = [0, 20]</text>\n<text text-anchor=\"middle\" x=\"572\" y=\"-7.8\" font-family=\"Helvetica,sans-Serif\" font-size=\"14.00\" fill=\"#000000\">class = 1</text>\n</g>\n<!-- 9&#45;&gt;10 -->\n<g id=\"edge10\" class=\"edge\">\n<title>9&#45;&gt;10</title>\n<path fill=\"none\" stroke=\"#000000\" d=\"M593.3397,-103.9815C590.7613,-95.5261 588.0403,-86.6026 585.436,-78.0623\"/>\n<polygon fill=\"#000000\" stroke=\"#000000\" points=\"588.7127,-76.808 582.4481,-68.2637 582.0171,-78.8497 588.7127,-76.808\"/>\n</g>\n<!-- 11 -->\n<g id=\"node12\" class=\"node\">\n<title>11</title>\n<polygon fill=\"#e58139\" stroke=\"#000000\" points=\"742.5,-68 643.5,-68 643.5,0 742.5,0 742.5,-68\"/>\n<text text-anchor=\"middle\" x=\"693\" y=\"-52.8\" font-family=\"Helvetica,sans-Serif\" font-size=\"14.00\" fill=\"#000000\">gini = 0.0</text>\n<text text-anchor=\"middle\" x=\"693\" y=\"-37.8\" font-family=\"Helvetica,sans-Serif\" font-size=\"14.00\" fill=\"#000000\">samples = 3</text>\n<text text-anchor=\"middle\" x=\"693\" y=\"-22.8\" font-family=\"Helvetica,sans-Serif\" font-size=\"14.00\" fill=\"#000000\">value = [3, 0]</text>\n<text text-anchor=\"middle\" x=\"693\" y=\"-7.8\" font-family=\"Helvetica,sans-Serif\" font-size=\"14.00\" fill=\"#000000\">class = 0</text>\n</g>\n<!-- 9&#45;&gt;11 -->\n<g id=\"edge11\" class=\"edge\">\n<title>9&#45;&gt;11</title>\n<path fill=\"none\" stroke=\"#000000\" d=\"M638.3956,-103.9815C645.4234,-94.9747 652.8655,-85.4367 659.9193,-76.3965\"/>\n<polygon fill=\"#000000\" stroke=\"#000000\" points=\"662.8728,-78.3008 666.2651,-68.2637 657.354,-73.9946 662.8728,-78.3008\"/>\n</g>\n<!-- 13 -->\n<g id=\"node14\" class=\"node\">\n<title>13</title>\n<polygon fill=\"#edaa79\" stroke=\"#000000\" points=\"877,-68 761,-68 761,0 877,0 877,-68\"/>\n<text text-anchor=\"middle\" x=\"819\" y=\"-52.8\" font-family=\"Helvetica,sans-Serif\" font-size=\"14.00\" fill=\"#000000\">gini = 0.369</text>\n<text text-anchor=\"middle\" x=\"819\" y=\"-37.8\" font-family=\"Helvetica,sans-Serif\" font-size=\"14.00\" fill=\"#000000\">samples = 131</text>\n<text text-anchor=\"middle\" x=\"819\" y=\"-22.8\" font-family=\"Helvetica,sans-Serif\" font-size=\"14.00\" fill=\"#000000\">value = [99, 32]</text>\n<text text-anchor=\"middle\" x=\"819\" y=\"-7.8\" font-family=\"Helvetica,sans-Serif\" font-size=\"14.00\" fill=\"#000000\">class = 0</text>\n</g>\n<!-- 12&#45;&gt;13 -->\n<g id=\"edge13\" class=\"edge\">\n<title>12&#45;&gt;13</title>\n<path fill=\"none\" stroke=\"#000000\" d=\"M819,-103.9815C819,-95.618 819,-86.7965 819,-78.3409\"/>\n<polygon fill=\"#000000\" stroke=\"#000000\" points=\"822.5001,-78.2636 819,-68.2637 815.5001,-78.2637 822.5001,-78.2636\"/>\n</g>\n<!-- 14 -->\n<g id=\"node15\" class=\"node\">\n<title>14</title>\n<polygon fill=\"#e5823b\" stroke=\"#000000\" points=\"1011,-68 895,-68 895,0 1011,0 1011,-68\"/>\n<text text-anchor=\"middle\" x=\"953\" y=\"-52.8\" font-family=\"Helvetica,sans-Serif\" font-size=\"14.00\" fill=\"#000000\">gini = 0.017</text>\n<text text-anchor=\"middle\" x=\"953\" y=\"-37.8\" font-family=\"Helvetica,sans-Serif\" font-size=\"14.00\" fill=\"#000000\">samples = 346</text>\n<text text-anchor=\"middle\" x=\"953\" y=\"-22.8\" font-family=\"Helvetica,sans-Serif\" font-size=\"14.00\" fill=\"#000000\">value = [343, 3]</text>\n<text text-anchor=\"middle\" x=\"953\" y=\"-7.8\" font-family=\"Helvetica,sans-Serif\" font-size=\"14.00\" fill=\"#000000\">class = 0</text>\n</g>\n<!-- 12&#45;&gt;14 -->\n<g id=\"edge14\" class=\"edge\">\n<title>12&#45;&gt;14</title>\n<path fill=\"none\" stroke=\"#000000\" d=\"M868.8967,-103.9815C880.3838,-94.4232 892.5897,-84.2668 904.0367,-74.7419\"/>\n<polygon fill=\"#000000\" stroke=\"#000000\" points=\"906.3739,-77.3503 911.8221,-68.2637 901.8965,-71.9695 906.3739,-77.3503\"/>\n</g>\n</g>\n</svg>\n"
          },
          "metadata": {},
          "execution_count": 76
        }
      ]
    },
    {
      "cell_type": "code",
      "metadata": {
        "id": "KBcqSwgwRHEU"
      },
      "source": [
        ""
      ],
      "execution_count": null,
      "outputs": []
    }
  ]
}